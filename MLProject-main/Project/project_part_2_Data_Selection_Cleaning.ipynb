{
 "cells": [
  {
   "cell_type": "markdown",
   "id": "4a68a8af",
   "metadata": {},
   "source": [
    "# PROJECT NOTEBOOK 1: DATA SELECTION FROM BRFSS\n",
    "\n",
    "### Team 3\n",
    "- Anjali Sebastian\n",
    "- Yesha Sharma\n",
    "- Rupansh Phutela\n",
    "\n",
    "### What this Notebook does?\n",
    "- We are selecting relevant features and target columns from the BRFSS (Behavioral Risk Factor Surveillance System) 2019 data downloaded from the CDC.\n",
    "- We then clean the data to remove resposes that were null. \n",
    "- Rename all the columns for better understanding\n",
    "- Write our data to the diabetes.csv file\n",
    "- Read and check if file is written correctly\n",
    "\n",
    "**Note this notebook needs to be run only once to create the dataset**"
   ]
  },
  {
   "cell_type": "markdown",
   "id": "4803b7a7",
   "metadata": {},
   "source": [
    "### 1. Import Packages "
   ]
  },
  {
   "cell_type": "code",
   "execution_count": 1,
   "id": "c26ff6c6",
   "metadata": {},
   "outputs": [],
   "source": [
    "# you need   Python ≥3.5 \n",
    "import sys\n",
    "assert sys.version_info >= (3, 5)"
   ]
  },
  {
   "cell_type": "code",
   "execution_count": 2,
   "id": "adfe978e",
   "metadata": {},
   "outputs": [],
   "source": [
    "# Scikit-Learn ≥0.20 is required\n",
    "import sklearn\n",
    "assert sklearn.__version__ >= \"0.20\""
   ]
  },
  {
   "cell_type": "code",
   "execution_count": 3,
   "id": "d01bbb86",
   "metadata": {},
   "outputs": [],
   "source": [
    "import pandas as pd   \n",
    "import numpy as np    \n",
    "import matplotlib.pyplot as plt \n",
    "import seaborn as sns\n",
    "import time\n",
    "import warnings\n",
    "warnings.filterwarnings(\"ignore\")\n",
    "##############################################\n"
   ]
  },
  {
   "cell_type": "markdown",
   "id": "81bd6872",
   "metadata": {},
   "source": [
    "### 2. Read the Complete BRFSS 2019 data"
   ]
  },
  {
   "cell_type": "code",
   "execution_count": 4,
   "id": "52d782df",
   "metadata": {},
   "outputs": [],
   "source": [
    "# Link to SAS File - https://www.cdc.gov/brfss/annual_data/2019/files/LLCP2019XPT.zip\n",
    "# location outside the git repository file is is too large to be uploaded to git\n",
    "brfss = pd.read_csv('../../BRFSS_2019.csv')"
   ]
  },
  {
   "cell_type": "code",
   "execution_count": 5,
   "id": "6e579c54",
   "metadata": {},
   "outputs": [
    {
     "data": {
      "text/plain": [
       "(418268, 342)"
      ]
     },
     "execution_count": 5,
     "metadata": {},
     "output_type": "execute_result"
    }
   ],
   "source": [
    "brfss.shape"
   ]
  },
  {
   "cell_type": "code",
   "execution_count": 6,
   "id": "71102e47",
   "metadata": {},
   "outputs": [
    {
     "data": {
      "text/html": [
       "<div>\n",
       "<style scoped>\n",
       "    .dataframe tbody tr th:only-of-type {\n",
       "        vertical-align: middle;\n",
       "    }\n",
       "\n",
       "    .dataframe tbody tr th {\n",
       "        vertical-align: top;\n",
       "    }\n",
       "\n",
       "    .dataframe thead th {\n",
       "        text-align: right;\n",
       "    }\n",
       "</style>\n",
       "<table border=\"1\" class=\"dataframe\">\n",
       "  <thead>\n",
       "    <tr style=\"text-align: right;\">\n",
       "      <th></th>\n",
       "      <th>_STATE</th>\n",
       "      <th>FMONTH</th>\n",
       "      <th>IDATE</th>\n",
       "      <th>IMONTH</th>\n",
       "      <th>IDAY</th>\n",
       "      <th>IYEAR</th>\n",
       "      <th>DISPCODE</th>\n",
       "      <th>SEQNO</th>\n",
       "      <th>_PSU</th>\n",
       "      <th>CTELENM1</th>\n",
       "      <th>...</th>\n",
       "      <th>_VEGESU1</th>\n",
       "      <th>_FRTLT1A</th>\n",
       "      <th>_VEGLT1A</th>\n",
       "      <th>_FRT16A</th>\n",
       "      <th>_VEG23A</th>\n",
       "      <th>_FRUITE1</th>\n",
       "      <th>_VEGETE1</th>\n",
       "      <th>_FLSHOT7</th>\n",
       "      <th>_PNEUMO3</th>\n",
       "      <th>_AIDTST4</th>\n",
       "    </tr>\n",
       "  </thead>\n",
       "  <tbody>\n",
       "    <tr>\n",
       "      <th>0</th>\n",
       "      <td>1.0</td>\n",
       "      <td>1.0</td>\n",
       "      <td>1182019</td>\n",
       "      <td>1</td>\n",
       "      <td>18</td>\n",
       "      <td>2019</td>\n",
       "      <td>1100.0</td>\n",
       "      <td>2019000001</td>\n",
       "      <td>2.019000e+09</td>\n",
       "      <td>1.0</td>\n",
       "      <td>...</td>\n",
       "      <td>114.0</td>\n",
       "      <td>1.0</td>\n",
       "      <td>1.0</td>\n",
       "      <td>1.0</td>\n",
       "      <td>1.0</td>\n",
       "      <td>0.0</td>\n",
       "      <td>0.0</td>\n",
       "      <td>2.0</td>\n",
       "      <td>1.0</td>\n",
       "      <td>2.0</td>\n",
       "    </tr>\n",
       "    <tr>\n",
       "      <th>1</th>\n",
       "      <td>1.0</td>\n",
       "      <td>1.0</td>\n",
       "      <td>1132019</td>\n",
       "      <td>1</td>\n",
       "      <td>13</td>\n",
       "      <td>2019</td>\n",
       "      <td>1100.0</td>\n",
       "      <td>2019000002</td>\n",
       "      <td>2.019000e+09</td>\n",
       "      <td>1.0</td>\n",
       "      <td>...</td>\n",
       "      <td>121.0</td>\n",
       "      <td>1.0</td>\n",
       "      <td>1.0</td>\n",
       "      <td>1.0</td>\n",
       "      <td>1.0</td>\n",
       "      <td>0.0</td>\n",
       "      <td>0.0</td>\n",
       "      <td>1.0</td>\n",
       "      <td>1.0</td>\n",
       "      <td>2.0</td>\n",
       "    </tr>\n",
       "    <tr>\n",
       "      <th>2</th>\n",
       "      <td>1.0</td>\n",
       "      <td>1.0</td>\n",
       "      <td>1182019</td>\n",
       "      <td>1</td>\n",
       "      <td>18</td>\n",
       "      <td>2019</td>\n",
       "      <td>1100.0</td>\n",
       "      <td>2019000003</td>\n",
       "      <td>2.019000e+09</td>\n",
       "      <td>1.0</td>\n",
       "      <td>...</td>\n",
       "      <td>164.0</td>\n",
       "      <td>1.0</td>\n",
       "      <td>1.0</td>\n",
       "      <td>1.0</td>\n",
       "      <td>1.0</td>\n",
       "      <td>0.0</td>\n",
       "      <td>0.0</td>\n",
       "      <td>1.0</td>\n",
       "      <td>2.0</td>\n",
       "      <td>2.0</td>\n",
       "    </tr>\n",
       "    <tr>\n",
       "      <th>3</th>\n",
       "      <td>1.0</td>\n",
       "      <td>1.0</td>\n",
       "      <td>1182019</td>\n",
       "      <td>1</td>\n",
       "      <td>18</td>\n",
       "      <td>2019</td>\n",
       "      <td>1200.0</td>\n",
       "      <td>2019000004</td>\n",
       "      <td>2.019000e+09</td>\n",
       "      <td>1.0</td>\n",
       "      <td>...</td>\n",
       "      <td>NaN</td>\n",
       "      <td>9.0</td>\n",
       "      <td>9.0</td>\n",
       "      <td>1.0</td>\n",
       "      <td>1.0</td>\n",
       "      <td>1.0</td>\n",
       "      <td>1.0</td>\n",
       "      <td>9.0</td>\n",
       "      <td>9.0</td>\n",
       "      <td>NaN</td>\n",
       "    </tr>\n",
       "    <tr>\n",
       "      <th>4</th>\n",
       "      <td>1.0</td>\n",
       "      <td>1.0</td>\n",
       "      <td>1042019</td>\n",
       "      <td>1</td>\n",
       "      <td>4</td>\n",
       "      <td>2019</td>\n",
       "      <td>1100.0</td>\n",
       "      <td>2019000005</td>\n",
       "      <td>2.019000e+09</td>\n",
       "      <td>1.0</td>\n",
       "      <td>...</td>\n",
       "      <td>178.0</td>\n",
       "      <td>1.0</td>\n",
       "      <td>1.0</td>\n",
       "      <td>1.0</td>\n",
       "      <td>1.0</td>\n",
       "      <td>0.0</td>\n",
       "      <td>0.0</td>\n",
       "      <td>2.0</td>\n",
       "      <td>1.0</td>\n",
       "      <td>2.0</td>\n",
       "    </tr>\n",
       "  </tbody>\n",
       "</table>\n",
       "<p>5 rows × 342 columns</p>\n",
       "</div>"
      ],
      "text/plain": [
       "   _STATE  FMONTH    IDATE  IMONTH  IDAY  IYEAR  DISPCODE       SEQNO  \\\n",
       "0     1.0     1.0  1182019       1    18   2019    1100.0  2019000001   \n",
       "1     1.0     1.0  1132019       1    13   2019    1100.0  2019000002   \n",
       "2     1.0     1.0  1182019       1    18   2019    1100.0  2019000003   \n",
       "3     1.0     1.0  1182019       1    18   2019    1200.0  2019000004   \n",
       "4     1.0     1.0  1042019       1     4   2019    1100.0  2019000005   \n",
       "\n",
       "           _PSU  CTELENM1  ...  _VEGESU1  _FRTLT1A  _VEGLT1A  _FRT16A  \\\n",
       "0  2.019000e+09       1.0  ...     114.0       1.0       1.0      1.0   \n",
       "1  2.019000e+09       1.0  ...     121.0       1.0       1.0      1.0   \n",
       "2  2.019000e+09       1.0  ...     164.0       1.0       1.0      1.0   \n",
       "3  2.019000e+09       1.0  ...       NaN       9.0       9.0      1.0   \n",
       "4  2.019000e+09       1.0  ...     178.0       1.0       1.0      1.0   \n",
       "\n",
       "   _VEG23A  _FRUITE1  _VEGETE1  _FLSHOT7  _PNEUMO3  _AIDTST4  \n",
       "0      1.0       0.0       0.0       2.0       1.0       2.0  \n",
       "1      1.0       0.0       0.0       1.0       1.0       2.0  \n",
       "2      1.0       0.0       0.0       1.0       2.0       2.0  \n",
       "3      1.0       1.0       1.0       9.0       9.0       NaN  \n",
       "4      1.0       0.0       0.0       2.0       1.0       2.0  \n",
       "\n",
       "[5 rows x 342 columns]"
      ]
     },
     "execution_count": 6,
     "metadata": {},
     "output_type": "execute_result"
    }
   ],
   "source": [
    "brfss.head()"
   ]
  },
  {
   "cell_type": "code",
   "execution_count": 7,
   "id": "fdcc473f",
   "metadata": {},
   "outputs": [
    {
     "data": {
      "text/html": [
       "<div>\n",
       "<style scoped>\n",
       "    .dataframe tbody tr th:only-of-type {\n",
       "        vertical-align: middle;\n",
       "    }\n",
       "\n",
       "    .dataframe tbody tr th {\n",
       "        vertical-align: top;\n",
       "    }\n",
       "\n",
       "    .dataframe thead th {\n",
       "        text-align: right;\n",
       "    }\n",
       "</style>\n",
       "<table border=\"1\" class=\"dataframe\">\n",
       "  <thead>\n",
       "    <tr style=\"text-align: right;\">\n",
       "      <th></th>\n",
       "      <th>_STATE</th>\n",
       "      <th>FMONTH</th>\n",
       "      <th>IDATE</th>\n",
       "      <th>IMONTH</th>\n",
       "      <th>IDAY</th>\n",
       "      <th>IYEAR</th>\n",
       "      <th>DISPCODE</th>\n",
       "      <th>SEQNO</th>\n",
       "      <th>_PSU</th>\n",
       "      <th>CTELENM1</th>\n",
       "      <th>...</th>\n",
       "      <th>_VEGESU1</th>\n",
       "      <th>_FRTLT1A</th>\n",
       "      <th>_VEGLT1A</th>\n",
       "      <th>_FRT16A</th>\n",
       "      <th>_VEG23A</th>\n",
       "      <th>_FRUITE1</th>\n",
       "      <th>_VEGETE1</th>\n",
       "      <th>_FLSHOT7</th>\n",
       "      <th>_PNEUMO3</th>\n",
       "      <th>_AIDTST4</th>\n",
       "    </tr>\n",
       "  </thead>\n",
       "  <tbody>\n",
       "    <tr>\n",
       "      <th>418263</th>\n",
       "      <td>72.0</td>\n",
       "      <td>9.0</td>\n",
       "      <td>3152020</td>\n",
       "      <td>3</td>\n",
       "      <td>15</td>\n",
       "      <td>2020</td>\n",
       "      <td>1100.0</td>\n",
       "      <td>2019006029</td>\n",
       "      <td>2.019006e+09</td>\n",
       "      <td>NaN</td>\n",
       "      <td>...</td>\n",
       "      <td>43.0</td>\n",
       "      <td>1.0</td>\n",
       "      <td>2.0</td>\n",
       "      <td>1.0</td>\n",
       "      <td>1.0</td>\n",
       "      <td>0.0</td>\n",
       "      <td>0.0</td>\n",
       "      <td>2.0</td>\n",
       "      <td>2.0</td>\n",
       "      <td>2.0</td>\n",
       "    </tr>\n",
       "    <tr>\n",
       "      <th>418264</th>\n",
       "      <td>72.0</td>\n",
       "      <td>9.0</td>\n",
       "      <td>3082020</td>\n",
       "      <td>3</td>\n",
       "      <td>8</td>\n",
       "      <td>2020</td>\n",
       "      <td>1100.0</td>\n",
       "      <td>2019006030</td>\n",
       "      <td>2.019006e+09</td>\n",
       "      <td>NaN</td>\n",
       "      <td>...</td>\n",
       "      <td>142.0</td>\n",
       "      <td>1.0</td>\n",
       "      <td>1.0</td>\n",
       "      <td>1.0</td>\n",
       "      <td>1.0</td>\n",
       "      <td>0.0</td>\n",
       "      <td>0.0</td>\n",
       "      <td>NaN</td>\n",
       "      <td>NaN</td>\n",
       "      <td>2.0</td>\n",
       "    </tr>\n",
       "    <tr>\n",
       "      <th>418265</th>\n",
       "      <td>72.0</td>\n",
       "      <td>9.0</td>\n",
       "      <td>3102020</td>\n",
       "      <td>3</td>\n",
       "      <td>10</td>\n",
       "      <td>2020</td>\n",
       "      <td>1100.0</td>\n",
       "      <td>2019006031</td>\n",
       "      <td>2.019006e+09</td>\n",
       "      <td>NaN</td>\n",
       "      <td>...</td>\n",
       "      <td>55.0</td>\n",
       "      <td>1.0</td>\n",
       "      <td>2.0</td>\n",
       "      <td>1.0</td>\n",
       "      <td>1.0</td>\n",
       "      <td>0.0</td>\n",
       "      <td>0.0</td>\n",
       "      <td>NaN</td>\n",
       "      <td>NaN</td>\n",
       "      <td>1.0</td>\n",
       "    </tr>\n",
       "    <tr>\n",
       "      <th>418266</th>\n",
       "      <td>72.0</td>\n",
       "      <td>9.0</td>\n",
       "      <td>3062020</td>\n",
       "      <td>3</td>\n",
       "      <td>6</td>\n",
       "      <td>2020</td>\n",
       "      <td>1100.0</td>\n",
       "      <td>2019006032</td>\n",
       "      <td>2.019006e+09</td>\n",
       "      <td>NaN</td>\n",
       "      <td>...</td>\n",
       "      <td>214.0</td>\n",
       "      <td>1.0</td>\n",
       "      <td>1.0</td>\n",
       "      <td>1.0</td>\n",
       "      <td>1.0</td>\n",
       "      <td>0.0</td>\n",
       "      <td>0.0</td>\n",
       "      <td>2.0</td>\n",
       "      <td>2.0</td>\n",
       "      <td>2.0</td>\n",
       "    </tr>\n",
       "    <tr>\n",
       "      <th>418267</th>\n",
       "      <td>72.0</td>\n",
       "      <td>9.0</td>\n",
       "      <td>3052020</td>\n",
       "      <td>3</td>\n",
       "      <td>5</td>\n",
       "      <td>2020</td>\n",
       "      <td>1100.0</td>\n",
       "      <td>2019006033</td>\n",
       "      <td>2.019006e+09</td>\n",
       "      <td>NaN</td>\n",
       "      <td>...</td>\n",
       "      <td>229.0</td>\n",
       "      <td>1.0</td>\n",
       "      <td>1.0</td>\n",
       "      <td>1.0</td>\n",
       "      <td>1.0</td>\n",
       "      <td>0.0</td>\n",
       "      <td>0.0</td>\n",
       "      <td>NaN</td>\n",
       "      <td>NaN</td>\n",
       "      <td>2.0</td>\n",
       "    </tr>\n",
       "  </tbody>\n",
       "</table>\n",
       "<p>5 rows × 342 columns</p>\n",
       "</div>"
      ],
      "text/plain": [
       "        _STATE  FMONTH    IDATE  IMONTH  IDAY  IYEAR  DISPCODE       SEQNO  \\\n",
       "418263    72.0     9.0  3152020       3    15   2020    1100.0  2019006029   \n",
       "418264    72.0     9.0  3082020       3     8   2020    1100.0  2019006030   \n",
       "418265    72.0     9.0  3102020       3    10   2020    1100.0  2019006031   \n",
       "418266    72.0     9.0  3062020       3     6   2020    1100.0  2019006032   \n",
       "418267    72.0     9.0  3052020       3     5   2020    1100.0  2019006033   \n",
       "\n",
       "                _PSU  CTELENM1  ...  _VEGESU1  _FRTLT1A  _VEGLT1A  _FRT16A  \\\n",
       "418263  2.019006e+09       NaN  ...      43.0       1.0       2.0      1.0   \n",
       "418264  2.019006e+09       NaN  ...     142.0       1.0       1.0      1.0   \n",
       "418265  2.019006e+09       NaN  ...      55.0       1.0       2.0      1.0   \n",
       "418266  2.019006e+09       NaN  ...     214.0       1.0       1.0      1.0   \n",
       "418267  2.019006e+09       NaN  ...     229.0       1.0       1.0      1.0   \n",
       "\n",
       "        _VEG23A  _FRUITE1  _VEGETE1  _FLSHOT7  _PNEUMO3  _AIDTST4  \n",
       "418263      1.0       0.0       0.0       2.0       2.0       2.0  \n",
       "418264      1.0       0.0       0.0       NaN       NaN       2.0  \n",
       "418265      1.0       0.0       0.0       NaN       NaN       1.0  \n",
       "418266      1.0       0.0       0.0       2.0       2.0       2.0  \n",
       "418267      1.0       0.0       0.0       NaN       NaN       2.0  \n",
       "\n",
       "[5 rows x 342 columns]"
      ]
     },
     "execution_count": 7,
     "metadata": {},
     "output_type": "execute_result"
    }
   ],
   "source": [
    "brfss.tail()"
   ]
  },
  {
   "cell_type": "markdown",
   "id": "8bc13570",
   "metadata": {},
   "source": [
    "Note: We can see that the complete brfss dataset has about 0.4 million records and 342 columns. We are only interested in the columns related to the prediction of diabetes in individuals. The current column names are based on a code book that the CDC maintains. We will selected relavent columns using the code book to map key indicator as mentioned in Project 1 report.\n",
    "- Link to code book: https://www.cdc.gov/brfss/annual_data/annual_2019.html\n",
    "- Link to reference: https://www.kaggle.com/alexteboul/diabetes-health-indicators-dataset-notebook "
   ]
  },
  {
   "cell_type": "markdown",
   "id": "c63d38ac",
   "metadata": {},
   "source": [
    "### 3. Selecting Relevant Columns from BRFSS Data"
   ]
  },
  {
   "cell_type": "code",
   "execution_count": 8,
   "id": "31801dd7",
   "metadata": {},
   "outputs": [],
   "source": [
    "cols_to_select = [\"DIABETE4\",\"_BMI5\",\"_STATE\", # target variable\n",
    "                 \"_RFHYPE5\",\"TOLDHI2\",\"_CHOLCH2\", # BP and cholestrol\n",
    "                 \"_FRTLT1A\",\"_VEGLT1A\", \"SMOKE100\",\"_RFDRHV7\", # Food, alcohol and smoking\n",
    "                 \"CVDSTRK3\",\"_MICHD\", # chronic diseases \n",
    "                 \"HLTHPLN1\",\"MEDCOST\", # Insurance and medical access\n",
    "                 \"_TOTINDA\",\"GENHLTH\",\"PHYSHLTH\",\"MENTHLTH\",\"DIFFWALK\", #Fitness and activity \n",
    "                 \"SEXVAR\",\"_AGEG5YR\",\"EDUCA\",\"INCOME2\"] # demographic        "
   ]
  },
  {
   "cell_type": "code",
   "execution_count": 9,
   "id": "d36cf142",
   "metadata": {},
   "outputs": [
    {
     "name": "stdout",
     "output_type": "stream",
     "text": [
      "<class 'pandas.core.frame.DataFrame'>\n",
      "RangeIndex: 418268 entries, 0 to 418267\n",
      "Data columns (total 23 columns):\n",
      " #   Column    Non-Null Count   Dtype  \n",
      "---  ------    --------------   -----  \n",
      " 0   DIABETE4  418259 non-null  float64\n",
      " 1   _BMI5     382065 non-null  float64\n",
      " 2   _STATE    418268 non-null  float64\n",
      " 3   _RFHYPE5  418268 non-null  float64\n",
      " 4   TOLDHI2   393825 non-null  float64\n",
      " 5   _CHOLCH2  418268 non-null  float64\n",
      " 6   _FRTLT1A  418268 non-null  float64\n",
      " 7   _VEGLT1A  418268 non-null  float64\n",
      " 8   SMOKE100  402277 non-null  float64\n",
      " 9   _RFDRHV7  418268 non-null  float64\n",
      " 10  CVDSTRK3  418257 non-null  float64\n",
      " 11  _MICHD    413943 non-null  float64\n",
      " 12  HLTHPLN1  418259 non-null  float64\n",
      " 13  MEDCOST   418261 non-null  float64\n",
      " 14  _TOTINDA  418268 non-null  float64\n",
      " 15  GENHLTH   418242 non-null  float64\n",
      " 16  PHYSHLTH  418236 non-null  float64\n",
      " 17  MENTHLTH  418249 non-null  float64\n",
      " 18  DIFFWALK  404506 non-null  float64\n",
      " 19  SEXVAR    418268 non-null  float64\n",
      " 20  _AGEG5YR  418268 non-null  float64\n",
      " 21  EDUCA     418242 non-null  float64\n",
      " 22  INCOME2   411387 non-null  float64\n",
      "dtypes: float64(23)\n",
      "memory usage: 73.4 MB\n"
     ]
    }
   ],
   "source": [
    "brfss_cut = brfss.loc[:,cols_to_select]\n",
    "brfss_cut.info()"
   ]
  },
  {
   "cell_type": "code",
   "execution_count": 10,
   "id": "bd11dd49",
   "metadata": {},
   "outputs": [
    {
     "data": {
      "text/plain": [
       "(418268, 23)"
      ]
     },
     "execution_count": 10,
     "metadata": {},
     "output_type": "execute_result"
    }
   ],
   "source": [
    "brfss_cut.shape"
   ]
  },
  {
   "cell_type": "code",
   "execution_count": 11,
   "id": "8f5066a1",
   "metadata": {},
   "outputs": [
    {
     "data": {
      "text/html": [
       "<div>\n",
       "<style scoped>\n",
       "    .dataframe tbody tr th:only-of-type {\n",
       "        vertical-align: middle;\n",
       "    }\n",
       "\n",
       "    .dataframe tbody tr th {\n",
       "        vertical-align: top;\n",
       "    }\n",
       "\n",
       "    .dataframe thead th {\n",
       "        text-align: right;\n",
       "    }\n",
       "</style>\n",
       "<table border=\"1\" class=\"dataframe\">\n",
       "  <thead>\n",
       "    <tr style=\"text-align: right;\">\n",
       "      <th></th>\n",
       "      <th>DIABETE4</th>\n",
       "      <th>_BMI5</th>\n",
       "      <th>_STATE</th>\n",
       "      <th>_RFHYPE5</th>\n",
       "      <th>TOLDHI2</th>\n",
       "      <th>_CHOLCH2</th>\n",
       "      <th>_FRTLT1A</th>\n",
       "      <th>_VEGLT1A</th>\n",
       "      <th>SMOKE100</th>\n",
       "      <th>_RFDRHV7</th>\n",
       "      <th>...</th>\n",
       "      <th>MEDCOST</th>\n",
       "      <th>_TOTINDA</th>\n",
       "      <th>GENHLTH</th>\n",
       "      <th>PHYSHLTH</th>\n",
       "      <th>MENTHLTH</th>\n",
       "      <th>DIFFWALK</th>\n",
       "      <th>SEXVAR</th>\n",
       "      <th>_AGEG5YR</th>\n",
       "      <th>EDUCA</th>\n",
       "      <th>INCOME2</th>\n",
       "    </tr>\n",
       "  </thead>\n",
       "  <tbody>\n",
       "    <tr>\n",
       "      <th>0</th>\n",
       "      <td>3.0</td>\n",
       "      <td>2817.0</td>\n",
       "      <td>1.0</td>\n",
       "      <td>2.0</td>\n",
       "      <td>1.0</td>\n",
       "      <td>1.0</td>\n",
       "      <td>1.0</td>\n",
       "      <td>1.0</td>\n",
       "      <td>1.0</td>\n",
       "      <td>1.0</td>\n",
       "      <td>...</td>\n",
       "      <td>2.0</td>\n",
       "      <td>2.0</td>\n",
       "      <td>3.0</td>\n",
       "      <td>15.0</td>\n",
       "      <td>88.0</td>\n",
       "      <td>1.0</td>\n",
       "      <td>2.0</td>\n",
       "      <td>13.0</td>\n",
       "      <td>3.0</td>\n",
       "      <td>3.0</td>\n",
       "    </tr>\n",
       "    <tr>\n",
       "      <th>1</th>\n",
       "      <td>3.0</td>\n",
       "      <td>1854.0</td>\n",
       "      <td>1.0</td>\n",
       "      <td>1.0</td>\n",
       "      <td>2.0</td>\n",
       "      <td>1.0</td>\n",
       "      <td>1.0</td>\n",
       "      <td>1.0</td>\n",
       "      <td>2.0</td>\n",
       "      <td>1.0</td>\n",
       "      <td>...</td>\n",
       "      <td>2.0</td>\n",
       "      <td>1.0</td>\n",
       "      <td>4.0</td>\n",
       "      <td>10.0</td>\n",
       "      <td>88.0</td>\n",
       "      <td>2.0</td>\n",
       "      <td>2.0</td>\n",
       "      <td>11.0</td>\n",
       "      <td>5.0</td>\n",
       "      <td>5.0</td>\n",
       "    </tr>\n",
       "    <tr>\n",
       "      <th>2</th>\n",
       "      <td>1.0</td>\n",
       "      <td>3162.0</td>\n",
       "      <td>1.0</td>\n",
       "      <td>2.0</td>\n",
       "      <td>2.0</td>\n",
       "      <td>1.0</td>\n",
       "      <td>1.0</td>\n",
       "      <td>1.0</td>\n",
       "      <td>2.0</td>\n",
       "      <td>1.0</td>\n",
       "      <td>...</td>\n",
       "      <td>2.0</td>\n",
       "      <td>1.0</td>\n",
       "      <td>3.0</td>\n",
       "      <td>88.0</td>\n",
       "      <td>30.0</td>\n",
       "      <td>1.0</td>\n",
       "      <td>2.0</td>\n",
       "      <td>10.0</td>\n",
       "      <td>6.0</td>\n",
       "      <td>7.0</td>\n",
       "    </tr>\n",
       "    <tr>\n",
       "      <th>3</th>\n",
       "      <td>3.0</td>\n",
       "      <td>2030.0</td>\n",
       "      <td>1.0</td>\n",
       "      <td>2.0</td>\n",
       "      <td>2.0</td>\n",
       "      <td>1.0</td>\n",
       "      <td>9.0</td>\n",
       "      <td>9.0</td>\n",
       "      <td>NaN</td>\n",
       "      <td>9.0</td>\n",
       "      <td>...</td>\n",
       "      <td>2.0</td>\n",
       "      <td>9.0</td>\n",
       "      <td>4.0</td>\n",
       "      <td>30.0</td>\n",
       "      <td>88.0</td>\n",
       "      <td>NaN</td>\n",
       "      <td>2.0</td>\n",
       "      <td>13.0</td>\n",
       "      <td>5.0</td>\n",
       "      <td>6.0</td>\n",
       "    </tr>\n",
       "    <tr>\n",
       "      <th>4</th>\n",
       "      <td>3.0</td>\n",
       "      <td>2148.0</td>\n",
       "      <td>1.0</td>\n",
       "      <td>1.0</td>\n",
       "      <td>1.0</td>\n",
       "      <td>1.0</td>\n",
       "      <td>1.0</td>\n",
       "      <td>1.0</td>\n",
       "      <td>1.0</td>\n",
       "      <td>1.0</td>\n",
       "      <td>...</td>\n",
       "      <td>2.0</td>\n",
       "      <td>2.0</td>\n",
       "      <td>2.0</td>\n",
       "      <td>88.0</td>\n",
       "      <td>88.0</td>\n",
       "      <td>2.0</td>\n",
       "      <td>2.0</td>\n",
       "      <td>13.0</td>\n",
       "      <td>5.0</td>\n",
       "      <td>99.0</td>\n",
       "    </tr>\n",
       "  </tbody>\n",
       "</table>\n",
       "<p>5 rows × 23 columns</p>\n",
       "</div>"
      ],
      "text/plain": [
       "   DIABETE4   _BMI5  _STATE  _RFHYPE5  TOLDHI2  _CHOLCH2  _FRTLT1A  _VEGLT1A  \\\n",
       "0       3.0  2817.0     1.0       2.0      1.0       1.0       1.0       1.0   \n",
       "1       3.0  1854.0     1.0       1.0      2.0       1.0       1.0       1.0   \n",
       "2       1.0  3162.0     1.0       2.0      2.0       1.0       1.0       1.0   \n",
       "3       3.0  2030.0     1.0       2.0      2.0       1.0       9.0       9.0   \n",
       "4       3.0  2148.0     1.0       1.0      1.0       1.0       1.0       1.0   \n",
       "\n",
       "   SMOKE100  _RFDRHV7  ...  MEDCOST  _TOTINDA  GENHLTH  PHYSHLTH  MENTHLTH  \\\n",
       "0       1.0       1.0  ...      2.0       2.0      3.0      15.0      88.0   \n",
       "1       2.0       1.0  ...      2.0       1.0      4.0      10.0      88.0   \n",
       "2       2.0       1.0  ...      2.0       1.0      3.0      88.0      30.0   \n",
       "3       NaN       9.0  ...      2.0       9.0      4.0      30.0      88.0   \n",
       "4       1.0       1.0  ...      2.0       2.0      2.0      88.0      88.0   \n",
       "\n",
       "   DIFFWALK  SEXVAR  _AGEG5YR  EDUCA  INCOME2  \n",
       "0       1.0     2.0      13.0    3.0      3.0  \n",
       "1       2.0     2.0      11.0    5.0      5.0  \n",
       "2       1.0     2.0      10.0    6.0      7.0  \n",
       "3       NaN     2.0      13.0    5.0      6.0  \n",
       "4       2.0     2.0      13.0    5.0     99.0  \n",
       "\n",
       "[5 rows x 23 columns]"
      ]
     },
     "execution_count": 11,
     "metadata": {},
     "output_type": "execute_result"
    }
   ],
   "source": [
    "brfss_cut.head()"
   ]
  },
  {
   "cell_type": "code",
   "execution_count": 12,
   "id": "cf3e4d5c",
   "metadata": {},
   "outputs": [
    {
     "data": {
      "text/html": [
       "<div>\n",
       "<style scoped>\n",
       "    .dataframe tbody tr th:only-of-type {\n",
       "        vertical-align: middle;\n",
       "    }\n",
       "\n",
       "    .dataframe tbody tr th {\n",
       "        vertical-align: top;\n",
       "    }\n",
       "\n",
       "    .dataframe thead th {\n",
       "        text-align: right;\n",
       "    }\n",
       "</style>\n",
       "<table border=\"1\" class=\"dataframe\">\n",
       "  <thead>\n",
       "    <tr style=\"text-align: right;\">\n",
       "      <th></th>\n",
       "      <th>DIABETE4</th>\n",
       "      <th>_BMI5</th>\n",
       "      <th>_STATE</th>\n",
       "      <th>_RFHYPE5</th>\n",
       "      <th>TOLDHI2</th>\n",
       "      <th>_CHOLCH2</th>\n",
       "      <th>_FRTLT1A</th>\n",
       "      <th>_VEGLT1A</th>\n",
       "      <th>SMOKE100</th>\n",
       "      <th>_RFDRHV7</th>\n",
       "      <th>...</th>\n",
       "      <th>MEDCOST</th>\n",
       "      <th>_TOTINDA</th>\n",
       "      <th>GENHLTH</th>\n",
       "      <th>PHYSHLTH</th>\n",
       "      <th>MENTHLTH</th>\n",
       "      <th>DIFFWALK</th>\n",
       "      <th>SEXVAR</th>\n",
       "      <th>_AGEG5YR</th>\n",
       "      <th>EDUCA</th>\n",
       "      <th>INCOME2</th>\n",
       "    </tr>\n",
       "  </thead>\n",
       "  <tbody>\n",
       "    <tr>\n",
       "      <th>418263</th>\n",
       "      <td>1.0</td>\n",
       "      <td>2717.0</td>\n",
       "      <td>72.0</td>\n",
       "      <td>2.0</td>\n",
       "      <td>2.0</td>\n",
       "      <td>1.0</td>\n",
       "      <td>1.0</td>\n",
       "      <td>2.0</td>\n",
       "      <td>2.0</td>\n",
       "      <td>1.0</td>\n",
       "      <td>...</td>\n",
       "      <td>2.0</td>\n",
       "      <td>2.0</td>\n",
       "      <td>3.0</td>\n",
       "      <td>88.0</td>\n",
       "      <td>88.0</td>\n",
       "      <td>2.0</td>\n",
       "      <td>1.0</td>\n",
       "      <td>10.0</td>\n",
       "      <td>4.0</td>\n",
       "      <td>1.0</td>\n",
       "    </tr>\n",
       "    <tr>\n",
       "      <th>418264</th>\n",
       "      <td>3.0</td>\n",
       "      <td>2852.0</td>\n",
       "      <td>72.0</td>\n",
       "      <td>1.0</td>\n",
       "      <td>2.0</td>\n",
       "      <td>1.0</td>\n",
       "      <td>1.0</td>\n",
       "      <td>1.0</td>\n",
       "      <td>2.0</td>\n",
       "      <td>1.0</td>\n",
       "      <td>...</td>\n",
       "      <td>2.0</td>\n",
       "      <td>1.0</td>\n",
       "      <td>2.0</td>\n",
       "      <td>88.0</td>\n",
       "      <td>88.0</td>\n",
       "      <td>2.0</td>\n",
       "      <td>2.0</td>\n",
       "      <td>7.0</td>\n",
       "      <td>3.0</td>\n",
       "      <td>1.0</td>\n",
       "    </tr>\n",
       "    <tr>\n",
       "      <th>418265</th>\n",
       "      <td>3.0</td>\n",
       "      <td>3175.0</td>\n",
       "      <td>72.0</td>\n",
       "      <td>1.0</td>\n",
       "      <td>1.0</td>\n",
       "      <td>1.0</td>\n",
       "      <td>1.0</td>\n",
       "      <td>2.0</td>\n",
       "      <td>2.0</td>\n",
       "      <td>1.0</td>\n",
       "      <td>...</td>\n",
       "      <td>2.0</td>\n",
       "      <td>1.0</td>\n",
       "      <td>2.0</td>\n",
       "      <td>88.0</td>\n",
       "      <td>5.0</td>\n",
       "      <td>2.0</td>\n",
       "      <td>2.0</td>\n",
       "      <td>1.0</td>\n",
       "      <td>4.0</td>\n",
       "      <td>3.0</td>\n",
       "    </tr>\n",
       "    <tr>\n",
       "      <th>418266</th>\n",
       "      <td>3.0</td>\n",
       "      <td>2378.0</td>\n",
       "      <td>72.0</td>\n",
       "      <td>1.0</td>\n",
       "      <td>1.0</td>\n",
       "      <td>1.0</td>\n",
       "      <td>1.0</td>\n",
       "      <td>1.0</td>\n",
       "      <td>2.0</td>\n",
       "      <td>1.0</td>\n",
       "      <td>...</td>\n",
       "      <td>2.0</td>\n",
       "      <td>1.0</td>\n",
       "      <td>3.0</td>\n",
       "      <td>88.0</td>\n",
       "      <td>88.0</td>\n",
       "      <td>2.0</td>\n",
       "      <td>2.0</td>\n",
       "      <td>11.0</td>\n",
       "      <td>4.0</td>\n",
       "      <td>99.0</td>\n",
       "    </tr>\n",
       "    <tr>\n",
       "      <th>418267</th>\n",
       "      <td>3.0</td>\n",
       "      <td>1997.0</td>\n",
       "      <td>72.0</td>\n",
       "      <td>1.0</td>\n",
       "      <td>2.0</td>\n",
       "      <td>1.0</td>\n",
       "      <td>1.0</td>\n",
       "      <td>1.0</td>\n",
       "      <td>2.0</td>\n",
       "      <td>1.0</td>\n",
       "      <td>...</td>\n",
       "      <td>2.0</td>\n",
       "      <td>1.0</td>\n",
       "      <td>3.0</td>\n",
       "      <td>88.0</td>\n",
       "      <td>88.0</td>\n",
       "      <td>2.0</td>\n",
       "      <td>2.0</td>\n",
       "      <td>5.0</td>\n",
       "      <td>6.0</td>\n",
       "      <td>8.0</td>\n",
       "    </tr>\n",
       "  </tbody>\n",
       "</table>\n",
       "<p>5 rows × 23 columns</p>\n",
       "</div>"
      ],
      "text/plain": [
       "        DIABETE4   _BMI5  _STATE  _RFHYPE5  TOLDHI2  _CHOLCH2  _FRTLT1A  \\\n",
       "418263       1.0  2717.0    72.0       2.0      2.0       1.0       1.0   \n",
       "418264       3.0  2852.0    72.0       1.0      2.0       1.0       1.0   \n",
       "418265       3.0  3175.0    72.0       1.0      1.0       1.0       1.0   \n",
       "418266       3.0  2378.0    72.0       1.0      1.0       1.0       1.0   \n",
       "418267       3.0  1997.0    72.0       1.0      2.0       1.0       1.0   \n",
       "\n",
       "        _VEGLT1A  SMOKE100  _RFDRHV7  ...  MEDCOST  _TOTINDA  GENHLTH  \\\n",
       "418263       2.0       2.0       1.0  ...      2.0       2.0      3.0   \n",
       "418264       1.0       2.0       1.0  ...      2.0       1.0      2.0   \n",
       "418265       2.0       2.0       1.0  ...      2.0       1.0      2.0   \n",
       "418266       1.0       2.0       1.0  ...      2.0       1.0      3.0   \n",
       "418267       1.0       2.0       1.0  ...      2.0       1.0      3.0   \n",
       "\n",
       "        PHYSHLTH  MENTHLTH  DIFFWALK  SEXVAR  _AGEG5YR  EDUCA  INCOME2  \n",
       "418263      88.0      88.0       2.0     1.0      10.0    4.0      1.0  \n",
       "418264      88.0      88.0       2.0     2.0       7.0    3.0      1.0  \n",
       "418265      88.0       5.0       2.0     2.0       1.0    4.0      3.0  \n",
       "418266      88.0      88.0       2.0     2.0      11.0    4.0     99.0  \n",
       "418267      88.0      88.0       2.0     2.0       5.0    6.0      8.0  \n",
       "\n",
       "[5 rows x 23 columns]"
      ]
     },
     "execution_count": 12,
     "metadata": {},
     "output_type": "execute_result"
    }
   ],
   "source": [
    "brfss_cut.tail()"
   ]
  },
  {
   "cell_type": "markdown",
   "id": "af1bda5b",
   "metadata": {},
   "source": [
    "### 3. Clean Data\n",
    "- Drop missing values\n",
    "- Modify and clean the values to be more suitable to ML algorithms\n",
    "- Rename Columns for clarity"
   ]
  },
  {
   "cell_type": "markdown",
   "id": "0326a145",
   "metadata": {},
   "source": [
    "#### 3.0 Drop all Null Values"
   ]
  },
  {
   "cell_type": "code",
   "execution_count": 13,
   "id": "f9fe48ef",
   "metadata": {},
   "outputs": [
    {
     "data": {
      "text/plain": [
       "(351875, 23)"
      ]
     },
     "execution_count": 13,
     "metadata": {},
     "output_type": "execute_result"
    }
   ],
   "source": [
    "brfss_cut=brfss_cut.dropna()\n",
    "brfss_cut.shape"
   ]
  },
  {
   "cell_type": "code",
   "execution_count": 14,
   "id": "06583924",
   "metadata": {},
   "outputs": [],
   "source": [
    "brfss_df_selected = brfss_cut.copy(deep=True)"
   ]
  },
  {
   "cell_type": "markdown",
   "id": "4a415442",
   "metadata": {},
   "source": [
    "#### 3.1 DIABETE4\n",
    "- Making this a Boolean Binary. \n",
    "- 0 is for No Diabetes or only during pregnancy or prediabetes.\n",
    "- 1 is for diabetes \n",
    "- Remove all 7 (dont knows)\n",
    "- Remove all 9 (refused)"
   ]
  },
  {
   "cell_type": "code",
   "execution_count": 15,
   "id": "7d5fcb23",
   "metadata": {},
   "outputs": [
    {
     "data": {
      "text/plain": [
       "3.0    289626\n",
       "1.0     50713\n",
       "4.0      8053\n",
       "2.0      3019\n",
       "7.0       412\n",
       "9.0        52\n",
       "Name: DIABETE4, dtype: int64"
      ]
     },
     "execution_count": 15,
     "metadata": {},
     "output_type": "execute_result"
    }
   ],
   "source": [
    "brfss_df_selected['DIABETE4'].value_counts()"
   ]
  },
  {
   "cell_type": "code",
   "execution_count": 16,
   "id": "178c0705",
   "metadata": {},
   "outputs": [
    {
     "data": {
      "text/plain": [
       "array([0., 1.])"
      ]
     },
     "execution_count": 16,
     "metadata": {},
     "output_type": "execute_result"
    }
   ],
   "source": [
    "brfss_df_selected['DIABETE4'] = brfss_df_selected['DIABETE4'].replace({2:0, 3:0, 4:0, 1:1})\n",
    "brfss_df_selected = brfss_df_selected[brfss_df_selected.DIABETE4 != 7]\n",
    "brfss_df_selected = brfss_df_selected[brfss_df_selected.DIABETE4 != 9]\n",
    "brfss_df_selected.DIABETE4.unique()"
   ]
  },
  {
   "cell_type": "code",
   "execution_count": 17,
   "id": "9dfe8af5",
   "metadata": {},
   "outputs": [
    {
     "data": {
      "text/plain": [
       "0.0    300698\n",
       "1.0     50713\n",
       "Name: DIABETE4, dtype: int64"
      ]
     },
     "execution_count": 17,
     "metadata": {},
     "output_type": "execute_result"
    }
   ],
   "source": [
    "brfss_df_selected['DIABETE4'].value_counts()"
   ]
  },
  {
   "cell_type": "markdown",
   "id": "f3a45f12",
   "metadata": {},
   "source": [
    "#### 3.2 _BMI5\n",
    "- no changes, just note that these are BMI * 100. So for example a BMI of 4018 is really 40.18"
   ]
  },
  {
   "cell_type": "code",
   "execution_count": 18,
   "id": "6e0af176",
   "metadata": {},
   "outputs": [
    {
     "data": {
      "text/plain": [
       "array([28.17, 18.54, 31.62, ..., 52.16, 51.9 , 58.89])"
      ]
     },
     "execution_count": 18,
     "metadata": {},
     "output_type": "execute_result"
    }
   ],
   "source": [
    "brfss_df_selected['_BMI5'] = brfss_df_selected['_BMI5'].div(100)\n",
    "brfss_df_selected._BMI5.unique()"
   ]
  },
  {
   "cell_type": "markdown",
   "id": "cac0375a",
   "metadata": {},
   "source": [
    "#### 3.3 _STATE\n",
    "- This is only for EDA to see if any patterns emerge\n",
    "- Replace the numbers to corresponding state 2 letter codes."
   ]
  },
  {
   "cell_type": "code",
   "execution_count": 19,
   "id": "697fcec1",
   "metadata": {},
   "outputs": [],
   "source": [
    "us_state_to_abbrev = {\n",
    "    1 : \"AL\",\n",
    "    2 : \"AK\",\n",
    "    4 : \"AZ\",\n",
    "    5 : \"AR\",\n",
    "    6 : \"CA\",\n",
    "    8 : \"CO\",\n",
    "    9 : \"CT\",\n",
    "    10 : \"DE\",\n",
    "    11 : \"FL\",\n",
    "    12 : \"DC\",\n",
    "    13 : \"GA\",\n",
    "    15 : \"HI\",\n",
    "    16 : \"ID\",\n",
    "    17 : \"IL\",\n",
    "    18 : \"IN\",\n",
    "    19 : \"IA\",\n",
    "    20 : \"KS\",\n",
    "    21 : \"KY\",\n",
    "    22 : \"LA\",\n",
    "    23 : \"ME\",\n",
    "    24 : \"MD\",\n",
    "    25 : \"MA\",\n",
    "    26 : \"MI\",\n",
    "    27 : \"MN\",\n",
    "    28 : \"MS\",\n",
    "    29 : \"MO\",\n",
    "    30 : \"MT\",\n",
    "    31 : \"NE\",\n",
    "    32 : \"NV\",\n",
    "    33 : \"NH\",\n",
    "    35 : \"NM\",\n",
    "    36 : \"NY\",\n",
    "    37 : \"NC\",\n",
    "    38 : \"ND\",\n",
    "    39 : \"OH\",\n",
    "    40 : \"OK\",\n",
    "    41 : \"OR\",\n",
    "    42 : \"PA\",\n",
    "    44 : \"RI\",\n",
    "    45 : \"SC\",\n",
    "    46 : \"SD\",\n",
    "    47 : \"TN\",\n",
    "    48 : \"TX\",\n",
    "    49 : \"UT\",\n",
    "    50 : \"VT\",\n",
    "    51 : \"VA\",\n",
    "    53 : \"WA\",\n",
    "    54 : \"WV\",\n",
    "    55 : \"WI\",\n",
    "    56 : \"WY\",\n",
    "    66 : \"GU\",\n",
    "    72 : \"PR\",\n",
    "}"
   ]
  },
  {
   "cell_type": "code",
   "execution_count": 20,
   "id": "6ff01c1a",
   "metadata": {},
   "outputs": [],
   "source": [
    "brfss_df_selected['_STATE'] = brfss_df_selected['_STATE'].replace(us_state_to_abbrev)"
   ]
  },
  {
   "cell_type": "code",
   "execution_count": 21,
   "id": "a6ff2361",
   "metadata": {},
   "outputs": [
    {
     "data": {
      "text/plain": [
       "MD    14969\n",
       "DC    13897\n",
       "NE    13358\n",
       "MN    12994\n",
       "NY    11632\n",
       "OH    11378\n",
       "WA    10629\n",
       "TX    10086\n",
       "ME     9751\n",
       "UT     9695\n",
       "CA     9620\n",
       "KS     9413\n",
       "MI     9232\n",
       "VA     8431\n",
       "IA     8119\n",
       "CT     7790\n",
       "CO     7674\n",
       "AZ     7502\n",
       "IN     7333\n",
       "KY     6911\n",
       "HI     6548\n",
       "MA     6331\n",
       "MO     6197\n",
       "AL     6071\n",
       "SC     6068\n",
       "GA     5987\n",
       "SD     5674\n",
       "PA     5654\n",
       "PR     5533\n",
       "MT     5494\n",
       "VT     5426\n",
       "TN     5280\n",
       "OK     5240\n",
       "RI     5130\n",
       "OR     5068\n",
       "NM     4994\n",
       "NH     4897\n",
       "ND     4824\n",
       "IL     4811\n",
       "WV     4693\n",
       "AR     4491\n",
       "ID     4409\n",
       "MS     4390\n",
       "WI     4118\n",
       "WY     4012\n",
       "LA     3950\n",
       "NC     3577\n",
       "DE     3161\n",
       "AK     2440\n",
       "NV     2350\n",
       "FL     2196\n",
       "GU     1983\n",
       "Name: _STATE, dtype: int64"
      ]
     },
     "execution_count": 21,
     "metadata": {},
     "output_type": "execute_result"
    }
   ],
   "source": [
    "brfss_df_selected['_STATE'].value_counts()"
   ]
  },
  {
   "cell_type": "markdown",
   "id": "89b25a09",
   "metadata": {},
   "source": [
    "#### 3.4 _RFHYPE5\n",
    "- Change 1 to 0 so it represents No high blood pressure and 2 to 1 so it represents high blood pressure"
   ]
  },
  {
   "cell_type": "code",
   "execution_count": 22,
   "id": "1615e95e",
   "metadata": {},
   "outputs": [
    {
     "data": {
      "text/plain": [
       "array([1., 0.])"
      ]
     },
     "execution_count": 22,
     "metadata": {},
     "output_type": "execute_result"
    }
   ],
   "source": [
    "brfss_df_selected['_RFHYPE5'] = brfss_df_selected['_RFHYPE5'].replace({1:0, 2:1})\n",
    "brfss_df_selected = brfss_df_selected[brfss_df_selected._RFHYPE5 != 9] # didnt repond\n",
    "brfss_df_selected._RFHYPE5.unique()"
   ]
  },
  {
   "cell_type": "markdown",
   "id": "e3f912c7",
   "metadata": {},
   "source": [
    "#### 3.5 TOLDHI2"
   ]
  },
  {
   "cell_type": "code",
   "execution_count": 23,
   "id": "ef9758aa",
   "metadata": {},
   "outputs": [
    {
     "data": {
      "text/plain": [
       "array([1., 0.])"
      ]
     },
     "execution_count": 23,
     "metadata": {},
     "output_type": "execute_result"
    }
   ],
   "source": [
    "# Change 2 to 0 because it is No\n",
    "# Remove all 7 (dont knows)\n",
    "# Remove all 9 (refused)\n",
    "brfss_df_selected['TOLDHI2'] = brfss_df_selected['TOLDHI2'].replace({2:0})\n",
    "brfss_df_selected = brfss_df_selected[brfss_df_selected.TOLDHI2 != 7]\n",
    "brfss_df_selected = brfss_df_selected[brfss_df_selected.TOLDHI2 != 9]\n",
    "brfss_df_selected.TOLDHI2.unique()"
   ]
  },
  {
   "cell_type": "markdown",
   "id": "0712bbb8",
   "metadata": {},
   "source": [
    "#### 3.6 _CHOLCH2"
   ]
  },
  {
   "cell_type": "code",
   "execution_count": 24,
   "id": "f1927b51",
   "metadata": {},
   "outputs": [
    {
     "data": {
      "text/plain": [
       "array([1., 0.])"
      ]
     },
     "execution_count": 24,
     "metadata": {},
     "output_type": "execute_result"
    }
   ],
   "source": [
    "# Keep  1 to 1 has checked cholestrol in past 5 years\n",
    "# 2 to 0 for Not checked cholesterol in past 5 years\n",
    "# 3 to 0 never had cholestrol checked\n",
    "# Remove 9\n",
    "brfss_df_selected['_CHOLCH2'] = brfss_df_selected['_CHOLCH2'].replace({3:0,2:0})\n",
    "brfss_df_selected = brfss_df_selected[brfss_df_selected._CHOLCH2 != 9]\n",
    "brfss_df_selected._CHOLCH2.unique()"
   ]
  },
  {
   "cell_type": "markdown",
   "id": "0b577da3",
   "metadata": {},
   "source": [
    "#### 3.7  _FRTLT1A"
   ]
  },
  {
   "cell_type": "code",
   "execution_count": 25,
   "id": "d247bae0",
   "metadata": {},
   "outputs": [
    {
     "data": {
      "text/plain": [
       "array([1., 0.])"
      ]
     },
     "execution_count": 25,
     "metadata": {},
     "output_type": "execute_result"
    }
   ],
   "source": [
    "# Change 2 to 0. this means no fruit consumed per day. \n",
    "# 1 will mean consumed 1 or more pieces of fruit per day \n",
    "# remove all dont knows and missing 9\n",
    "brfss_df_selected['_FRTLT1A'] = brfss_df_selected['_FRTLT1A'].replace({2:0})\n",
    "brfss_df_selected = brfss_df_selected[brfss_df_selected._FRTLT1A != 9]\n",
    "brfss_df_selected._FRTLT1A.unique()"
   ]
  },
  {
   "cell_type": "markdown",
   "id": "32483fef",
   "metadata": {},
   "source": [
    "#### 3.8  _VEGLT1A"
   ]
  },
  {
   "cell_type": "code",
   "execution_count": 26,
   "id": "0776d6ca",
   "metadata": {},
   "outputs": [
    {
     "data": {
      "text/plain": [
       "array([1., 0.])"
      ]
     },
     "execution_count": 26,
     "metadata": {},
     "output_type": "execute_result"
    }
   ],
   "source": [
    "# Change 2 to 0. this means no vegetables consumed per day. \n",
    "# 1 will mean consumed 1 or more pieces of vegetable per day \n",
    "# remove all dont knows and missing 9\n",
    "brfss_df_selected['_VEGLT1A'] = brfss_df_selected['_VEGLT1A'].replace({2:0})\n",
    "brfss_df_selected = brfss_df_selected[brfss_df_selected._VEGLT1A != 9]\n",
    "brfss_df_selected._VEGLT1A.unique()"
   ]
  },
  {
   "cell_type": "markdown",
   "id": "fb46372d",
   "metadata": {},
   "source": [
    "#### 3.9 SMOKE100"
   ]
  },
  {
   "cell_type": "code",
   "execution_count": 27,
   "id": "8882da3a",
   "metadata": {},
   "outputs": [
    {
     "data": {
      "text/plain": [
       "array([1., 0.])"
      ]
     },
     "execution_count": 27,
     "metadata": {},
     "output_type": "execute_result"
    }
   ],
   "source": [
    "# 1 means person has consumed 100 cigarettes in lifetime\n",
    "# Change 2 to 0 because it is No\n",
    "# Remove all 7 (dont knows)\n",
    "# Remove all 9 (refused)\n",
    "brfss_df_selected['SMOKE100'] = brfss_df_selected['SMOKE100'].replace({2:0})\n",
    "brfss_df_selected = brfss_df_selected[brfss_df_selected.SMOKE100 != 7]\n",
    "brfss_df_selected = brfss_df_selected[brfss_df_selected.SMOKE100 != 9]\n",
    "brfss_df_selected.SMOKE100.unique()"
   ]
  },
  {
   "cell_type": "markdown",
   "id": "4e857b4a",
   "metadata": {},
   "source": [
    "#### 3.10 _RFDRHV7"
   ]
  },
  {
   "cell_type": "code",
   "execution_count": 28,
   "id": "784bc311",
   "metadata": {},
   "outputs": [
    {
     "data": {
      "text/plain": [
       "array([0., 1.])"
      ]
     },
     "execution_count": 28,
     "metadata": {},
     "output_type": "execute_result"
    }
   ],
   "source": [
    "# Change 1 to 0 (1 was no for heavy drinking). \n",
    "# change all 2 to 1 (2 was yes for heavy drinking)\n",
    "# remove all dont knows and missing 9\n",
    "brfss_df_selected['_RFDRHV7'] = brfss_df_selected['_RFDRHV7'].replace({1:0, 2:1})\n",
    "brfss_df_selected = brfss_df_selected[brfss_df_selected._RFDRHV7 != 9]\n",
    "brfss_df_selected._RFDRHV7.unique()"
   ]
  },
  {
   "cell_type": "markdown",
   "id": "979fb729",
   "metadata": {},
   "source": [
    "#### 3.11 CVDSTRK3"
   ]
  },
  {
   "cell_type": "code",
   "execution_count": 29,
   "id": "ac47a89c",
   "metadata": {},
   "outputs": [
    {
     "data": {
      "text/plain": [
       "array([0., 1.])"
      ]
     },
     "execution_count": 29,
     "metadata": {},
     "output_type": "execute_result"
    }
   ],
   "source": [
    "# Ever Had a stroke - 1 is Yes \n",
    "# Change 2 to 0 because it is No\n",
    "# Remove all 7 (dont knows)\n",
    "# Remove all 9 (refused)\n",
    "brfss_df_selected['CVDSTRK3'] = brfss_df_selected['CVDSTRK3'].replace({2:0})\n",
    "brfss_df_selected = brfss_df_selected[brfss_df_selected.CVDSTRK3 != 7]\n",
    "brfss_df_selected = brfss_df_selected[brfss_df_selected.CVDSTRK3 != 9]\n",
    "brfss_df_selected.CVDSTRK3.unique()"
   ]
  },
  {
   "cell_type": "markdown",
   "id": "0cb27bb6",
   "metadata": {},
   "source": [
    "#### 3.12 _MICHD"
   ]
  },
  {
   "cell_type": "code",
   "execution_count": 30,
   "id": "8e40a623",
   "metadata": {},
   "outputs": [
    {
     "data": {
      "text/plain": [
       "array([0., 1.])"
      ]
     },
     "execution_count": 30,
     "metadata": {},
     "output_type": "execute_result"
    }
   ],
   "source": [
    "#  ever reported having coronary heart disease (CHD) or myocardial infarction (MI) - yes is 1\n",
    "# Change 2 to 0 because this means did not have MI or CHD\n",
    "brfss_df_selected['_MICHD'] = brfss_df_selected['_MICHD'].replace({2: 0})\n",
    "brfss_df_selected._MICHD.unique()"
   ]
  },
  {
   "cell_type": "markdown",
   "id": "4e310f27",
   "metadata": {},
   "source": [
    "#### 3.13 HLTHPLN1"
   ]
  },
  {
   "cell_type": "code",
   "execution_count": 31,
   "id": "d44d6691",
   "metadata": {},
   "outputs": [
    {
     "data": {
      "text/plain": [
       "array([1., 0.])"
      ]
     },
     "execution_count": 31,
     "metadata": {},
     "output_type": "execute_result"
    }
   ],
   "source": [
    "# 1 is yes, Person has health coverage \n",
    "# change 2 to 0 because it is No health care access\n",
    "# remove 7 and 9 for don't know or refused\n",
    "brfss_df_selected['HLTHPLN1'] = brfss_df_selected['HLTHPLN1'].replace({2:0})\n",
    "brfss_df_selected = brfss_df_selected[brfss_df_selected.HLTHPLN1 != 7]\n",
    "brfss_df_selected = brfss_df_selected[brfss_df_selected.HLTHPLN1 != 9]\n",
    "brfss_df_selected.HLTHPLN1.unique()"
   ]
  },
  {
   "cell_type": "markdown",
   "id": "6e233dc2",
   "metadata": {},
   "source": [
    "#### 3.14 MEDCOST"
   ]
  },
  {
   "cell_type": "code",
   "execution_count": 32,
   "id": "8044327e",
   "metadata": {},
   "outputs": [
    {
     "data": {
      "text/plain": [
       "array([0., 1.])"
      ]
     },
     "execution_count": 32,
     "metadata": {},
     "output_type": "execute_result"
    }
   ],
   "source": [
    "# Did not go see doctor in last 12 months due to cost ? Yes = 1\n",
    "# Change 2 to 0 for no, 1 is already yes\n",
    "# remove 7 for don/t know and 9 for refused\n",
    "brfss_df_selected['MEDCOST'] = brfss_df_selected['MEDCOST'].replace({2:0})\n",
    "brfss_df_selected = brfss_df_selected[brfss_df_selected.MEDCOST != 7]\n",
    "brfss_df_selected = brfss_df_selected[brfss_df_selected.MEDCOST != 9]\n",
    "brfss_df_selected.MEDCOST.unique()"
   ]
  },
  {
   "cell_type": "markdown",
   "id": "235ff000",
   "metadata": {},
   "source": [
    "#### 3.15  _TOTINDA"
   ]
  },
  {
   "cell_type": "code",
   "execution_count": 33,
   "id": "b1567c7e",
   "metadata": {},
   "outputs": [
    {
     "data": {
      "text/plain": [
       "array([0., 1.])"
      ]
     },
     "execution_count": 33,
     "metadata": {},
     "output_type": "execute_result"
    }
   ],
   "source": [
    "# Adults who reported doing physical activity or exercise during the past 30 days other than their regular job\n",
    "# 1 for physical activity\n",
    "# change 2 to 0 for no physical activity\n",
    "# Remove all 9 (don't know/refused)\n",
    "brfss_df_selected['_TOTINDA'] = brfss_df_selected['_TOTINDA'].replace({2:0})\n",
    "brfss_df_selected = brfss_df_selected[brfss_df_selected._TOTINDA != 9]\n",
    "brfss_df_selected._TOTINDA.unique()"
   ]
  },
  {
   "cell_type": "markdown",
   "id": "9f8a67ee",
   "metadata": {},
   "source": [
    "#### 3.16 GENHLTH"
   ]
  },
  {
   "cell_type": "code",
   "execution_count": 34,
   "id": "7ae6918a",
   "metadata": {},
   "outputs": [
    {
     "data": {
      "text/plain": [
       "2.0    97819\n",
       "3.0    90455\n",
       "1.0    45667\n",
       "4.0    40067\n",
       "5.0    14568\n",
       "7.0      271\n",
       "9.0       95\n",
       "Name: GENHLTH, dtype: int64"
      ]
     },
     "execution_count": 34,
     "metadata": {},
     "output_type": "execute_result"
    }
   ],
   "source": [
    "brfss_df_selected['GENHLTH'].value_counts()"
   ]
  },
  {
   "cell_type": "code",
   "execution_count": 35,
   "id": "edf1b1ab",
   "metadata": {},
   "outputs": [
    {
     "data": {
      "text/plain": [
       "array([3., 2., 4., 5., 1.])"
      ]
     },
     "execution_count": 35,
     "metadata": {},
     "output_type": "execute_result"
    }
   ],
   "source": [
    "#Would you say that in general your health is:\n",
    "# This is an ordinal variable  (1 is Excellent -> 5 is Poor) we will reverse it so that(1 is poor and 5 is excellent )\n",
    "# Remove 7 and 9 for don't know and refused\n",
    "brfss_df_selected['GENHLTH'] = brfss_df_selected['GENHLTH'].replace({5:1,4:2,2:4,1:5})\n",
    "brfss_df_selected = brfss_df_selected[brfss_df_selected.GENHLTH != 7]\n",
    "brfss_df_selected = brfss_df_selected[brfss_df_selected.GENHLTH != 9]\n",
    "brfss_df_selected.GENHLTH.unique()"
   ]
  },
  {
   "cell_type": "code",
   "execution_count": 36,
   "id": "76139a8c",
   "metadata": {},
   "outputs": [
    {
     "data": {
      "text/plain": [
       "4.0    97819\n",
       "3.0    90455\n",
       "5.0    45667\n",
       "2.0    40067\n",
       "1.0    14568\n",
       "Name: GENHLTH, dtype: int64"
      ]
     },
     "execution_count": 36,
     "metadata": {},
     "output_type": "execute_result"
    }
   ],
   "source": [
    "brfss_df_selected['GENHLTH'].value_counts()"
   ]
  },
  {
   "cell_type": "markdown",
   "id": "5217a389",
   "metadata": {},
   "source": [
    "#### 3.17 PHYSHLTH"
   ]
  },
  {
   "cell_type": "code",
   "execution_count": 37,
   "id": "99e77d3c",
   "metadata": {},
   "outputs": [
    {
     "data": {
      "text/plain": [
       "array([15., 10.,  0., 30., 20.,  2.,  1.,  7., 14.,  3.,  5., 25.,  4.,\n",
       "        6., 28., 21., 17.,  8., 16., 27., 12., 23., 18., 13., 29., 19.,\n",
       "        9., 24., 26., 11., 22.])"
      ]
     },
     "execution_count": 37,
     "metadata": {},
     "output_type": "execute_result"
    }
   ],
   "source": [
    "# for how many days during the past 30 days was your physical health not good?\n",
    "# already in days so keep that, scale will be 0-30\n",
    "# change 88 to 0 because it means none (no bad physical health days)\n",
    "# remove 77 and 99 for don't know not sure and refused\n",
    "brfss_df_selected['PHYSHLTH'] = brfss_df_selected['PHYSHLTH'].replace({88:0})\n",
    "brfss_df_selected = brfss_df_selected[brfss_df_selected.PHYSHLTH != 77]\n",
    "brfss_df_selected = brfss_df_selected[brfss_df_selected.PHYSHLTH != 99]\n",
    "brfss_df_selected.PHYSHLTH.unique()"
   ]
  },
  {
   "cell_type": "markdown",
   "id": "ea73c8a7",
   "metadata": {},
   "source": [
    "#### 3.18 MENTHLTH"
   ]
  },
  {
   "cell_type": "code",
   "execution_count": 38,
   "id": "7bd24f64",
   "metadata": {},
   "outputs": [
    {
     "data": {
      "text/plain": [
       "array([ 0., 30.,  4.,  1.,  2., 15.,  5.,  7., 10.,  3., 25.,  6., 21.,\n",
       "       20.,  8., 14., 17., 28., 12., 16., 27., 23., 26., 29., 24.,  9.,\n",
       "       13., 18., 22., 11., 19.])"
      ]
     },
     "execution_count": 38,
     "metadata": {},
     "output_type": "execute_result"
    }
   ],
   "source": [
    "# for how many days during the past 30 days was your mental health not good?\n",
    "# already in days so keep that, scale will be 0-30\n",
    "# change 88 to 0 because it means none (no bad mental health days)\n",
    "# remove 77 and 99 for don't know not sure and refused\n",
    "brfss_df_selected['MENTHLTH'] = brfss_df_selected['MENTHLTH'].replace({88:0})\n",
    "brfss_df_selected = brfss_df_selected[brfss_df_selected.MENTHLTH != 77]\n",
    "brfss_df_selected = brfss_df_selected[brfss_df_selected.MENTHLTH != 99]\n",
    "brfss_df_selected.MENTHLTH.unique()"
   ]
  },
  {
   "cell_type": "markdown",
   "id": "38e27251",
   "metadata": {},
   "source": [
    "#### 3.19 DIFFWALK"
   ]
  },
  {
   "cell_type": "code",
   "execution_count": 39,
   "id": "e166c49c",
   "metadata": {},
   "outputs": [
    {
     "data": {
      "text/plain": [
       "array([1., 0.])"
      ]
     },
     "execution_count": 39,
     "metadata": {},
     "output_type": "execute_result"
    }
   ],
   "source": [
    "# Do you have serious difficulty walking or climbing stairs? yes =1\n",
    "# change 2 to 0 for no. 1 is already yes\n",
    "# remove 7 and 9 for don't know not sure and refused\n",
    "brfss_df_selected['DIFFWALK'] = brfss_df_selected['DIFFWALK'].replace({2:0})\n",
    "brfss_df_selected = brfss_df_selected[brfss_df_selected.DIFFWALK != 7]\n",
    "brfss_df_selected = brfss_df_selected[brfss_df_selected.DIFFWALK != 9]\n",
    "brfss_df_selected.DIFFWALK.unique()"
   ]
  },
  {
   "cell_type": "markdown",
   "id": "187aa988",
   "metadata": {},
   "source": [
    "#### 3.20 SEXVAR"
   ]
  },
  {
   "cell_type": "code",
   "execution_count": 40,
   "id": "09924076",
   "metadata": {},
   "outputs": [
    {
     "data": {
      "text/plain": [
       "array([0., 1.])"
      ]
     },
     "execution_count": 40,
     "metadata": {},
     "output_type": "execute_result"
    }
   ],
   "source": [
    "# in other words - is respondent male \n",
    "# men may be  at higher risk for heart disease\n",
    "# change 2 to 0 (female as 0). Male is 1\n",
    "brfss_df_selected['SEXVAR'] = brfss_df_selected['SEXVAR'].replace({2:0})\n",
    "brfss_df_selected.SEXVAR.unique()"
   ]
  },
  {
   "cell_type": "markdown",
   "id": "30a991f3",
   "metadata": {},
   "source": [
    "#### 3.21 _AGEG5YR"
   ]
  },
  {
   "cell_type": "code",
   "execution_count": 41,
   "id": "ef423968",
   "metadata": {},
   "outputs": [
    {
     "data": {
      "text/plain": [
       "array([13., 11., 10.,  8., 12.,  7.,  6.,  5.,  9.,  4.,  3.,  2.,  1.])"
      ]
     },
     "execution_count": 41,
     "metadata": {},
     "output_type": "execute_result"
    }
   ],
   "source": [
    "# Reported age in five-year age categories calculated variable\n",
    "# already ordinal. 1 is 18-24 all the way up to 13 wis 80 and older. 5 year increments.\n",
    "# remove 14 because it is don't know or missing\n",
    "brfss_df_selected = brfss_df_selected[brfss_df_selected._AGEG5YR != 14]\n",
    "brfss_df_selected._AGEG5YR.unique()"
   ]
  },
  {
   "cell_type": "markdown",
   "id": "30a6cb44",
   "metadata": {},
   "source": [
    "#### 3.22 EDUCA"
   ]
  },
  {
   "cell_type": "code",
   "execution_count": 42,
   "id": "0f10b88d",
   "metadata": {},
   "outputs": [
    {
     "data": {
      "text/plain": [
       "array([3., 5., 6., 2., 4., 1.])"
      ]
     },
     "execution_count": 42,
     "metadata": {},
     "output_type": "execute_result"
    }
   ],
   "source": [
    "# Level of education completed - This is already an ordinal variable \n",
    "# 1 being never attended school or kindergarten only up to 6 being college 4 years or more\n",
    "# Scale here is 1-6\n",
    "# Remove 9 for refused:\n",
    "brfss_df_selected = brfss_df_selected[brfss_df_selected.EDUCA != 9]\n",
    "brfss_df_selected.EDUCA.unique()"
   ]
  },
  {
   "cell_type": "markdown",
   "id": "e88d4c06",
   "metadata": {},
   "source": [
    "#### 3.23 INCOME2"
   ]
  },
  {
   "cell_type": "code",
   "execution_count": 43,
   "id": "2d9ae7e6",
   "metadata": {},
   "outputs": [
    {
     "data": {
      "text/plain": [
       "array([3., 5., 7., 8., 6., 4., 2., 1.])"
      ]
     },
     "execution_count": 43,
     "metadata": {},
     "output_type": "execute_result"
    }
   ],
   "source": [
    "#  Annual household income - in levels\n",
    "# Variable is already ordinal with 1 being less than $10,000 all the way up to 8 being $75,000 or more\n",
    "# Remove 77 and 99 for don't know and refused\n",
    "brfss_df_selected = brfss_df_selected[brfss_df_selected.INCOME2 != 77]\n",
    "brfss_df_selected = brfss_df_selected[brfss_df_selected.INCOME2 != 99]\n",
    "brfss_df_selected.INCOME2.unique()"
   ]
  },
  {
   "cell_type": "markdown",
   "id": "93c4c5de",
   "metadata": {},
   "source": [
    "### 4 Check Mapping Changes"
   ]
  },
  {
   "cell_type": "code",
   "execution_count": 44,
   "id": "f04a5ae1",
   "metadata": {},
   "outputs": [
    {
     "data": {
      "text/plain": [
       "(243317, 23)"
      ]
     },
     "execution_count": 44,
     "metadata": {},
     "output_type": "execute_result"
    }
   ],
   "source": [
    "brfss_df_selected.shape"
   ]
  },
  {
   "cell_type": "code",
   "execution_count": 45,
   "id": "81b5bc4e",
   "metadata": {},
   "outputs": [
    {
     "data": {
      "text/plain": [
       "DIABETE4    0\n",
       "_BMI5       0\n",
       "_STATE      0\n",
       "_RFHYPE5    0\n",
       "TOLDHI2     0\n",
       "_CHOLCH2    0\n",
       "_FRTLT1A    0\n",
       "_VEGLT1A    0\n",
       "SMOKE100    0\n",
       "_RFDRHV7    0\n",
       "CVDSTRK3    0\n",
       "_MICHD      0\n",
       "HLTHPLN1    0\n",
       "MEDCOST     0\n",
       "_TOTINDA    0\n",
       "GENHLTH     0\n",
       "PHYSHLTH    0\n",
       "MENTHLTH    0\n",
       "DIFFWALK    0\n",
       "SEXVAR      0\n",
       "_AGEG5YR    0\n",
       "EDUCA       0\n",
       "INCOME2     0\n",
       "dtype: int64"
      ]
     },
     "execution_count": 45,
     "metadata": {},
     "output_type": "execute_result"
    }
   ],
   "source": [
    "brfss_df_selected.isna().sum()"
   ]
  },
  {
   "cell_type": "code",
   "execution_count": 46,
   "id": "7e2711dd",
   "metadata": {},
   "outputs": [
    {
     "name": "stdout",
     "output_type": "stream",
     "text": [
      "<class 'pandas.core.frame.DataFrame'>\n",
      "Int64Index: 243317 entries, 0 to 418267\n",
      "Data columns (total 23 columns):\n",
      " #   Column    Non-Null Count   Dtype  \n",
      "---  ------    --------------   -----  \n",
      " 0   DIABETE4  243317 non-null  float64\n",
      " 1   _BMI5     243317 non-null  float64\n",
      " 2   _STATE    243317 non-null  object \n",
      " 3   _RFHYPE5  243317 non-null  float64\n",
      " 4   TOLDHI2   243317 non-null  float64\n",
      " 5   _CHOLCH2  243317 non-null  float64\n",
      " 6   _FRTLT1A  243317 non-null  float64\n",
      " 7   _VEGLT1A  243317 non-null  float64\n",
      " 8   SMOKE100  243317 non-null  float64\n",
      " 9   _RFDRHV7  243317 non-null  float64\n",
      " 10  CVDSTRK3  243317 non-null  float64\n",
      " 11  _MICHD    243317 non-null  float64\n",
      " 12  HLTHPLN1  243317 non-null  float64\n",
      " 13  MEDCOST   243317 non-null  float64\n",
      " 14  _TOTINDA  243317 non-null  float64\n",
      " 15  GENHLTH   243317 non-null  float64\n",
      " 16  PHYSHLTH  243317 non-null  float64\n",
      " 17  MENTHLTH  243317 non-null  float64\n",
      " 18  DIFFWALK  243317 non-null  float64\n",
      " 19  SEXVAR    243317 non-null  float64\n",
      " 20  _AGEG5YR  243317 non-null  float64\n",
      " 21  EDUCA     243317 non-null  float64\n",
      " 22  INCOME2   243317 non-null  float64\n",
      "dtypes: float64(22), object(1)\n",
      "memory usage: 44.6+ MB\n"
     ]
    }
   ],
   "source": [
    "brfss_df_selected.info()"
   ]
  },
  {
   "cell_type": "markdown",
   "id": "c61c8d25",
   "metadata": {},
   "source": [
    "**Note: We will change to appropriate datatypes in next notebook. Here we will write to a new .csv file and read it in the next notebook and do the datatype conversions after reading** "
   ]
  },
  {
   "cell_type": "code",
   "execution_count": 47,
   "id": "3a26f92b",
   "metadata": {},
   "outputs": [
    {
     "data": {
      "text/html": [
       "<div>\n",
       "<style scoped>\n",
       "    .dataframe tbody tr th:only-of-type {\n",
       "        vertical-align: middle;\n",
       "    }\n",
       "\n",
       "    .dataframe tbody tr th {\n",
       "        vertical-align: top;\n",
       "    }\n",
       "\n",
       "    .dataframe thead th {\n",
       "        text-align: right;\n",
       "    }\n",
       "</style>\n",
       "<table border=\"1\" class=\"dataframe\">\n",
       "  <thead>\n",
       "    <tr style=\"text-align: right;\">\n",
       "      <th></th>\n",
       "      <th>DIABETE4</th>\n",
       "      <th>_BMI5</th>\n",
       "      <th>_STATE</th>\n",
       "      <th>_RFHYPE5</th>\n",
       "      <th>TOLDHI2</th>\n",
       "      <th>_CHOLCH2</th>\n",
       "      <th>_FRTLT1A</th>\n",
       "      <th>_VEGLT1A</th>\n",
       "      <th>SMOKE100</th>\n",
       "      <th>_RFDRHV7</th>\n",
       "      <th>...</th>\n",
       "      <th>MEDCOST</th>\n",
       "      <th>_TOTINDA</th>\n",
       "      <th>GENHLTH</th>\n",
       "      <th>PHYSHLTH</th>\n",
       "      <th>MENTHLTH</th>\n",
       "      <th>DIFFWALK</th>\n",
       "      <th>SEXVAR</th>\n",
       "      <th>_AGEG5YR</th>\n",
       "      <th>EDUCA</th>\n",
       "      <th>INCOME2</th>\n",
       "    </tr>\n",
       "  </thead>\n",
       "  <tbody>\n",
       "    <tr>\n",
       "      <th>0</th>\n",
       "      <td>0.0</td>\n",
       "      <td>28.17</td>\n",
       "      <td>AL</td>\n",
       "      <td>1.0</td>\n",
       "      <td>1.0</td>\n",
       "      <td>1.0</td>\n",
       "      <td>1.0</td>\n",
       "      <td>1.0</td>\n",
       "      <td>1.0</td>\n",
       "      <td>0.0</td>\n",
       "      <td>...</td>\n",
       "      <td>0.0</td>\n",
       "      <td>0.0</td>\n",
       "      <td>3.0</td>\n",
       "      <td>15.0</td>\n",
       "      <td>0.0</td>\n",
       "      <td>1.0</td>\n",
       "      <td>0.0</td>\n",
       "      <td>13.0</td>\n",
       "      <td>3.0</td>\n",
       "      <td>3.0</td>\n",
       "    </tr>\n",
       "    <tr>\n",
       "      <th>1</th>\n",
       "      <td>0.0</td>\n",
       "      <td>18.54</td>\n",
       "      <td>AL</td>\n",
       "      <td>0.0</td>\n",
       "      <td>0.0</td>\n",
       "      <td>1.0</td>\n",
       "      <td>1.0</td>\n",
       "      <td>1.0</td>\n",
       "      <td>0.0</td>\n",
       "      <td>0.0</td>\n",
       "      <td>...</td>\n",
       "      <td>0.0</td>\n",
       "      <td>1.0</td>\n",
       "      <td>2.0</td>\n",
       "      <td>10.0</td>\n",
       "      <td>0.0</td>\n",
       "      <td>0.0</td>\n",
       "      <td>0.0</td>\n",
       "      <td>11.0</td>\n",
       "      <td>5.0</td>\n",
       "      <td>5.0</td>\n",
       "    </tr>\n",
       "    <tr>\n",
       "      <th>2</th>\n",
       "      <td>1.0</td>\n",
       "      <td>31.62</td>\n",
       "      <td>AL</td>\n",
       "      <td>1.0</td>\n",
       "      <td>0.0</td>\n",
       "      <td>1.0</td>\n",
       "      <td>1.0</td>\n",
       "      <td>1.0</td>\n",
       "      <td>0.0</td>\n",
       "      <td>0.0</td>\n",
       "      <td>...</td>\n",
       "      <td>0.0</td>\n",
       "      <td>1.0</td>\n",
       "      <td>3.0</td>\n",
       "      <td>0.0</td>\n",
       "      <td>30.0</td>\n",
       "      <td>1.0</td>\n",
       "      <td>0.0</td>\n",
       "      <td>10.0</td>\n",
       "      <td>6.0</td>\n",
       "      <td>7.0</td>\n",
       "    </tr>\n",
       "    <tr>\n",
       "      <th>6</th>\n",
       "      <td>1.0</td>\n",
       "      <td>32.98</td>\n",
       "      <td>AL</td>\n",
       "      <td>0.0</td>\n",
       "      <td>0.0</td>\n",
       "      <td>1.0</td>\n",
       "      <td>1.0</td>\n",
       "      <td>1.0</td>\n",
       "      <td>1.0</td>\n",
       "      <td>0.0</td>\n",
       "      <td>...</td>\n",
       "      <td>0.0</td>\n",
       "      <td>1.0</td>\n",
       "      <td>4.0</td>\n",
       "      <td>30.0</td>\n",
       "      <td>0.0</td>\n",
       "      <td>1.0</td>\n",
       "      <td>1.0</td>\n",
       "      <td>11.0</td>\n",
       "      <td>6.0</td>\n",
       "      <td>7.0</td>\n",
       "    </tr>\n",
       "    <tr>\n",
       "      <th>9</th>\n",
       "      <td>1.0</td>\n",
       "      <td>16.65</td>\n",
       "      <td>AL</td>\n",
       "      <td>0.0</td>\n",
       "      <td>1.0</td>\n",
       "      <td>1.0</td>\n",
       "      <td>0.0</td>\n",
       "      <td>0.0</td>\n",
       "      <td>1.0</td>\n",
       "      <td>0.0</td>\n",
       "      <td>...</td>\n",
       "      <td>0.0</td>\n",
       "      <td>0.0</td>\n",
       "      <td>1.0</td>\n",
       "      <td>20.0</td>\n",
       "      <td>0.0</td>\n",
       "      <td>1.0</td>\n",
       "      <td>0.0</td>\n",
       "      <td>11.0</td>\n",
       "      <td>2.0</td>\n",
       "      <td>3.0</td>\n",
       "    </tr>\n",
       "  </tbody>\n",
       "</table>\n",
       "<p>5 rows × 23 columns</p>\n",
       "</div>"
      ],
      "text/plain": [
       "   DIABETE4  _BMI5 _STATE  _RFHYPE5  TOLDHI2  _CHOLCH2  _FRTLT1A  _VEGLT1A  \\\n",
       "0       0.0  28.17     AL       1.0      1.0       1.0       1.0       1.0   \n",
       "1       0.0  18.54     AL       0.0      0.0       1.0       1.0       1.0   \n",
       "2       1.0  31.62     AL       1.0      0.0       1.0       1.0       1.0   \n",
       "6       1.0  32.98     AL       0.0      0.0       1.0       1.0       1.0   \n",
       "9       1.0  16.65     AL       0.0      1.0       1.0       0.0       0.0   \n",
       "\n",
       "   SMOKE100  _RFDRHV7  ...  MEDCOST  _TOTINDA  GENHLTH  PHYSHLTH  MENTHLTH  \\\n",
       "0       1.0       0.0  ...      0.0       0.0      3.0      15.0       0.0   \n",
       "1       0.0       0.0  ...      0.0       1.0      2.0      10.0       0.0   \n",
       "2       0.0       0.0  ...      0.0       1.0      3.0       0.0      30.0   \n",
       "6       1.0       0.0  ...      0.0       1.0      4.0      30.0       0.0   \n",
       "9       1.0       0.0  ...      0.0       0.0      1.0      20.0       0.0   \n",
       "\n",
       "   DIFFWALK  SEXVAR  _AGEG5YR  EDUCA  INCOME2  \n",
       "0       1.0     0.0      13.0    3.0      3.0  \n",
       "1       0.0     0.0      11.0    5.0      5.0  \n",
       "2       1.0     0.0      10.0    6.0      7.0  \n",
       "6       1.0     1.0      11.0    6.0      7.0  \n",
       "9       1.0     0.0      11.0    2.0      3.0  \n",
       "\n",
       "[5 rows x 23 columns]"
      ]
     },
     "execution_count": 47,
     "metadata": {},
     "output_type": "execute_result"
    }
   ],
   "source": [
    "brfss_df_selected.head()"
   ]
  },
  {
   "cell_type": "code",
   "execution_count": 48,
   "id": "36ac969d",
   "metadata": {},
   "outputs": [
    {
     "data": {
      "text/html": [
       "<div>\n",
       "<style scoped>\n",
       "    .dataframe tbody tr th:only-of-type {\n",
       "        vertical-align: middle;\n",
       "    }\n",
       "\n",
       "    .dataframe tbody tr th {\n",
       "        vertical-align: top;\n",
       "    }\n",
       "\n",
       "    .dataframe thead th {\n",
       "        text-align: right;\n",
       "    }\n",
       "</style>\n",
       "<table border=\"1\" class=\"dataframe\">\n",
       "  <thead>\n",
       "    <tr style=\"text-align: right;\">\n",
       "      <th></th>\n",
       "      <th>DIABETE4</th>\n",
       "      <th>_BMI5</th>\n",
       "      <th>_STATE</th>\n",
       "      <th>_RFHYPE5</th>\n",
       "      <th>TOLDHI2</th>\n",
       "      <th>_CHOLCH2</th>\n",
       "      <th>_FRTLT1A</th>\n",
       "      <th>_VEGLT1A</th>\n",
       "      <th>SMOKE100</th>\n",
       "      <th>_RFDRHV7</th>\n",
       "      <th>...</th>\n",
       "      <th>MEDCOST</th>\n",
       "      <th>_TOTINDA</th>\n",
       "      <th>GENHLTH</th>\n",
       "      <th>PHYSHLTH</th>\n",
       "      <th>MENTHLTH</th>\n",
       "      <th>DIFFWALK</th>\n",
       "      <th>SEXVAR</th>\n",
       "      <th>_AGEG5YR</th>\n",
       "      <th>EDUCA</th>\n",
       "      <th>INCOME2</th>\n",
       "    </tr>\n",
       "  </thead>\n",
       "  <tbody>\n",
       "    <tr>\n",
       "      <th>418262</th>\n",
       "      <td>0.0</td>\n",
       "      <td>26.31</td>\n",
       "      <td>PR</td>\n",
       "      <td>0.0</td>\n",
       "      <td>0.0</td>\n",
       "      <td>1.0</td>\n",
       "      <td>0.0</td>\n",
       "      <td>0.0</td>\n",
       "      <td>0.0</td>\n",
       "      <td>0.0</td>\n",
       "      <td>...</td>\n",
       "      <td>0.0</td>\n",
       "      <td>0.0</td>\n",
       "      <td>5.0</td>\n",
       "      <td>0.0</td>\n",
       "      <td>0.0</td>\n",
       "      <td>0.0</td>\n",
       "      <td>0.0</td>\n",
       "      <td>1.0</td>\n",
       "      <td>6.0</td>\n",
       "      <td>4.0</td>\n",
       "    </tr>\n",
       "    <tr>\n",
       "      <th>418263</th>\n",
       "      <td>1.0</td>\n",
       "      <td>27.17</td>\n",
       "      <td>PR</td>\n",
       "      <td>1.0</td>\n",
       "      <td>0.0</td>\n",
       "      <td>1.0</td>\n",
       "      <td>1.0</td>\n",
       "      <td>0.0</td>\n",
       "      <td>0.0</td>\n",
       "      <td>0.0</td>\n",
       "      <td>...</td>\n",
       "      <td>0.0</td>\n",
       "      <td>0.0</td>\n",
       "      <td>3.0</td>\n",
       "      <td>0.0</td>\n",
       "      <td>0.0</td>\n",
       "      <td>0.0</td>\n",
       "      <td>1.0</td>\n",
       "      <td>10.0</td>\n",
       "      <td>4.0</td>\n",
       "      <td>1.0</td>\n",
       "    </tr>\n",
       "    <tr>\n",
       "      <th>418264</th>\n",
       "      <td>0.0</td>\n",
       "      <td>28.52</td>\n",
       "      <td>PR</td>\n",
       "      <td>0.0</td>\n",
       "      <td>0.0</td>\n",
       "      <td>1.0</td>\n",
       "      <td>1.0</td>\n",
       "      <td>1.0</td>\n",
       "      <td>0.0</td>\n",
       "      <td>0.0</td>\n",
       "      <td>...</td>\n",
       "      <td>0.0</td>\n",
       "      <td>1.0</td>\n",
       "      <td>4.0</td>\n",
       "      <td>0.0</td>\n",
       "      <td>0.0</td>\n",
       "      <td>0.0</td>\n",
       "      <td>0.0</td>\n",
       "      <td>7.0</td>\n",
       "      <td>3.0</td>\n",
       "      <td>1.0</td>\n",
       "    </tr>\n",
       "    <tr>\n",
       "      <th>418265</th>\n",
       "      <td>0.0</td>\n",
       "      <td>31.75</td>\n",
       "      <td>PR</td>\n",
       "      <td>0.0</td>\n",
       "      <td>1.0</td>\n",
       "      <td>1.0</td>\n",
       "      <td>1.0</td>\n",
       "      <td>0.0</td>\n",
       "      <td>0.0</td>\n",
       "      <td>0.0</td>\n",
       "      <td>...</td>\n",
       "      <td>0.0</td>\n",
       "      <td>1.0</td>\n",
       "      <td>4.0</td>\n",
       "      <td>0.0</td>\n",
       "      <td>5.0</td>\n",
       "      <td>0.0</td>\n",
       "      <td>0.0</td>\n",
       "      <td>1.0</td>\n",
       "      <td>4.0</td>\n",
       "      <td>3.0</td>\n",
       "    </tr>\n",
       "    <tr>\n",
       "      <th>418267</th>\n",
       "      <td>0.0</td>\n",
       "      <td>19.97</td>\n",
       "      <td>PR</td>\n",
       "      <td>0.0</td>\n",
       "      <td>0.0</td>\n",
       "      <td>1.0</td>\n",
       "      <td>1.0</td>\n",
       "      <td>1.0</td>\n",
       "      <td>0.0</td>\n",
       "      <td>0.0</td>\n",
       "      <td>...</td>\n",
       "      <td>0.0</td>\n",
       "      <td>1.0</td>\n",
       "      <td>3.0</td>\n",
       "      <td>0.0</td>\n",
       "      <td>0.0</td>\n",
       "      <td>0.0</td>\n",
       "      <td>0.0</td>\n",
       "      <td>5.0</td>\n",
       "      <td>6.0</td>\n",
       "      <td>8.0</td>\n",
       "    </tr>\n",
       "  </tbody>\n",
       "</table>\n",
       "<p>5 rows × 23 columns</p>\n",
       "</div>"
      ],
      "text/plain": [
       "        DIABETE4  _BMI5 _STATE  _RFHYPE5  TOLDHI2  _CHOLCH2  _FRTLT1A  \\\n",
       "418262       0.0  26.31     PR       0.0      0.0       1.0       0.0   \n",
       "418263       1.0  27.17     PR       1.0      0.0       1.0       1.0   \n",
       "418264       0.0  28.52     PR       0.0      0.0       1.0       1.0   \n",
       "418265       0.0  31.75     PR       0.0      1.0       1.0       1.0   \n",
       "418267       0.0  19.97     PR       0.0      0.0       1.0       1.0   \n",
       "\n",
       "        _VEGLT1A  SMOKE100  _RFDRHV7  ...  MEDCOST  _TOTINDA  GENHLTH  \\\n",
       "418262       0.0       0.0       0.0  ...      0.0       0.0      5.0   \n",
       "418263       0.0       0.0       0.0  ...      0.0       0.0      3.0   \n",
       "418264       1.0       0.0       0.0  ...      0.0       1.0      4.0   \n",
       "418265       0.0       0.0       0.0  ...      0.0       1.0      4.0   \n",
       "418267       1.0       0.0       0.0  ...      0.0       1.0      3.0   \n",
       "\n",
       "        PHYSHLTH  MENTHLTH  DIFFWALK  SEXVAR  _AGEG5YR  EDUCA  INCOME2  \n",
       "418262       0.0       0.0       0.0     0.0       1.0    6.0      4.0  \n",
       "418263       0.0       0.0       0.0     1.0      10.0    4.0      1.0  \n",
       "418264       0.0       0.0       0.0     0.0       7.0    3.0      1.0  \n",
       "418265       0.0       5.0       0.0     0.0       1.0    4.0      3.0  \n",
       "418267       0.0       0.0       0.0     0.0       5.0    6.0      8.0  \n",
       "\n",
       "[5 rows x 23 columns]"
      ]
     },
     "execution_count": 48,
     "metadata": {},
     "output_type": "execute_result"
    }
   ],
   "source": [
    "brfss_df_selected.tail()"
   ]
  },
  {
   "cell_type": "code",
   "execution_count": 49,
   "id": "4f81bad7",
   "metadata": {},
   "outputs": [
    {
     "data": {
      "text/plain": [
       "0.0    208018\n",
       "1.0     35299\n",
       "Name: DIABETE4, dtype: int64"
      ]
     },
     "execution_count": 49,
     "metadata": {},
     "output_type": "execute_result"
    }
   ],
   "source": [
    "brfss_df_selected['DIABETE4'].value_counts()"
   ]
  },
  {
   "cell_type": "code",
   "execution_count": 50,
   "id": "244abd4a",
   "metadata": {},
   "outputs": [
    {
     "data": {
      "text/plain": [
       "DIABETE4  _BMI5  _STATE  _RFHYPE5  TOLDHI2  _CHOLCH2  _FRTLT1A  _VEGLT1A  SMOKE100  _RFDRHV7  CVDSTRK3  _MICHD  HLTHPLN1  MEDCOST  _TOTINDA  GENHLTH  PHYSHLTH  MENTHLTH  DIFFWALK  SEXVAR  _AGEG5YR  EDUCA  INCOME2\n",
       "1.0       27.12  OR      1.0       1.0      1.0       1.0       1.0       0.0       0.0       0.0       0.0     1.0       0.0      1.0       3.0      2.0       2.0       0.0       1.0     9.0       4.0    7.0        4\n",
       "0.0       22.71  PA      0.0       0.0      1.0       1.0       1.0       0.0       0.0       0.0       0.0     1.0       0.0      1.0       5.0      0.0       0.0       0.0       0.0     4.0       6.0    8.0        3\n",
       "          23.48  UT      0.0       0.0      1.0       1.0       1.0       0.0       0.0       0.0       0.0     1.0       0.0      1.0       4.0      5.0       1.0       0.0       1.0     1.0       5.0    8.0        3\n",
       "          25.06  MN      0.0       0.0      1.0       1.0       1.0       0.0       0.0       0.0       0.0     1.0       0.0      1.0       4.0      0.0       0.0       0.0       0.0     6.0       6.0    8.0        3\n",
       "          26.63  MN      0.0       0.0      1.0       1.0       1.0       0.0       0.0       0.0       0.0     1.0       0.0      1.0       4.0      0.0       0.0       0.0       0.0     4.0       6.0    8.0        3\n",
       "                                                                                                                                                                                                                       ..\n",
       "          25.79  VA      0.0       0.0      1.0       1.0       1.0       1.0       0.0       0.0       0.0     1.0       0.0      1.0       4.0      0.0       1.0       0.0       0.0     1.0       4.0    4.0        1\n",
       "                                                                                    1.0       0.0       0.0     1.0       1.0      1.0       5.0      0.0       0.0       0.0       0.0     2.0       5.0    8.0        1\n",
       "                         1.0       0.0      1.0       1.0       1.0       1.0       0.0       1.0       0.0     1.0       0.0      1.0       5.0      0.0       0.0       0.0       0.0     11.0      5.0    8.0        1\n",
       "                                   1.0      1.0       1.0       1.0       0.0       0.0       0.0       0.0     1.0       0.0      1.0       3.0      0.0       0.0       0.0       0.0     10.0      6.0    7.0        1\n",
       "1.0       97.65  NY      1.0       1.0      1.0       1.0       0.0       0.0       0.0       0.0       0.0     1.0       0.0      0.0       3.0      0.0       0.0       0.0       1.0     13.0      5.0    8.0        1\n",
       "Length: 243177, dtype: int64"
      ]
     },
     "execution_count": 50,
     "metadata": {},
     "output_type": "execute_result"
    }
   ],
   "source": [
    "brfss_df_selected.value_counts()"
   ]
  },
  {
   "cell_type": "code",
   "execution_count": 51,
   "id": "00f47655",
   "metadata": {},
   "outputs": [
    {
     "data": {
      "text/html": [
       "<div>\n",
       "<style scoped>\n",
       "    .dataframe tbody tr th:only-of-type {\n",
       "        vertical-align: middle;\n",
       "    }\n",
       "\n",
       "    .dataframe tbody tr th {\n",
       "        vertical-align: top;\n",
       "    }\n",
       "\n",
       "    .dataframe thead th {\n",
       "        text-align: right;\n",
       "    }\n",
       "</style>\n",
       "<table border=\"1\" class=\"dataframe\">\n",
       "  <thead>\n",
       "    <tr style=\"text-align: right;\">\n",
       "      <th></th>\n",
       "      <th>DIABETE4</th>\n",
       "      <th>_BMI5</th>\n",
       "      <th>_RFHYPE5</th>\n",
       "      <th>TOLDHI2</th>\n",
       "      <th>_CHOLCH2</th>\n",
       "      <th>_FRTLT1A</th>\n",
       "      <th>_VEGLT1A</th>\n",
       "      <th>SMOKE100</th>\n",
       "      <th>_RFDRHV7</th>\n",
       "      <th>CVDSTRK3</th>\n",
       "      <th>...</th>\n",
       "      <th>MEDCOST</th>\n",
       "      <th>_TOTINDA</th>\n",
       "      <th>GENHLTH</th>\n",
       "      <th>PHYSHLTH</th>\n",
       "      <th>MENTHLTH</th>\n",
       "      <th>DIFFWALK</th>\n",
       "      <th>SEXVAR</th>\n",
       "      <th>_AGEG5YR</th>\n",
       "      <th>EDUCA</th>\n",
       "      <th>INCOME2</th>\n",
       "    </tr>\n",
       "  </thead>\n",
       "  <tbody>\n",
       "    <tr>\n",
       "      <th>count</th>\n",
       "      <td>243317.000000</td>\n",
       "      <td>243317.000000</td>\n",
       "      <td>243317.000000</td>\n",
       "      <td>243317.000000</td>\n",
       "      <td>243317.000000</td>\n",
       "      <td>243317.000000</td>\n",
       "      <td>243317.000000</td>\n",
       "      <td>243317.000000</td>\n",
       "      <td>243317.000000</td>\n",
       "      <td>243317.000000</td>\n",
       "      <td>...</td>\n",
       "      <td>243317.000000</td>\n",
       "      <td>243317.000000</td>\n",
       "      <td>243317.000000</td>\n",
       "      <td>243317.000000</td>\n",
       "      <td>243317.000000</td>\n",
       "      <td>243317.000000</td>\n",
       "      <td>243317.000000</td>\n",
       "      <td>243317.000000</td>\n",
       "      <td>243317.000000</td>\n",
       "      <td>243317.000000</td>\n",
       "    </tr>\n",
       "    <tr>\n",
       "      <th>mean</th>\n",
       "      <td>0.145074</td>\n",
       "      <td>28.673176</td>\n",
       "      <td>0.425683</td>\n",
       "      <td>0.388292</td>\n",
       "      <td>0.962913</td>\n",
       "      <td>0.630293</td>\n",
       "      <td>0.821673</td>\n",
       "      <td>0.426242</td>\n",
       "      <td>0.062906</td>\n",
       "      <td>0.043589</td>\n",
       "      <td>...</td>\n",
       "      <td>0.093861</td>\n",
       "      <td>0.752985</td>\n",
       "      <td>3.439891</td>\n",
       "      <td>4.402426</td>\n",
       "      <td>3.673463</td>\n",
       "      <td>0.168061</td>\n",
       "      <td>0.469573</td>\n",
       "      <td>7.945277</td>\n",
       "      <td>5.073509</td>\n",
       "      <td>6.133201</td>\n",
       "    </tr>\n",
       "    <tr>\n",
       "      <th>std</th>\n",
       "      <td>0.352176</td>\n",
       "      <td>6.401627</td>\n",
       "      <td>0.494447</td>\n",
       "      <td>0.487363</td>\n",
       "      <td>0.188976</td>\n",
       "      <td>0.482726</td>\n",
       "      <td>0.382789</td>\n",
       "      <td>0.494531</td>\n",
       "      <td>0.242794</td>\n",
       "      <td>0.204180</td>\n",
       "      <td>...</td>\n",
       "      <td>0.291636</td>\n",
       "      <td>0.431277</td>\n",
       "      <td>1.060404</td>\n",
       "      <td>8.831775</td>\n",
       "      <td>7.802452</td>\n",
       "      <td>0.373921</td>\n",
       "      <td>0.499074</td>\n",
       "      <td>3.273054</td>\n",
       "      <td>0.974905</td>\n",
       "      <td>2.062683</td>\n",
       "    </tr>\n",
       "    <tr>\n",
       "      <th>min</th>\n",
       "      <td>0.000000</td>\n",
       "      <td>12.000000</td>\n",
       "      <td>0.000000</td>\n",
       "      <td>0.000000</td>\n",
       "      <td>0.000000</td>\n",
       "      <td>0.000000</td>\n",
       "      <td>0.000000</td>\n",
       "      <td>0.000000</td>\n",
       "      <td>0.000000</td>\n",
       "      <td>0.000000</td>\n",
       "      <td>...</td>\n",
       "      <td>0.000000</td>\n",
       "      <td>0.000000</td>\n",
       "      <td>1.000000</td>\n",
       "      <td>0.000000</td>\n",
       "      <td>0.000000</td>\n",
       "      <td>0.000000</td>\n",
       "      <td>0.000000</td>\n",
       "      <td>1.000000</td>\n",
       "      <td>1.000000</td>\n",
       "      <td>1.000000</td>\n",
       "    </tr>\n",
       "    <tr>\n",
       "      <th>25%</th>\n",
       "      <td>0.000000</td>\n",
       "      <td>24.340000</td>\n",
       "      <td>0.000000</td>\n",
       "      <td>0.000000</td>\n",
       "      <td>1.000000</td>\n",
       "      <td>0.000000</td>\n",
       "      <td>1.000000</td>\n",
       "      <td>0.000000</td>\n",
       "      <td>0.000000</td>\n",
       "      <td>0.000000</td>\n",
       "      <td>...</td>\n",
       "      <td>0.000000</td>\n",
       "      <td>1.000000</td>\n",
       "      <td>3.000000</td>\n",
       "      <td>0.000000</td>\n",
       "      <td>0.000000</td>\n",
       "      <td>0.000000</td>\n",
       "      <td>0.000000</td>\n",
       "      <td>6.000000</td>\n",
       "      <td>4.000000</td>\n",
       "      <td>5.000000</td>\n",
       "    </tr>\n",
       "    <tr>\n",
       "      <th>50%</th>\n",
       "      <td>0.000000</td>\n",
       "      <td>27.460000</td>\n",
       "      <td>0.000000</td>\n",
       "      <td>0.000000</td>\n",
       "      <td>1.000000</td>\n",
       "      <td>1.000000</td>\n",
       "      <td>1.000000</td>\n",
       "      <td>0.000000</td>\n",
       "      <td>0.000000</td>\n",
       "      <td>0.000000</td>\n",
       "      <td>...</td>\n",
       "      <td>0.000000</td>\n",
       "      <td>1.000000</td>\n",
       "      <td>4.000000</td>\n",
       "      <td>0.000000</td>\n",
       "      <td>0.000000</td>\n",
       "      <td>0.000000</td>\n",
       "      <td>0.000000</td>\n",
       "      <td>8.000000</td>\n",
       "      <td>5.000000</td>\n",
       "      <td>7.000000</td>\n",
       "    </tr>\n",
       "    <tr>\n",
       "      <th>75%</th>\n",
       "      <td>0.000000</td>\n",
       "      <td>31.870000</td>\n",
       "      <td>1.000000</td>\n",
       "      <td>1.000000</td>\n",
       "      <td>1.000000</td>\n",
       "      <td>1.000000</td>\n",
       "      <td>1.000000</td>\n",
       "      <td>1.000000</td>\n",
       "      <td>0.000000</td>\n",
       "      <td>0.000000</td>\n",
       "      <td>...</td>\n",
       "      <td>0.000000</td>\n",
       "      <td>1.000000</td>\n",
       "      <td>4.000000</td>\n",
       "      <td>3.000000</td>\n",
       "      <td>3.000000</td>\n",
       "      <td>0.000000</td>\n",
       "      <td>1.000000</td>\n",
       "      <td>10.000000</td>\n",
       "      <td>6.000000</td>\n",
       "      <td>8.000000</td>\n",
       "    </tr>\n",
       "    <tr>\n",
       "      <th>max</th>\n",
       "      <td>1.000000</td>\n",
       "      <td>98.700000</td>\n",
       "      <td>1.000000</td>\n",
       "      <td>1.000000</td>\n",
       "      <td>1.000000</td>\n",
       "      <td>1.000000</td>\n",
       "      <td>1.000000</td>\n",
       "      <td>1.000000</td>\n",
       "      <td>1.000000</td>\n",
       "      <td>1.000000</td>\n",
       "      <td>...</td>\n",
       "      <td>1.000000</td>\n",
       "      <td>1.000000</td>\n",
       "      <td>5.000000</td>\n",
       "      <td>30.000000</td>\n",
       "      <td>30.000000</td>\n",
       "      <td>1.000000</td>\n",
       "      <td>1.000000</td>\n",
       "      <td>13.000000</td>\n",
       "      <td>6.000000</td>\n",
       "      <td>8.000000</td>\n",
       "    </tr>\n",
       "  </tbody>\n",
       "</table>\n",
       "<p>8 rows × 22 columns</p>\n",
       "</div>"
      ],
      "text/plain": [
       "            DIABETE4          _BMI5       _RFHYPE5        TOLDHI2  \\\n",
       "count  243317.000000  243317.000000  243317.000000  243317.000000   \n",
       "mean        0.145074      28.673176       0.425683       0.388292   \n",
       "std         0.352176       6.401627       0.494447       0.487363   \n",
       "min         0.000000      12.000000       0.000000       0.000000   \n",
       "25%         0.000000      24.340000       0.000000       0.000000   \n",
       "50%         0.000000      27.460000       0.000000       0.000000   \n",
       "75%         0.000000      31.870000       1.000000       1.000000   \n",
       "max         1.000000      98.700000       1.000000       1.000000   \n",
       "\n",
       "            _CHOLCH2       _FRTLT1A       _VEGLT1A       SMOKE100  \\\n",
       "count  243317.000000  243317.000000  243317.000000  243317.000000   \n",
       "mean        0.962913       0.630293       0.821673       0.426242   \n",
       "std         0.188976       0.482726       0.382789       0.494531   \n",
       "min         0.000000       0.000000       0.000000       0.000000   \n",
       "25%         1.000000       0.000000       1.000000       0.000000   \n",
       "50%         1.000000       1.000000       1.000000       0.000000   \n",
       "75%         1.000000       1.000000       1.000000       1.000000   \n",
       "max         1.000000       1.000000       1.000000       1.000000   \n",
       "\n",
       "            _RFDRHV7       CVDSTRK3  ...        MEDCOST       _TOTINDA  \\\n",
       "count  243317.000000  243317.000000  ...  243317.000000  243317.000000   \n",
       "mean        0.062906       0.043589  ...       0.093861       0.752985   \n",
       "std         0.242794       0.204180  ...       0.291636       0.431277   \n",
       "min         0.000000       0.000000  ...       0.000000       0.000000   \n",
       "25%         0.000000       0.000000  ...       0.000000       1.000000   \n",
       "50%         0.000000       0.000000  ...       0.000000       1.000000   \n",
       "75%         0.000000       0.000000  ...       0.000000       1.000000   \n",
       "max         1.000000       1.000000  ...       1.000000       1.000000   \n",
       "\n",
       "             GENHLTH       PHYSHLTH       MENTHLTH       DIFFWALK  \\\n",
       "count  243317.000000  243317.000000  243317.000000  243317.000000   \n",
       "mean        3.439891       4.402426       3.673463       0.168061   \n",
       "std         1.060404       8.831775       7.802452       0.373921   \n",
       "min         1.000000       0.000000       0.000000       0.000000   \n",
       "25%         3.000000       0.000000       0.000000       0.000000   \n",
       "50%         4.000000       0.000000       0.000000       0.000000   \n",
       "75%         4.000000       3.000000       3.000000       0.000000   \n",
       "max         5.000000      30.000000      30.000000       1.000000   \n",
       "\n",
       "              SEXVAR       _AGEG5YR          EDUCA        INCOME2  \n",
       "count  243317.000000  243317.000000  243317.000000  243317.000000  \n",
       "mean        0.469573       7.945277       5.073509       6.133201  \n",
       "std         0.499074       3.273054       0.974905       2.062683  \n",
       "min         0.000000       1.000000       1.000000       1.000000  \n",
       "25%         0.000000       6.000000       4.000000       5.000000  \n",
       "50%         0.000000       8.000000       5.000000       7.000000  \n",
       "75%         1.000000      10.000000       6.000000       8.000000  \n",
       "max         1.000000      13.000000       6.000000       8.000000  \n",
       "\n",
       "[8 rows x 22 columns]"
      ]
     },
     "execution_count": 51,
     "metadata": {},
     "output_type": "execute_result"
    }
   ],
   "source": [
    "brfss_df_selected.describe()"
   ]
  },
  {
   "cell_type": "markdown",
   "id": "d33d92b1",
   "metadata": {},
   "source": [
    "**Note: After performing the mapping from code book most of the data looks clean. BMI of 98.7 seems a bit high and could be an outlier. We will look at this more closely in the next notebook**   "
   ]
  },
  {
   "cell_type": "markdown",
   "id": "ce2d59d2",
   "metadata": {},
   "source": [
    "### 5. Rename Columns for Better Understanding"
   ]
  },
  {
   "cell_type": "code",
   "execution_count": 52,
   "id": "8e3bd1ec",
   "metadata": {},
   "outputs": [],
   "source": [
    "column_mapping = {\"DIABETE4\" : \"Diabetes\", \"_BMI5\" : \"BMI\",\"_STATE\" : \"State\" ,\n",
    "                 \"_RFHYPE5\" : \"HighBP\",\"TOLDHI2\" : \"HighChol\", \"_CHOLCH2\" : \"CholCheck\",\n",
    "                 \"_FRTLT1A\" : \"FruitConsume\" , \"_VEGLT1A\" : \"VegetableConsume\" ,  \n",
    "                 \"SMOKE100\" : \"Smoker\" , \"_RFDRHV7\" : \"HeavyDrinker\",\n",
    "                 \"CVDSTRK3\" : \"Stroke\" , \"_MICHD\" : \"HeartDisease\",\n",
    "                 \"HLTHPLN1\" : \"Healthcare\" , \"MEDCOST\" : \"NoDoctorDueToCost\",\n",
    "                  \"_TOTINDA\" : \"PhysicalActivity\", \"GENHLTH\" : \"GeneralHealth\", \"PHYSHLTH\" : \"PhysicalHealth\",\n",
    "                  \"MENTHLTH\" : \"MentalHealth\", \"DIFFWALK\" : \"DifficultyWalking\",\n",
    "                  \"SEXVAR\" : \"Gender\", \"_AGEG5YR\" : \"Age\", \"EDUCA\" : \"Education\" , \"INCOME2\" : \"Income\"}"
   ]
  },
  {
   "cell_type": "code",
   "execution_count": 53,
   "id": "d2bd512e",
   "metadata": {},
   "outputs": [],
   "source": [
    "diabetes = brfss_df_selected.rename(columns=column_mapping)"
   ]
  },
  {
   "cell_type": "code",
   "execution_count": 54,
   "id": "d177a2be",
   "metadata": {},
   "outputs": [
    {
     "name": "stdout",
     "output_type": "stream",
     "text": [
      "<class 'pandas.core.frame.DataFrame'>\n",
      "Int64Index: 243317 entries, 0 to 418267\n",
      "Data columns (total 23 columns):\n",
      " #   Column             Non-Null Count   Dtype  \n",
      "---  ------             --------------   -----  \n",
      " 0   Diabetes           243317 non-null  float64\n",
      " 1   BMI                243317 non-null  float64\n",
      " 2   State              243317 non-null  object \n",
      " 3   HighBP             243317 non-null  float64\n",
      " 4   HighChol           243317 non-null  float64\n",
      " 5   CholCheck          243317 non-null  float64\n",
      " 6   FruitConsume       243317 non-null  float64\n",
      " 7   VegetableConsume   243317 non-null  float64\n",
      " 8   Smoker             243317 non-null  float64\n",
      " 9   HeavyDrinker       243317 non-null  float64\n",
      " 10  Stroke             243317 non-null  float64\n",
      " 11  HeartDisease       243317 non-null  float64\n",
      " 12  Healthcare         243317 non-null  float64\n",
      " 13  NoDoctorDueToCost  243317 non-null  float64\n",
      " 14  PhysicalActivity   243317 non-null  float64\n",
      " 15  GeneralHealth      243317 non-null  float64\n",
      " 16  PhysicalHealth     243317 non-null  float64\n",
      " 17  MentalHealth       243317 non-null  float64\n",
      " 18  DifficultyWalking  243317 non-null  float64\n",
      " 19  Gender             243317 non-null  float64\n",
      " 20  Age                243317 non-null  float64\n",
      " 21  Education          243317 non-null  float64\n",
      " 22  Income             243317 non-null  float64\n",
      "dtypes: float64(22), object(1)\n",
      "memory usage: 44.6+ MB\n"
     ]
    }
   ],
   "source": [
    "diabetes.info()"
   ]
  },
  {
   "cell_type": "markdown",
   "id": "a1dd153d",
   "metadata": {},
   "source": [
    "### 6. Write to File "
   ]
  },
  {
   "cell_type": "code",
   "execution_count": 55,
   "id": "d01958b4",
   "metadata": {},
   "outputs": [],
   "source": [
    "#Run this only once\n",
    "#diabetes.to_csv(\"./diabetes.csv\")"
   ]
  },
  {
   "cell_type": "markdown",
   "id": "a9cd1453",
   "metadata": {},
   "source": [
    "### 7. Read and Quick Check"
   ]
  },
  {
   "cell_type": "code",
   "execution_count": 56,
   "id": "8f0e2be7",
   "metadata": {},
   "outputs": [],
   "source": [
    "diabetes_read = pd.read_csv('./diabetes.csv')"
   ]
  },
  {
   "cell_type": "code",
   "execution_count": 57,
   "id": "b4a00151",
   "metadata": {},
   "outputs": [
    {
     "data": {
      "text/html": [
       "<div>\n",
       "<style scoped>\n",
       "    .dataframe tbody tr th:only-of-type {\n",
       "        vertical-align: middle;\n",
       "    }\n",
       "\n",
       "    .dataframe tbody tr th {\n",
       "        vertical-align: top;\n",
       "    }\n",
       "\n",
       "    .dataframe thead th {\n",
       "        text-align: right;\n",
       "    }\n",
       "</style>\n",
       "<table border=\"1\" class=\"dataframe\">\n",
       "  <thead>\n",
       "    <tr style=\"text-align: right;\">\n",
       "      <th></th>\n",
       "      <th>Unnamed: 0</th>\n",
       "      <th>Diabetes</th>\n",
       "      <th>BMI</th>\n",
       "      <th>State</th>\n",
       "      <th>HighBP</th>\n",
       "      <th>HighChol</th>\n",
       "      <th>CholCheck</th>\n",
       "      <th>FruitConsume</th>\n",
       "      <th>VegetableConsume</th>\n",
       "      <th>Smoker</th>\n",
       "      <th>...</th>\n",
       "      <th>NoDoctorDueToCost</th>\n",
       "      <th>PhysicalActivity</th>\n",
       "      <th>GeneralHealth</th>\n",
       "      <th>PhysicalHealth</th>\n",
       "      <th>MentalHealth</th>\n",
       "      <th>DifficultyWalking</th>\n",
       "      <th>Gender</th>\n",
       "      <th>Age</th>\n",
       "      <th>Education</th>\n",
       "      <th>Income</th>\n",
       "    </tr>\n",
       "  </thead>\n",
       "  <tbody>\n",
       "    <tr>\n",
       "      <th>0</th>\n",
       "      <td>0</td>\n",
       "      <td>0.0</td>\n",
       "      <td>28.17</td>\n",
       "      <td>AL</td>\n",
       "      <td>1.0</td>\n",
       "      <td>1.0</td>\n",
       "      <td>1.0</td>\n",
       "      <td>1.0</td>\n",
       "      <td>1.0</td>\n",
       "      <td>1.0</td>\n",
       "      <td>...</td>\n",
       "      <td>0.0</td>\n",
       "      <td>0.0</td>\n",
       "      <td>3.0</td>\n",
       "      <td>15.0</td>\n",
       "      <td>0.0</td>\n",
       "      <td>1.0</td>\n",
       "      <td>0.0</td>\n",
       "      <td>13.0</td>\n",
       "      <td>3.0</td>\n",
       "      <td>3.0</td>\n",
       "    </tr>\n",
       "    <tr>\n",
       "      <th>1</th>\n",
       "      <td>1</td>\n",
       "      <td>0.0</td>\n",
       "      <td>18.54</td>\n",
       "      <td>AL</td>\n",
       "      <td>0.0</td>\n",
       "      <td>0.0</td>\n",
       "      <td>1.0</td>\n",
       "      <td>1.0</td>\n",
       "      <td>1.0</td>\n",
       "      <td>0.0</td>\n",
       "      <td>...</td>\n",
       "      <td>0.0</td>\n",
       "      <td>1.0</td>\n",
       "      <td>2.0</td>\n",
       "      <td>10.0</td>\n",
       "      <td>0.0</td>\n",
       "      <td>0.0</td>\n",
       "      <td>0.0</td>\n",
       "      <td>11.0</td>\n",
       "      <td>5.0</td>\n",
       "      <td>5.0</td>\n",
       "    </tr>\n",
       "    <tr>\n",
       "      <th>2</th>\n",
       "      <td>2</td>\n",
       "      <td>1.0</td>\n",
       "      <td>31.62</td>\n",
       "      <td>AL</td>\n",
       "      <td>1.0</td>\n",
       "      <td>0.0</td>\n",
       "      <td>1.0</td>\n",
       "      <td>1.0</td>\n",
       "      <td>1.0</td>\n",
       "      <td>0.0</td>\n",
       "      <td>...</td>\n",
       "      <td>0.0</td>\n",
       "      <td>1.0</td>\n",
       "      <td>3.0</td>\n",
       "      <td>0.0</td>\n",
       "      <td>30.0</td>\n",
       "      <td>1.0</td>\n",
       "      <td>0.0</td>\n",
       "      <td>10.0</td>\n",
       "      <td>6.0</td>\n",
       "      <td>7.0</td>\n",
       "    </tr>\n",
       "    <tr>\n",
       "      <th>3</th>\n",
       "      <td>6</td>\n",
       "      <td>1.0</td>\n",
       "      <td>32.98</td>\n",
       "      <td>AL</td>\n",
       "      <td>0.0</td>\n",
       "      <td>0.0</td>\n",
       "      <td>1.0</td>\n",
       "      <td>1.0</td>\n",
       "      <td>1.0</td>\n",
       "      <td>1.0</td>\n",
       "      <td>...</td>\n",
       "      <td>0.0</td>\n",
       "      <td>1.0</td>\n",
       "      <td>4.0</td>\n",
       "      <td>30.0</td>\n",
       "      <td>0.0</td>\n",
       "      <td>1.0</td>\n",
       "      <td>1.0</td>\n",
       "      <td>11.0</td>\n",
       "      <td>6.0</td>\n",
       "      <td>7.0</td>\n",
       "    </tr>\n",
       "    <tr>\n",
       "      <th>4</th>\n",
       "      <td>9</td>\n",
       "      <td>1.0</td>\n",
       "      <td>16.65</td>\n",
       "      <td>AL</td>\n",
       "      <td>0.0</td>\n",
       "      <td>1.0</td>\n",
       "      <td>1.0</td>\n",
       "      <td>0.0</td>\n",
       "      <td>0.0</td>\n",
       "      <td>1.0</td>\n",
       "      <td>...</td>\n",
       "      <td>0.0</td>\n",
       "      <td>0.0</td>\n",
       "      <td>1.0</td>\n",
       "      <td>20.0</td>\n",
       "      <td>0.0</td>\n",
       "      <td>1.0</td>\n",
       "      <td>0.0</td>\n",
       "      <td>11.0</td>\n",
       "      <td>2.0</td>\n",
       "      <td>3.0</td>\n",
       "    </tr>\n",
       "  </tbody>\n",
       "</table>\n",
       "<p>5 rows × 24 columns</p>\n",
       "</div>"
      ],
      "text/plain": [
       "   Unnamed: 0  Diabetes    BMI State  HighBP  HighChol  CholCheck  \\\n",
       "0           0       0.0  28.17    AL     1.0       1.0        1.0   \n",
       "1           1       0.0  18.54    AL     0.0       0.0        1.0   \n",
       "2           2       1.0  31.62    AL     1.0       0.0        1.0   \n",
       "3           6       1.0  32.98    AL     0.0       0.0        1.0   \n",
       "4           9       1.0  16.65    AL     0.0       1.0        1.0   \n",
       "\n",
       "   FruitConsume  VegetableConsume  Smoker  ...  NoDoctorDueToCost  \\\n",
       "0           1.0               1.0     1.0  ...                0.0   \n",
       "1           1.0               1.0     0.0  ...                0.0   \n",
       "2           1.0               1.0     0.0  ...                0.0   \n",
       "3           1.0               1.0     1.0  ...                0.0   \n",
       "4           0.0               0.0     1.0  ...                0.0   \n",
       "\n",
       "   PhysicalActivity  GeneralHealth  PhysicalHealth  MentalHealth  \\\n",
       "0               0.0            3.0            15.0           0.0   \n",
       "1               1.0            2.0            10.0           0.0   \n",
       "2               1.0            3.0             0.0          30.0   \n",
       "3               1.0            4.0            30.0           0.0   \n",
       "4               0.0            1.0            20.0           0.0   \n",
       "\n",
       "   DifficultyWalking  Gender   Age  Education  Income  \n",
       "0                1.0     0.0  13.0        3.0     3.0  \n",
       "1                0.0     0.0  11.0        5.0     5.0  \n",
       "2                1.0     0.0  10.0        6.0     7.0  \n",
       "3                1.0     1.0  11.0        6.0     7.0  \n",
       "4                1.0     0.0  11.0        2.0     3.0  \n",
       "\n",
       "[5 rows x 24 columns]"
      ]
     },
     "execution_count": 57,
     "metadata": {},
     "output_type": "execute_result"
    }
   ],
   "source": [
    "diabetes_read.head()"
   ]
  },
  {
   "cell_type": "code",
   "execution_count": 58,
   "id": "418eb76b",
   "metadata": {},
   "outputs": [
    {
     "name": "stdout",
     "output_type": "stream",
     "text": [
      "<class 'pandas.core.frame.DataFrame'>\n",
      "RangeIndex: 243317 entries, 0 to 243316\n",
      "Data columns (total 24 columns):\n",
      " #   Column             Non-Null Count   Dtype  \n",
      "---  ------             --------------   -----  \n",
      " 0   Unnamed: 0         243317 non-null  int64  \n",
      " 1   Diabetes           243317 non-null  float64\n",
      " 2   BMI                243317 non-null  float64\n",
      " 3   State              243317 non-null  object \n",
      " 4   HighBP             243317 non-null  float64\n",
      " 5   HighChol           243317 non-null  float64\n",
      " 6   CholCheck          243317 non-null  float64\n",
      " 7   FruitConsume       243317 non-null  float64\n",
      " 8   VegetableConsume   243317 non-null  float64\n",
      " 9   Smoker             243317 non-null  float64\n",
      " 10  HeavyDrinker       243317 non-null  float64\n",
      " 11  Stroke             243317 non-null  float64\n",
      " 12  HeartDisease       243317 non-null  float64\n",
      " 13  Healthcare         243317 non-null  float64\n",
      " 14  NoDoctorDueToCost  243317 non-null  float64\n",
      " 15  PhysicalActivity   243317 non-null  float64\n",
      " 16  GeneralHealth      243317 non-null  float64\n",
      " 17  PhysicalHealth     243317 non-null  float64\n",
      " 18  MentalHealth       243317 non-null  float64\n",
      " 19  DifficultyWalking  243317 non-null  float64\n",
      " 20  Gender             243317 non-null  float64\n",
      " 21  Age                243317 non-null  float64\n",
      " 22  Education          243317 non-null  float64\n",
      " 23  Income             243317 non-null  float64\n",
      "dtypes: float64(22), int64(1), object(1)\n",
      "memory usage: 44.6+ MB\n"
     ]
    }
   ],
   "source": [
    "diabetes_read.info()"
   ]
  },
  {
   "cell_type": "markdown",
   "id": "40d318ce",
   "metadata": {},
   "source": [
    "# ---- > NEXT NOTEBOOK : EDA.ipynb"
   ]
  },
  {
   "cell_type": "code",
   "execution_count": null,
   "id": "99434fcd",
   "metadata": {},
   "outputs": [],
   "source": []
  }
 ],
 "metadata": {
  "kernelspec": {
   "display_name": "Python 3",
   "language": "python",
   "name": "python3"
  },
  "language_info": {
   "codemirror_mode": {
    "name": "ipython",
    "version": 3
   },
   "file_extension": ".py",
   "mimetype": "text/x-python",
   "name": "python",
   "nbconvert_exporter": "python",
   "pygments_lexer": "ipython3",
   "version": "3.8.8"
  }
 },
 "nbformat": 4,
 "nbformat_minor": 5
}
