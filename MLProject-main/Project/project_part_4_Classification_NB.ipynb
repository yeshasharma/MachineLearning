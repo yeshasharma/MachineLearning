{
 "cells": [
  {
   "cell_type": "markdown",
   "id": "4a68a8af",
   "metadata": {},
   "source": [
    "# NOTEBOOK 5: CLASSIFICATION \n",
    "### Team 3\n",
    "- Anjali Sebastian\n",
    "- Yesha Sharma\n",
    "- Rupansh Phutela\n",
    "\n",
    "### What this Notebook does?\n",
    "After Data selection, cleaning, pre-processing, EDA and Regression Analysis & Clustering we will now look at how we can perform classfication on our data. Our data has target varibale y = Diabetes (Yes or No) we will try to classify the data to see the performance of different classifiers. \n",
    " - Normalization of entire dataset due to varying ranges of different attributes\n",
    " - Simple Visualization of the Dataset\n",
    "\n",
    "#### CLASSIFICATION Algorithms\n",
    " - Gaussian Naive Bayes\n",
    " - Neural Networks(MLP)\n",
    " - Support Vector Machine\n",
    " \n",
    "#### Naive Bayes\n",
    "We first try the Gaussian Naive Bayes algorithm. Since we have 21 features, we first need to find important features with the help of importances parameter of the Decision Tree\n",
    "- Perform PCA on important features and reduce it to suitable dimensions\n",
    "- Handle imbalanced dataset with sampling\n",
    "- Perform Gaussian Naive Bayes classification \n",
    "- Change hyper parameters of Gaussian Naive Bayes and classify"
   ]
  },
  {
   "cell_type": "markdown",
   "id": "4803b7a7",
   "metadata": {},
   "source": [
    "## 1. Import Packages and Setup"
   ]
  },
  {
   "cell_type": "code",
   "execution_count": 1,
   "id": "c26ff6c6",
   "metadata": {},
   "outputs": [],
   "source": [
    "# you need   Python ≥3.5 \n",
    "import sys\n",
    "assert sys.version_info >= (3, 5)\n"
   ]
  },
  {
   "cell_type": "code",
   "execution_count": 2,
   "id": "adfe978e",
   "metadata": {},
   "outputs": [],
   "source": [
    "# Scikit-Learn ≥0.20 is required\n",
    "import sklearn\n",
    "assert sklearn.__version__ >= \"0.20\""
   ]
  },
  {
   "cell_type": "code",
   "execution_count": 3,
   "id": "d01bbb86",
   "metadata": {},
   "outputs": [],
   "source": [
    "import os\n",
    "import pandas as pd   \n",
    "import numpy as np    \n",
    "import seaborn as sns\n",
    "import time\n",
    "import warnings\n",
    "warnings.filterwarnings(\"ignore\")\n",
    "##############################################"
   ]
  },
  {
   "cell_type": "code",
   "execution_count": 4,
   "id": "bfbef8b6",
   "metadata": {},
   "outputs": [],
   "source": [
    "# to make this notebook's output stable across runs\n",
    "np.random.seed(42)\n",
    "\n",
    "# To plot pretty figures\n",
    "%matplotlib inline\n",
    "import matplotlib as mpl\n",
    "import matplotlib.pyplot as plt\n",
    "\n",
    "mpl.rc('axes', labelsize=14)\n",
    "mpl.rc('xtick', labelsize=12)\n",
    "mpl.rc('ytick', labelsize=12)\n",
    "\n",
    "\n",
    "# Where to save the figures\n",
    "PROJECT_ROOT_DIR = \".\"\n",
    "CHAPTER_ID = \"clustering_kmeans\"\n",
    "IMAGES_PATH = os.path.join(PROJECT_ROOT_DIR, \"images\", CHAPTER_ID)\n",
    "os.makedirs(IMAGES_PATH, exist_ok=True)\n",
    "\n",
    "# method to save figures\n",
    "def save_fig(fig_id, tight_layout=True, fig_extension=\"png\", resolution=300):\n",
    "    path = os.path.join(IMAGES_PATH, fig_id + \".\" + fig_extension)\n",
    "    print(\"Saving figure\", fig_id)\n",
    "    if tight_layout:\n",
    "        plt.tight_layout()\n",
    "    plt.savefig(path, format=fig_extension, dpi=resolution)\n"
   ]
  },
  {
   "cell_type": "markdown",
   "id": "e311ea9f",
   "metadata": {},
   "source": [
    "## 2. Utility Functions"
   ]
  },
  {
   "cell_type": "code",
   "execution_count": 5,
   "id": "32b9aea1",
   "metadata": {},
   "outputs": [],
   "source": [
    "import matplotlib.patches as mpatches\n",
    "from matplotlib.colors import ListedColormap, BoundaryNorm\n",
    "\n",
    "def plot_data(X):\n",
    "    plt.plot(X[:, 0], X[:, 1], 'k.', markersize=2)\n",
    "\n",
    "def plot_labelled_scatter(X, y, class_labels):\n",
    "    num_labels = len(class_labels)\n",
    "\n",
    "    x_min, x_max = X[:, 0].min() - 1, X[:, 0].max() + 1\n",
    "    y_min, y_max = X[:, 1].min() - 1, X[:, 1].max() + 1\n",
    "\n",
    "    marker_array = ['o', '^', '*']\n",
    "    color_array = ['#FFFF00','#00AAFF','#000000','#FF00AA','#2ca02c', '#d62728','#9467bd','#8c564b','#e377c2']\n",
    "    cmap_bold = ListedColormap(color_array)\n",
    "    bnorm = BoundaryNorm(np.arange(0, num_labels + 1, 1), ncolors=num_labels)\n",
    "    plt.figure()\n",
    "\n",
    "    plt.scatter(X[:, 0], X[:, 1], s=65, c=y, cmap=cmap_bold, norm = bnorm, alpha = 0.40, edgecolor='black', lw = 1)\n",
    "\n",
    "    plt.xlim(x_min, x_max)\n",
    "    plt.ylim(y_min, y_max)\n",
    "\n",
    "    h = []\n",
    "    for c in range(0, num_labels):\n",
    "        h.append(mpatches.Patch(color=color_array[c], label=class_labels[c]))\n",
    "    plt.legend(handles=h)\n",
    "    plt.show()"
   ]
  },
  {
   "cell_type": "code",
   "execution_count": 6,
   "id": "60055df7",
   "metadata": {},
   "outputs": [],
   "source": [
    "# a function to plot a bar graph of important features\n",
    "def plot_feature_importances(clf, feature_names):\n",
    "    c_features = len(feature_names)\n",
    "    #plt.figure(figsize=(15,4))\n",
    "    plt.figure(figsize=(8,8))\n",
    "    plt.barh(range(c_features), clf.feature_importances_)\n",
    "    plt.xlabel(\"Feature importance\")\n",
    "    plt.ylabel(\"Feature name\")\n",
    "    plt.yticks(np.arange(c_features), feature_names)"
   ]
  },
  {
   "cell_type": "markdown",
   "id": "84f29d37",
   "metadata": {},
   "source": [
    "# CHANGE ME FOR DIABETES"
   ]
  },
  {
   "cell_type": "code",
   "execution_count": 7,
   "id": "dea85ac0",
   "metadata": {},
   "outputs": [],
   "source": [
    "import numpy\n",
    "import pandas as pd\n",
    "import seaborn as sn\n",
    "import matplotlib.pyplot as plt\n",
    "import matplotlib.cm as cm\n",
    "from matplotlib.colors import ListedColormap, BoundaryNorm\n",
    "from sklearn import neighbors\n",
    "import matplotlib.patches as mpatches\n",
    "import graphviz\n",
    "from sklearn.tree import export_graphviz\n",
    "import matplotlib.patches as mpatches\n",
    "\n",
    "\n",
    "def plot_class_regions_for_classifier(clf, X, y, X_test=None, y_test=None, title=None, target_names = None, plot_decision_regions = True):\n",
    "\n",
    "    numClasses = numpy.amax(y) + 1\n",
    "    color_list_light = ['#FFFFAA', '#EFEFEF', '#AAFFAA', '#AAAAFF']\n",
    "    color_list_bold = ['#EEEE00', '#000000', '#00CC00', '#0000CC']\n",
    "    print(color_list_light[0:numClasses])\n",
    "    cmap_light = ListedColormap(color_list_light[0:numClasses])\n",
    "    cmap_bold  = ListedColormap(color_list_bold[0:numClasses])\n",
    "\n",
    "    h = 0.03\n",
    "    k = 0.5\n",
    "    x_plot_adjust = 0.1\n",
    "    y_plot_adjust = 0.1\n",
    "    plot_symbol_size = 50\n",
    "\n",
    "    x_min = X[:, 0].min()\n",
    "    x_max = X[:, 0].max()\n",
    "    y_min = X[:, 1].min()\n",
    "    y_max = X[:, 1].max()\n",
    "\n",
    "    x2, y2 = numpy.meshgrid(numpy.arange(x_min-k, x_max+k, h), numpy.arange(y_min-k, y_max+k, h))\n",
    "    # numpy.c_ Translates slice objects to concatenation along the second axis\n",
    "    # e.g. np.c_[np.array([[1,2,3]]), 0, 0, np.array([[4,5,6]])]\n",
    "    # ravel() Returns a contiguous flattened array.\n",
    "    # x = np.array([[1, 2, 3], [4, 5, 6]])\n",
    "    # np.ravel(x) = [1 2 3 4 5 6]\n",
    "    P = clf.predict(numpy.c_[x2.ravel(), y2.ravel()])\n",
    "    P = P.reshape(x2.shape)\n",
    "    \n",
    "    #contour region\n",
    "    plt.figure()\n",
    "    if plot_decision_regions:\n",
    "        plt.contourf(x2, y2, P, cmap=cmap_light, alpha = 0.8)\n",
    "    \n",
    "    #train data plot\n",
    "    plt.scatter(X[:, 0], X[:, 1], c=y, cmap=cmap_bold, s=plot_symbol_size, edgecolor = 'black')\n",
    "    plt.xlim(x_min - x_plot_adjust, x_max + x_plot_adjust)\n",
    "    plt.ylim(y_min - y_plot_adjust, y_max + y_plot_adjust)\n",
    "    \n",
    "    #test data\n",
    "    if (X_test is not None):\n",
    "        plt.scatter(X_test[:, 0], X_test[:, 1], c=y_test, cmap=cmap_bold, s=plot_symbol_size, marker='^', edgecolor = 'black')\n",
    "        train_score = clf.score(X, y)\n",
    "        test_score  = clf.score(X_test, y_test)\n",
    "        title = title + \"\\nTrain score = {:.2f}, Test score = {:.2f}\".format(train_score, test_score)\n",
    "    \n",
    "    \n",
    "    if (target_names is not None):\n",
    "        legend_handles = []\n",
    "        for i in range(0, len(target_names)):\n",
    "            patch = mpatches.Patch(color=color_list_bold[i], label=target_names[i])\n",
    "            legend_handles.append(patch)\n",
    "        plt.legend(loc=0, handles=legend_handles)\n",
    "\n",
    "    if (title is not None):\n",
    "        plt.title(title)\n",
    "    plt.show()\n",
    "\n"
   ]
  },
  {
   "cell_type": "code",
   "execution_count": 8,
   "id": "9ab7e68a",
   "metadata": {},
   "outputs": [],
   "source": [
    "# Show confusion matrix\n",
    "def plot_confusion_matrix(confusion_mat, cln):\n",
    "    plt.imshow(confusion_mat, interpolation='nearest', cmap=plt.cm.gray)\n",
    "    plt.title('Confusion matrix')\n",
    "    plt.colorbar()\n",
    "    tick_marks = np.arange(cln)\n",
    "    plt.xticks(tick_marks, tick_marks)\n",
    "    plt.yticks(tick_marks, tick_marks)\n",
    "    plt.ylabel('True label')\n",
    "    plt.xlabel('Predicted label')\n",
    "    plt.show()"
   ]
  },
  {
   "cell_type": "markdown",
   "id": "457e5e24",
   "metadata": {},
   "source": [
    "## 3. Read Data and Display"
   ]
  },
  {
   "cell_type": "code",
   "execution_count": 9,
   "id": "8f0e2be7",
   "metadata": {},
   "outputs": [],
   "source": [
    "diabetes = pd.read_csv('./diabetes.csv')"
   ]
  },
  {
   "cell_type": "code",
   "execution_count": 10,
   "id": "cc84173e",
   "metadata": {},
   "outputs": [
    {
     "data": {
      "text/html": [
       "<div>\n",
       "<style scoped>\n",
       "    .dataframe tbody tr th:only-of-type {\n",
       "        vertical-align: middle;\n",
       "    }\n",
       "\n",
       "    .dataframe tbody tr th {\n",
       "        vertical-align: top;\n",
       "    }\n",
       "\n",
       "    .dataframe thead th {\n",
       "        text-align: right;\n",
       "    }\n",
       "</style>\n",
       "<table border=\"1\" class=\"dataframe\">\n",
       "  <thead>\n",
       "    <tr style=\"text-align: right;\">\n",
       "      <th></th>\n",
       "      <th>Unnamed: 0</th>\n",
       "      <th>Diabetes</th>\n",
       "      <th>BMI</th>\n",
       "      <th>State</th>\n",
       "      <th>HighBP</th>\n",
       "      <th>HighChol</th>\n",
       "      <th>CholCheck</th>\n",
       "      <th>FruitConsume</th>\n",
       "      <th>VegetableConsume</th>\n",
       "      <th>Smoker</th>\n",
       "      <th>...</th>\n",
       "      <th>NoDoctorDueToCost</th>\n",
       "      <th>PhysicalActivity</th>\n",
       "      <th>GeneralHealth</th>\n",
       "      <th>PhysicalHealth</th>\n",
       "      <th>MentalHealth</th>\n",
       "      <th>DifficultyWalking</th>\n",
       "      <th>Gender</th>\n",
       "      <th>Age</th>\n",
       "      <th>Education</th>\n",
       "      <th>Income</th>\n",
       "    </tr>\n",
       "  </thead>\n",
       "  <tbody>\n",
       "    <tr>\n",
       "      <th>0</th>\n",
       "      <td>0</td>\n",
       "      <td>0.0</td>\n",
       "      <td>28.17</td>\n",
       "      <td>AL</td>\n",
       "      <td>1.0</td>\n",
       "      <td>1.0</td>\n",
       "      <td>1.0</td>\n",
       "      <td>1.0</td>\n",
       "      <td>1.0</td>\n",
       "      <td>1.0</td>\n",
       "      <td>...</td>\n",
       "      <td>0.0</td>\n",
       "      <td>0.0</td>\n",
       "      <td>3.0</td>\n",
       "      <td>15.0</td>\n",
       "      <td>0.0</td>\n",
       "      <td>1.0</td>\n",
       "      <td>0.0</td>\n",
       "      <td>13.0</td>\n",
       "      <td>3.0</td>\n",
       "      <td>3.0</td>\n",
       "    </tr>\n",
       "    <tr>\n",
       "      <th>1</th>\n",
       "      <td>1</td>\n",
       "      <td>0.0</td>\n",
       "      <td>18.54</td>\n",
       "      <td>AL</td>\n",
       "      <td>0.0</td>\n",
       "      <td>0.0</td>\n",
       "      <td>1.0</td>\n",
       "      <td>1.0</td>\n",
       "      <td>1.0</td>\n",
       "      <td>0.0</td>\n",
       "      <td>...</td>\n",
       "      <td>0.0</td>\n",
       "      <td>1.0</td>\n",
       "      <td>2.0</td>\n",
       "      <td>10.0</td>\n",
       "      <td>0.0</td>\n",
       "      <td>0.0</td>\n",
       "      <td>0.0</td>\n",
       "      <td>11.0</td>\n",
       "      <td>5.0</td>\n",
       "      <td>5.0</td>\n",
       "    </tr>\n",
       "    <tr>\n",
       "      <th>2</th>\n",
       "      <td>2</td>\n",
       "      <td>1.0</td>\n",
       "      <td>31.62</td>\n",
       "      <td>AL</td>\n",
       "      <td>1.0</td>\n",
       "      <td>0.0</td>\n",
       "      <td>1.0</td>\n",
       "      <td>1.0</td>\n",
       "      <td>1.0</td>\n",
       "      <td>0.0</td>\n",
       "      <td>...</td>\n",
       "      <td>0.0</td>\n",
       "      <td>1.0</td>\n",
       "      <td>3.0</td>\n",
       "      <td>0.0</td>\n",
       "      <td>30.0</td>\n",
       "      <td>1.0</td>\n",
       "      <td>0.0</td>\n",
       "      <td>10.0</td>\n",
       "      <td>6.0</td>\n",
       "      <td>7.0</td>\n",
       "    </tr>\n",
       "    <tr>\n",
       "      <th>3</th>\n",
       "      <td>6</td>\n",
       "      <td>1.0</td>\n",
       "      <td>32.98</td>\n",
       "      <td>AL</td>\n",
       "      <td>0.0</td>\n",
       "      <td>0.0</td>\n",
       "      <td>1.0</td>\n",
       "      <td>1.0</td>\n",
       "      <td>1.0</td>\n",
       "      <td>1.0</td>\n",
       "      <td>...</td>\n",
       "      <td>0.0</td>\n",
       "      <td>1.0</td>\n",
       "      <td>4.0</td>\n",
       "      <td>30.0</td>\n",
       "      <td>0.0</td>\n",
       "      <td>1.0</td>\n",
       "      <td>1.0</td>\n",
       "      <td>11.0</td>\n",
       "      <td>6.0</td>\n",
       "      <td>7.0</td>\n",
       "    </tr>\n",
       "    <tr>\n",
       "      <th>4</th>\n",
       "      <td>9</td>\n",
       "      <td>1.0</td>\n",
       "      <td>16.65</td>\n",
       "      <td>AL</td>\n",
       "      <td>0.0</td>\n",
       "      <td>1.0</td>\n",
       "      <td>1.0</td>\n",
       "      <td>0.0</td>\n",
       "      <td>0.0</td>\n",
       "      <td>1.0</td>\n",
       "      <td>...</td>\n",
       "      <td>0.0</td>\n",
       "      <td>0.0</td>\n",
       "      <td>1.0</td>\n",
       "      <td>20.0</td>\n",
       "      <td>0.0</td>\n",
       "      <td>1.0</td>\n",
       "      <td>0.0</td>\n",
       "      <td>11.0</td>\n",
       "      <td>2.0</td>\n",
       "      <td>3.0</td>\n",
       "    </tr>\n",
       "  </tbody>\n",
       "</table>\n",
       "<p>5 rows × 24 columns</p>\n",
       "</div>"
      ],
      "text/plain": [
       "   Unnamed: 0  Diabetes    BMI State  HighBP  HighChol  CholCheck  \\\n",
       "0           0       0.0  28.17    AL     1.0       1.0        1.0   \n",
       "1           1       0.0  18.54    AL     0.0       0.0        1.0   \n",
       "2           2       1.0  31.62    AL     1.0       0.0        1.0   \n",
       "3           6       1.0  32.98    AL     0.0       0.0        1.0   \n",
       "4           9       1.0  16.65    AL     0.0       1.0        1.0   \n",
       "\n",
       "   FruitConsume  VegetableConsume  Smoker  ...  NoDoctorDueToCost  \\\n",
       "0           1.0               1.0     1.0  ...                0.0   \n",
       "1           1.0               1.0     0.0  ...                0.0   \n",
       "2           1.0               1.0     0.0  ...                0.0   \n",
       "3           1.0               1.0     1.0  ...                0.0   \n",
       "4           0.0               0.0     1.0  ...                0.0   \n",
       "\n",
       "   PhysicalActivity  GeneralHealth  PhysicalHealth  MentalHealth  \\\n",
       "0               0.0            3.0            15.0           0.0   \n",
       "1               1.0            2.0            10.0           0.0   \n",
       "2               1.0            3.0             0.0          30.0   \n",
       "3               1.0            4.0            30.0           0.0   \n",
       "4               0.0            1.0            20.0           0.0   \n",
       "\n",
       "   DifficultyWalking  Gender   Age  Education  Income  \n",
       "0                1.0     0.0  13.0        3.0     3.0  \n",
       "1                0.0     0.0  11.0        5.0     5.0  \n",
       "2                1.0     0.0  10.0        6.0     7.0  \n",
       "3                1.0     1.0  11.0        6.0     7.0  \n",
       "4                1.0     0.0  11.0        2.0     3.0  \n",
       "\n",
       "[5 rows x 24 columns]"
      ]
     },
     "execution_count": 10,
     "metadata": {},
     "output_type": "execute_result"
    }
   ],
   "source": [
    "diabetes.head()"
   ]
  },
  {
   "cell_type": "code",
   "execution_count": 11,
   "id": "52e8012b",
   "metadata": {},
   "outputs": [],
   "source": [
    "#set datatypes of columns to boolean or categorical as appropriate\n",
    "make_bool_int = ['Diabetes','HighBP','HighChol','CholCheck',\\\n",
    "             'FruitConsume','VegetableConsume','Smoker','HeavyDrinker','Stroke','HeartDisease',\\\n",
    "             'Healthcare','NoDoctorDueToCost','PhysicalActivity','DifficultyWalking','Gender']\n",
    "make_categorical_int = ['GeneralHealth','Age','Education','Income']"
   ]
  },
  {
   "cell_type": "code",
   "execution_count": 12,
   "id": "d3f21d30",
   "metadata": {},
   "outputs": [],
   "source": [
    "#drop the extra index column in datafram\n",
    "diabetes=diabetes.drop(['Unnamed: 0'], axis=1)\n",
    "\n",
    "#drop the state column in dataframe since it will not be used in the dataframe\n",
    "diabetes=diabetes.drop(['State'], axis=1)"
   ]
  },
  {
   "cell_type": "code",
   "execution_count": 13,
   "id": "27f3a95e",
   "metadata": {},
   "outputs": [
    {
     "data": {
      "text/html": [
       "<div>\n",
       "<style scoped>\n",
       "    .dataframe tbody tr th:only-of-type {\n",
       "        vertical-align: middle;\n",
       "    }\n",
       "\n",
       "    .dataframe tbody tr th {\n",
       "        vertical-align: top;\n",
       "    }\n",
       "\n",
       "    .dataframe thead th {\n",
       "        text-align: right;\n",
       "    }\n",
       "</style>\n",
       "<table border=\"1\" class=\"dataframe\">\n",
       "  <thead>\n",
       "    <tr style=\"text-align: right;\">\n",
       "      <th></th>\n",
       "      <th>Diabetes</th>\n",
       "      <th>BMI</th>\n",
       "      <th>HighBP</th>\n",
       "      <th>HighChol</th>\n",
       "      <th>CholCheck</th>\n",
       "      <th>FruitConsume</th>\n",
       "      <th>VegetableConsume</th>\n",
       "      <th>Smoker</th>\n",
       "      <th>HeavyDrinker</th>\n",
       "      <th>Stroke</th>\n",
       "      <th>...</th>\n",
       "      <th>NoDoctorDueToCost</th>\n",
       "      <th>PhysicalActivity</th>\n",
       "      <th>GeneralHealth</th>\n",
       "      <th>PhysicalHealth</th>\n",
       "      <th>MentalHealth</th>\n",
       "      <th>DifficultyWalking</th>\n",
       "      <th>Gender</th>\n",
       "      <th>Age</th>\n",
       "      <th>Education</th>\n",
       "      <th>Income</th>\n",
       "    </tr>\n",
       "  </thead>\n",
       "  <tbody>\n",
       "    <tr>\n",
       "      <th>0</th>\n",
       "      <td>0.0</td>\n",
       "      <td>28.17</td>\n",
       "      <td>1.0</td>\n",
       "      <td>1.0</td>\n",
       "      <td>1.0</td>\n",
       "      <td>1.0</td>\n",
       "      <td>1.0</td>\n",
       "      <td>1.0</td>\n",
       "      <td>0.0</td>\n",
       "      <td>0.0</td>\n",
       "      <td>...</td>\n",
       "      <td>0.0</td>\n",
       "      <td>0.0</td>\n",
       "      <td>3.0</td>\n",
       "      <td>15.0</td>\n",
       "      <td>0.0</td>\n",
       "      <td>1.0</td>\n",
       "      <td>0.0</td>\n",
       "      <td>13.0</td>\n",
       "      <td>3.0</td>\n",
       "      <td>3.0</td>\n",
       "    </tr>\n",
       "    <tr>\n",
       "      <th>1</th>\n",
       "      <td>0.0</td>\n",
       "      <td>18.54</td>\n",
       "      <td>0.0</td>\n",
       "      <td>0.0</td>\n",
       "      <td>1.0</td>\n",
       "      <td>1.0</td>\n",
       "      <td>1.0</td>\n",
       "      <td>0.0</td>\n",
       "      <td>0.0</td>\n",
       "      <td>0.0</td>\n",
       "      <td>...</td>\n",
       "      <td>0.0</td>\n",
       "      <td>1.0</td>\n",
       "      <td>2.0</td>\n",
       "      <td>10.0</td>\n",
       "      <td>0.0</td>\n",
       "      <td>0.0</td>\n",
       "      <td>0.0</td>\n",
       "      <td>11.0</td>\n",
       "      <td>5.0</td>\n",
       "      <td>5.0</td>\n",
       "    </tr>\n",
       "    <tr>\n",
       "      <th>2</th>\n",
       "      <td>1.0</td>\n",
       "      <td>31.62</td>\n",
       "      <td>1.0</td>\n",
       "      <td>0.0</td>\n",
       "      <td>1.0</td>\n",
       "      <td>1.0</td>\n",
       "      <td>1.0</td>\n",
       "      <td>0.0</td>\n",
       "      <td>0.0</td>\n",
       "      <td>0.0</td>\n",
       "      <td>...</td>\n",
       "      <td>0.0</td>\n",
       "      <td>1.0</td>\n",
       "      <td>3.0</td>\n",
       "      <td>0.0</td>\n",
       "      <td>30.0</td>\n",
       "      <td>1.0</td>\n",
       "      <td>0.0</td>\n",
       "      <td>10.0</td>\n",
       "      <td>6.0</td>\n",
       "      <td>7.0</td>\n",
       "    </tr>\n",
       "    <tr>\n",
       "      <th>3</th>\n",
       "      <td>1.0</td>\n",
       "      <td>32.98</td>\n",
       "      <td>0.0</td>\n",
       "      <td>0.0</td>\n",
       "      <td>1.0</td>\n",
       "      <td>1.0</td>\n",
       "      <td>1.0</td>\n",
       "      <td>1.0</td>\n",
       "      <td>0.0</td>\n",
       "      <td>0.0</td>\n",
       "      <td>...</td>\n",
       "      <td>0.0</td>\n",
       "      <td>1.0</td>\n",
       "      <td>4.0</td>\n",
       "      <td>30.0</td>\n",
       "      <td>0.0</td>\n",
       "      <td>1.0</td>\n",
       "      <td>1.0</td>\n",
       "      <td>11.0</td>\n",
       "      <td>6.0</td>\n",
       "      <td>7.0</td>\n",
       "    </tr>\n",
       "    <tr>\n",
       "      <th>4</th>\n",
       "      <td>1.0</td>\n",
       "      <td>16.65</td>\n",
       "      <td>0.0</td>\n",
       "      <td>1.0</td>\n",
       "      <td>1.0</td>\n",
       "      <td>0.0</td>\n",
       "      <td>0.0</td>\n",
       "      <td>1.0</td>\n",
       "      <td>0.0</td>\n",
       "      <td>0.0</td>\n",
       "      <td>...</td>\n",
       "      <td>0.0</td>\n",
       "      <td>0.0</td>\n",
       "      <td>1.0</td>\n",
       "      <td>20.0</td>\n",
       "      <td>0.0</td>\n",
       "      <td>1.0</td>\n",
       "      <td>0.0</td>\n",
       "      <td>11.0</td>\n",
       "      <td>2.0</td>\n",
       "      <td>3.0</td>\n",
       "    </tr>\n",
       "  </tbody>\n",
       "</table>\n",
       "<p>5 rows × 22 columns</p>\n",
       "</div>"
      ],
      "text/plain": [
       "   Diabetes    BMI  HighBP  HighChol  CholCheck  FruitConsume  \\\n",
       "0       0.0  28.17     1.0       1.0        1.0           1.0   \n",
       "1       0.0  18.54     0.0       0.0        1.0           1.0   \n",
       "2       1.0  31.62     1.0       0.0        1.0           1.0   \n",
       "3       1.0  32.98     0.0       0.0        1.0           1.0   \n",
       "4       1.0  16.65     0.0       1.0        1.0           0.0   \n",
       "\n",
       "   VegetableConsume  Smoker  HeavyDrinker  Stroke  ...  NoDoctorDueToCost  \\\n",
       "0               1.0     1.0           0.0     0.0  ...                0.0   \n",
       "1               1.0     0.0           0.0     0.0  ...                0.0   \n",
       "2               1.0     0.0           0.0     0.0  ...                0.0   \n",
       "3               1.0     1.0           0.0     0.0  ...                0.0   \n",
       "4               0.0     1.0           0.0     0.0  ...                0.0   \n",
       "\n",
       "   PhysicalActivity  GeneralHealth  PhysicalHealth  MentalHealth  \\\n",
       "0               0.0            3.0            15.0           0.0   \n",
       "1               1.0            2.0            10.0           0.0   \n",
       "2               1.0            3.0             0.0          30.0   \n",
       "3               1.0            4.0            30.0           0.0   \n",
       "4               0.0            1.0            20.0           0.0   \n",
       "\n",
       "   DifficultyWalking  Gender   Age  Education  Income  \n",
       "0                1.0     0.0  13.0        3.0     3.0  \n",
       "1                0.0     0.0  11.0        5.0     5.0  \n",
       "2                1.0     0.0  10.0        6.0     7.0  \n",
       "3                1.0     1.0  11.0        6.0     7.0  \n",
       "4                1.0     0.0  11.0        2.0     3.0  \n",
       "\n",
       "[5 rows x 22 columns]"
      ]
     },
     "execution_count": 13,
     "metadata": {},
     "output_type": "execute_result"
    }
   ],
   "source": [
    "diabetes.head()"
   ]
  },
  {
   "cell_type": "code",
   "execution_count": 14,
   "id": "9509c916",
   "metadata": {},
   "outputs": [],
   "source": [
    "# deep copy before next stage\n",
    "df = diabetes.copy(deep = True)"
   ]
  },
  {
   "cell_type": "code",
   "execution_count": 15,
   "id": "53cfa182",
   "metadata": {},
   "outputs": [
    {
     "name": "stdout",
     "output_type": "stream",
     "text": [
      "<class 'pandas.core.frame.DataFrame'>\n",
      "RangeIndex: 243317 entries, 0 to 243316\n",
      "Data columns (total 22 columns):\n",
      " #   Column             Non-Null Count   Dtype  \n",
      "---  ------             --------------   -----  \n",
      " 0   Diabetes           243317 non-null  float64\n",
      " 1   BMI                243317 non-null  float64\n",
      " 2   HighBP             243317 non-null  float64\n",
      " 3   HighChol           243317 non-null  float64\n",
      " 4   CholCheck          243317 non-null  float64\n",
      " 5   FruitConsume       243317 non-null  float64\n",
      " 6   VegetableConsume   243317 non-null  float64\n",
      " 7   Smoker             243317 non-null  float64\n",
      " 8   HeavyDrinker       243317 non-null  float64\n",
      " 9   Stroke             243317 non-null  float64\n",
      " 10  HeartDisease       243317 non-null  float64\n",
      " 11  Healthcare         243317 non-null  float64\n",
      " 12  NoDoctorDueToCost  243317 non-null  float64\n",
      " 13  PhysicalActivity   243317 non-null  float64\n",
      " 14  GeneralHealth      243317 non-null  float64\n",
      " 15  PhysicalHealth     243317 non-null  float64\n",
      " 16  MentalHealth       243317 non-null  float64\n",
      " 17  DifficultyWalking  243317 non-null  float64\n",
      " 18  Gender             243317 non-null  float64\n",
      " 19  Age                243317 non-null  float64\n",
      " 20  Education          243317 non-null  float64\n",
      " 21  Income             243317 non-null  float64\n",
      "dtypes: float64(22)\n",
      "memory usage: 40.8 MB\n"
     ]
    }
   ],
   "source": [
    "df.info()"
   ]
  },
  {
   "cell_type": "code",
   "execution_count": 16,
   "id": "7ba58f2a",
   "metadata": {},
   "outputs": [
    {
     "data": {
      "text/plain": [
       "(243317, 22)"
      ]
     },
     "execution_count": 16,
     "metadata": {},
     "output_type": "execute_result"
    }
   ],
   "source": [
    "df.shape"
   ]
  },
  {
   "cell_type": "markdown",
   "id": "2c198ae7",
   "metadata": {},
   "source": [
    "## 4. Normalization and Simple Vizualization"
   ]
  },
  {
   "cell_type": "code",
   "execution_count": 17,
   "id": "17ea24bb",
   "metadata": {},
   "outputs": [],
   "source": [
    "X_columns = ['BMI', 'HighBP', 'HighChol', 'CholCheck', 'FruitConsume',\n",
    "       'VegetableConsume', 'Smoker', 'HeavyDrinker', 'Stroke', 'HeartDisease',\n",
    "       'Healthcare', 'NoDoctorDueToCost', 'PhysicalActivity', 'GeneralHealth',\n",
    "       'PhysicalHealth', 'MentalHealth', 'DifficultyWalking', 'Gender', 'Age',\n",
    "       'Education', 'Income']"
   ]
  },
  {
   "cell_type": "markdown",
   "id": "bd36e888",
   "metadata": {},
   "source": [
    "Note: The entire data set is 0.24 million enteries. The agglomerative clustering and Mean Shift clustering algorithms we causing the kernal to crash because the sized of data set is too large. So we are going to take a random sample of 10,000 entries to perform clustering and see how all the clustering algorithmns perform."
   ]
  },
  {
   "cell_type": "code",
   "execution_count": 18,
   "id": "52a56553",
   "metadata": {},
   "outputs": [],
   "source": [
    "# Selecting a random sample for the data set\n",
    "\n",
    "#sampling a random number of values since plotting all 0.2 million datapoints will crash the kernal\n",
    "number_of_samples = 10000\n",
    "df_sample = df.sample(number_of_samples, random_state=42)"
   ]
  },
  {
   "cell_type": "code",
   "execution_count": 19,
   "id": "0aabc229",
   "metadata": {},
   "outputs": [
    {
     "data": {
      "text/plain": [
       "Text(0.5, 1.0, 'Vizualizing the full data (attributes BMI, HighBP). Not Normalized')"
      ]
     },
     "execution_count": 19,
     "metadata": {},
     "output_type": "execute_result"
    },
    {
     "data": {
      "image/png": "[encoded data removed]",
      "text/plain": [
       "<Figure size 432x288 with 1 Axes>"
      ]
     },
     "metadata": {
      "needs_background": "light"
     },
     "output_type": "display_data"
    }
   ],
   "source": [
    "# separating the target column y = Diabetes before clustering\n",
    "# for complete dataset\n",
    "X_df = df[X_columns].values\n",
    "y_df = df[['Diabetes']]\n",
    "plot_data(X_df)\n",
    "plt.title(\"Vizualizing the full data (attributes BMI, HighBP). Not Normalized\")"
   ]
  },
  {
   "cell_type": "code",
   "execution_count": 20,
   "id": "cc2e2a33",
   "metadata": {},
   "outputs": [
    {
     "data": {
      "text/plain": [
       "Text(0.5, 1.0, 'Vizualizing the  data (attributes BMI, HighBP). Not Normalized')"
      ]
     },
     "execution_count": 20,
     "metadata": {},
     "output_type": "execute_result"
    },
    {
     "data": {
      "image/png": "[encoded data removed]",
      "text/plain": [
       "<Figure size 432x288 with 1 Axes>"
      ]
     },
     "metadata": {
      "needs_background": "light"
     },
     "output_type": "display_data"
    }
   ],
   "source": [
    "# separating the target column y = Diabetes before clustering\n",
    "\n",
    "# for sampled dataset\n",
    "X_sample_df = df_sample[X_columns].values\n",
    "y_sample_df = df_sample[['Diabetes']]\n",
    "plot_data(X_sample_df)\n",
    "plt.title(\"Vizualizing the  data (attributes BMI, HighBP). Not Normalized\")"
   ]
  },
  {
   "cell_type": "code",
   "execution_count": 21,
   "id": "76a5e2b1",
   "metadata": {},
   "outputs": [
    {
     "data": {
      "text/plain": [
       "Text(0.5, 1.0, 'Vizualizing the full data (attributes BMI, HighBP). Normalized')"
      ]
     },
     "execution_count": 21,
     "metadata": {},
     "output_type": "execute_result"
    },
    {
     "data": {
      "image/png": "[encoded data removed]",
      "text/plain": [
       "<Figure size 432x288 with 1 Axes>"
      ]
     },
     "metadata": {
      "needs_background": "light"
     },
     "output_type": "display_data"
    }
   ],
   "source": [
    "# Using minmax scaler for normalization\n",
    "from sklearn.preprocessing import MinMaxScaler\n",
    "\n",
    "# normalization full dataset\n",
    "X_normalized = MinMaxScaler().fit(X_df).transform(X_df)\n",
    "df_normalized = pd.DataFrame(X_normalized, columns=X_columns )\n",
    "plot_data(X_normalized)\n",
    "plt.title(\"Vizualizing the full data (attributes BMI, HighBP). Normalized\")"
   ]
  },
  {
   "cell_type": "code",
   "execution_count": 22,
   "id": "5d7dc577",
   "metadata": {},
   "outputs": [
    {
     "name": "stdout",
     "output_type": "stream",
     "text": [
      "<class 'pandas.core.frame.DataFrame'>\n",
      "Int64Index: 10000 entries, 132646 to 192749\n",
      "Data columns (total 1 columns):\n",
      " #   Column    Non-Null Count  Dtype  \n",
      "---  ------    --------------  -----  \n",
      " 0   Diabetes  10000 non-null  float64\n",
      "dtypes: float64(1)\n",
      "memory usage: 156.2 KB\n",
      "None\n"
     ]
    },
    {
     "data": {
      "image/png": "[encoded data removed]",
      "text/plain": [
       "<Figure size 432x288 with 1 Axes>"
      ]
     },
     "metadata": {
      "needs_background": "light"
     },
     "output_type": "display_data"
    }
   ],
   "source": [
    "# normalization sample dataset\n",
    "X_sample_normalized = MinMaxScaler().fit(X_sample_df).transform(X_sample_df)\n",
    "df_sample_normalized = pd.DataFrame(X_sample_normalized, columns=X_columns )\n",
    "plot_data(X_sample_normalized)\n",
    "plt.title(\"Vizualizing the sample data (attributes BMI, HighBP). Normalized\")\n",
    "\n",
    "\n",
    "print(y_sample_df.info())"
   ]
  },
  {
   "cell_type": "code",
   "execution_count": 23,
   "id": "8c3830a9",
   "metadata": {},
   "outputs": [
    {
     "data": {
      "text/html": [
       "<div>\n",
       "<style scoped>\n",
       "    .dataframe tbody tr th:only-of-type {\n",
       "        vertical-align: middle;\n",
       "    }\n",
       "\n",
       "    .dataframe tbody tr th {\n",
       "        vertical-align: top;\n",
       "    }\n",
       "\n",
       "    .dataframe thead th {\n",
       "        text-align: right;\n",
       "    }\n",
       "</style>\n",
       "<table border=\"1\" class=\"dataframe\">\n",
       "  <thead>\n",
       "    <tr style=\"text-align: right;\">\n",
       "      <th></th>\n",
       "      <th>BMI</th>\n",
       "      <th>HighBP</th>\n",
       "      <th>HighChol</th>\n",
       "      <th>CholCheck</th>\n",
       "      <th>FruitConsume</th>\n",
       "      <th>VegetableConsume</th>\n",
       "      <th>Smoker</th>\n",
       "      <th>HeavyDrinker</th>\n",
       "      <th>Stroke</th>\n",
       "      <th>HeartDisease</th>\n",
       "      <th>...</th>\n",
       "      <th>NoDoctorDueToCost</th>\n",
       "      <th>PhysicalActivity</th>\n",
       "      <th>GeneralHealth</th>\n",
       "      <th>PhysicalHealth</th>\n",
       "      <th>MentalHealth</th>\n",
       "      <th>DifficultyWalking</th>\n",
       "      <th>Gender</th>\n",
       "      <th>Age</th>\n",
       "      <th>Education</th>\n",
       "      <th>Income</th>\n",
       "    </tr>\n",
       "  </thead>\n",
       "  <tbody>\n",
       "    <tr>\n",
       "      <th>0</th>\n",
       "      <td>0.186505</td>\n",
       "      <td>1.0</td>\n",
       "      <td>1.0</td>\n",
       "      <td>1.0</td>\n",
       "      <td>1.0</td>\n",
       "      <td>1.0</td>\n",
       "      <td>1.0</td>\n",
       "      <td>0.0</td>\n",
       "      <td>0.0</td>\n",
       "      <td>0.0</td>\n",
       "      <td>...</td>\n",
       "      <td>0.0</td>\n",
       "      <td>0.0</td>\n",
       "      <td>0.50</td>\n",
       "      <td>0.500000</td>\n",
       "      <td>0.0</td>\n",
       "      <td>1.0</td>\n",
       "      <td>0.0</td>\n",
       "      <td>1.000000</td>\n",
       "      <td>0.4</td>\n",
       "      <td>0.285714</td>\n",
       "    </tr>\n",
       "    <tr>\n",
       "      <th>1</th>\n",
       "      <td>0.075433</td>\n",
       "      <td>0.0</td>\n",
       "      <td>0.0</td>\n",
       "      <td>1.0</td>\n",
       "      <td>1.0</td>\n",
       "      <td>1.0</td>\n",
       "      <td>0.0</td>\n",
       "      <td>0.0</td>\n",
       "      <td>0.0</td>\n",
       "      <td>0.0</td>\n",
       "      <td>...</td>\n",
       "      <td>0.0</td>\n",
       "      <td>1.0</td>\n",
       "      <td>0.25</td>\n",
       "      <td>0.333333</td>\n",
       "      <td>0.0</td>\n",
       "      <td>0.0</td>\n",
       "      <td>0.0</td>\n",
       "      <td>0.833333</td>\n",
       "      <td>0.8</td>\n",
       "      <td>0.571429</td>\n",
       "    </tr>\n",
       "    <tr>\n",
       "      <th>2</th>\n",
       "      <td>0.226298</td>\n",
       "      <td>1.0</td>\n",
       "      <td>0.0</td>\n",
       "      <td>1.0</td>\n",
       "      <td>1.0</td>\n",
       "      <td>1.0</td>\n",
       "      <td>0.0</td>\n",
       "      <td>0.0</td>\n",
       "      <td>0.0</td>\n",
       "      <td>0.0</td>\n",
       "      <td>...</td>\n",
       "      <td>0.0</td>\n",
       "      <td>1.0</td>\n",
       "      <td>0.50</td>\n",
       "      <td>0.000000</td>\n",
       "      <td>1.0</td>\n",
       "      <td>1.0</td>\n",
       "      <td>0.0</td>\n",
       "      <td>0.750000</td>\n",
       "      <td>1.0</td>\n",
       "      <td>0.857143</td>\n",
       "    </tr>\n",
       "    <tr>\n",
       "      <th>3</th>\n",
       "      <td>0.241984</td>\n",
       "      <td>0.0</td>\n",
       "      <td>0.0</td>\n",
       "      <td>1.0</td>\n",
       "      <td>1.0</td>\n",
       "      <td>1.0</td>\n",
       "      <td>1.0</td>\n",
       "      <td>0.0</td>\n",
       "      <td>0.0</td>\n",
       "      <td>0.0</td>\n",
       "      <td>...</td>\n",
       "      <td>0.0</td>\n",
       "      <td>1.0</td>\n",
       "      <td>0.75</td>\n",
       "      <td>1.000000</td>\n",
       "      <td>0.0</td>\n",
       "      <td>1.0</td>\n",
       "      <td>1.0</td>\n",
       "      <td>0.833333</td>\n",
       "      <td>1.0</td>\n",
       "      <td>0.857143</td>\n",
       "    </tr>\n",
       "    <tr>\n",
       "      <th>4</th>\n",
       "      <td>0.053633</td>\n",
       "      <td>0.0</td>\n",
       "      <td>1.0</td>\n",
       "      <td>1.0</td>\n",
       "      <td>0.0</td>\n",
       "      <td>0.0</td>\n",
       "      <td>1.0</td>\n",
       "      <td>0.0</td>\n",
       "      <td>0.0</td>\n",
       "      <td>0.0</td>\n",
       "      <td>...</td>\n",
       "      <td>0.0</td>\n",
       "      <td>0.0</td>\n",
       "      <td>0.00</td>\n",
       "      <td>0.666667</td>\n",
       "      <td>0.0</td>\n",
       "      <td>1.0</td>\n",
       "      <td>0.0</td>\n",
       "      <td>0.833333</td>\n",
       "      <td>0.2</td>\n",
       "      <td>0.285714</td>\n",
       "    </tr>\n",
       "  </tbody>\n",
       "</table>\n",
       "<p>5 rows × 21 columns</p>\n",
       "</div>"
      ],
      "text/plain": [
       "        BMI  HighBP  HighChol  CholCheck  FruitConsume  VegetableConsume  \\\n",
       "0  0.186505     1.0       1.0        1.0           1.0               1.0   \n",
       "1  0.075433     0.0       0.0        1.0           1.0               1.0   \n",
       "2  0.226298     1.0       0.0        1.0           1.0               1.0   \n",
       "3  0.241984     0.0       0.0        1.0           1.0               1.0   \n",
       "4  0.053633     0.0       1.0        1.0           0.0               0.0   \n",
       "\n",
       "   Smoker  HeavyDrinker  Stroke  HeartDisease  ...  NoDoctorDueToCost  \\\n",
       "0     1.0           0.0     0.0           0.0  ...                0.0   \n",
       "1     0.0           0.0     0.0           0.0  ...                0.0   \n",
       "2     0.0           0.0     0.0           0.0  ...                0.0   \n",
       "3     1.0           0.0     0.0           0.0  ...                0.0   \n",
       "4     1.0           0.0     0.0           0.0  ...                0.0   \n",
       "\n",
       "   PhysicalActivity  GeneralHealth  PhysicalHealth  MentalHealth  \\\n",
       "0               0.0           0.50        0.500000           0.0   \n",
       "1               1.0           0.25        0.333333           0.0   \n",
       "2               1.0           0.50        0.000000           1.0   \n",
       "3               1.0           0.75        1.000000           0.0   \n",
       "4               0.0           0.00        0.666667           0.0   \n",
       "\n",
       "   DifficultyWalking  Gender       Age  Education    Income  \n",
       "0                1.0     0.0  1.000000        0.4  0.285714  \n",
       "1                0.0     0.0  0.833333        0.8  0.571429  \n",
       "2                1.0     0.0  0.750000        1.0  0.857143  \n",
       "3                1.0     1.0  0.833333        1.0  0.857143  \n",
       "4                1.0     0.0  0.833333        0.2  0.285714  \n",
       "\n",
       "[5 rows x 21 columns]"
      ]
     },
     "execution_count": 23,
     "metadata": {},
     "output_type": "execute_result"
    }
   ],
   "source": [
    "# Normalized features in pandas format\n",
    "df_normalized.head()"
   ]
  },
  {
   "cell_type": "code",
   "execution_count": 24,
   "id": "b48fa8b5",
   "metadata": {},
   "outputs": [
    {
     "data": {
      "text/plain": [
       "array([[0.18650519, 1.        , 1.        , ..., 1.        , 0.4       ,\n",
       "        0.28571429],\n",
       "       [0.07543253, 0.        , 0.        , ..., 0.83333333, 0.8       ,\n",
       "        0.57142857],\n",
       "       [0.22629758, 1.        , 0.        , ..., 0.75      , 1.        ,\n",
       "        0.85714286],\n",
       "       ...,\n",
       "       [0.1905421 , 0.        , 0.        , ..., 0.5       , 0.4       ,\n",
       "        0.        ],\n",
       "       [0.227797  , 0.        , 1.        , ..., 0.        , 0.6       ,\n",
       "        0.28571429],\n",
       "       [0.09192618, 0.        , 0.        , ..., 0.33333333, 1.        ,\n",
       "        1.        ]])"
      ]
     },
     "execution_count": 24,
     "metadata": {},
     "output_type": "execute_result"
    }
   ],
   "source": [
    "# Normalized features in numpy format\n",
    "X_normalized"
   ]
  },
  {
   "cell_type": "markdown",
   "id": "7d1808a6",
   "metadata": {},
   "source": [
    "Note: The data pairs are as follows:\n",
    "- Full Data\n",
    "    1. X_df (pandas) with y_df(pandas) : not normalized full data set\n",
    "    2. X_normalized (numpy) with y_df(pandas) : normalized full X in numpy (easy for clustering)\n",
    "    3. df_normalized (pandas) with y_df(pandas) : normalized X in pandas format (easy for tracking feature names)\n",
    "- Sample Data of 10,000 randomly selected rows\n",
    "    1. X_sample_df (pandas) with y_sample_df(pandas) : not normalized sample data set\n",
    "    2. X_df_normalized (numpy) with y_sample_df(pandas) : normalized sample X in numpy (easy for clustering)\n",
    "    3. df_sample_normalized (pandas) with y_sample_df(pandas) : normalized X sample in pandas format (easy for tracking feature names)\n",
    "    \n",
    "- For all our clustering we will use only the normalized versions of the dataset.    "
   ]
  },
  {
   "cell_type": "markdown",
   "id": "b4241b76",
   "metadata": {},
   "source": [
    "##  5. Feature Importance - With Decision Tree Classifier\n",
    "- We are using Decision Tree Classifier to find which feature importance to see which features are having the highest.\n",
    "- We will only be using normalized data. Since it will put all features in similar range.  \n",
    "- We will be using tha full dataset as is . We will also we using the a balanced version of the dataset using undersampling technique to see if there is any change in the key features."
   ]
  },
  {
   "cell_type": "code",
   "execution_count": 25,
   "id": "35da577d",
   "metadata": {},
   "outputs": [],
   "source": [
    "from sklearn.tree import DecisionTreeClassifier\n",
    "from sklearn.model_selection import train_test_split\n",
    "from sklearn.metrics import confusion_matrix\n",
    "from sklearn.metrics import classification_report"
   ]
  },
  {
   "cell_type": "code",
   "execution_count": 26,
   "id": "326b119d",
   "metadata": {},
   "outputs": [],
   "source": [
    "X = X_normalized\n",
    "y_df['Diabetes']=y_df['Diabetes'].astype('int')\n",
    "y = y_df.to_numpy()"
   ]
  },
  {
   "cell_type": "code",
   "execution_count": 27,
   "id": "81c6b748",
   "metadata": {},
   "outputs": [],
   "source": [
    "# A simple training (1 training)\n",
    "X_train, X_test, y_train, y_test = train_test_split(X, y, random_state = 0, test_size=0.30)"
   ]
  },
  {
   "cell_type": "markdown",
   "id": "ca2e368a",
   "metadata": {},
   "source": [
    "#### Using Full Dataset As Is"
   ]
  },
  {
   "cell_type": "code",
   "execution_count": 28,
   "id": "9f489d3e",
   "metadata": {},
   "outputs": [
    {
     "name": "stdout",
     "output_type": "stream",
     "text": [
      "Accuracy of DT classifier on training set: 1.00\n",
      "Accuracy of DT classifier on test set: 0.79\n"
     ]
    },
    {
     "data": {
      "image/png": "[encoded data removed]",
      "text/plain": [
       "<Figure size 576x576 with 1 Axes>"
      ]
     },
     "metadata": {
      "needs_background": "light"
     },
     "output_type": "display_data"
    },
    {
     "name": "stdout",
     "output_type": "stream",
     "text": [
      "Feature importances: [0.27931751 0.08635461 0.01666336 0.00396084 0.02698384 0.02236237\n",
      " 0.02883552 0.00744351 0.00987176 0.01420467 0.0082121  0.01204351\n",
      " 0.02342647 0.06937859 0.06842486 0.05683353 0.01673057 0.02241037\n",
      " 0.09529659 0.05551182 0.0757336 ]\n"
     ]
    }
   ],
   "source": [
    "clf = DecisionTreeClassifier(criterion='entropy').fit(X_train, y_train)\n",
    "\n",
    "train_score = clf.score(X_train, y_train)\n",
    "test_score = clf.score(X_test, y_test)\n",
    "\n",
    "print('Accuracy of DT classifier on training set: {:.2f}'.format(train_score))\n",
    "print('Accuracy of DT classifier on test set: {:.2f}'.format(test_score))\n",
    "\n",
    "#plt.figure(figsize=(12,12), dpi=60)\n",
    "\n",
    "# import features (call the function above)\n",
    "plot_feature_importances(clf, df_normalized.columns)\n",
    "\n",
    "plt.show()\n",
    "\n",
    "print('Feature importances: {}'.format(clf.feature_importances_))"
   ]
  },
  {
   "cell_type": "code",
   "execution_count": 29,
   "id": "3223a7b3",
   "metadata": {},
   "outputs": [
    {
     "data": {
      "text/plain": [
       "0.7932900432900433"
      ]
     },
     "execution_count": 29,
     "metadata": {},
     "output_type": "execute_result"
    }
   ],
   "source": [
    "clf.score(X_test, y_test)"
   ]
  },
  {
   "cell_type": "code",
   "execution_count": 30,
   "id": "281e130c",
   "metadata": {},
   "outputs": [
    {
     "data": {
      "text/plain": [
       "array([[54468,  8045],\n",
       "       [ 7044,  3439]], dtype=int64)"
      ]
     },
     "execution_count": 30,
     "metadata": {},
     "output_type": "execute_result"
    }
   ],
   "source": [
    "y_pred = clf.predict(X_test)\n",
    "\n",
    "#  confusion matrix\n",
    "confusion_mat = confusion_matrix(y_test, y_pred)\n",
    "confusion_mat"
   ]
  },
  {
   "cell_type": "code",
   "execution_count": 31,
   "id": "b3fd3983",
   "metadata": {},
   "outputs": [
    {
     "name": "stdout",
     "output_type": "stream",
     "text": [
      "              precision    recall  f1-score   support\n",
      "\n",
      "     Class 0       0.89      0.87      0.88     62513\n",
      "     Class 1       0.30      0.33      0.31     10483\n",
      "\n",
      "    accuracy                           0.79     72996\n",
      "   macro avg       0.59      0.60      0.60     72996\n",
      "weighted avg       0.80      0.79      0.80     72996\n",
      "\n"
     ]
    }
   ],
   "source": [
    "# Print classification report\n",
    "target_names = ['Class 0', 'Class 1']\n",
    "\n",
    "result_metrics = classification_report(y_test, y_pred, target_names=target_names)\n",
    "print(result_metrics)"
   ]
  },
  {
   "cell_type": "markdown",
   "id": "074e302d",
   "metadata": {},
   "source": [
    "#### Doing with a Balanced Dataset \n",
    "- using random undersampler only on the training part  "
   ]
  },
  {
   "cell_type": "code",
   "execution_count": 32,
   "id": "e102fe83",
   "metadata": {},
   "outputs": [],
   "source": [
    "# import RandomUndersampler\n",
    "from imblearn.under_sampling import RandomUnderSampler"
   ]
  },
  {
   "cell_type": "code",
   "execution_count": 33,
   "id": "10ba242a",
   "metadata": {},
   "outputs": [
    {
     "data": {
      "text/plain": [
       "(170321, 21)"
      ]
     },
     "execution_count": 33,
     "metadata": {},
     "output_type": "execute_result"
    }
   ],
   "source": [
    "X_train.shape"
   ]
  },
  {
   "cell_type": "code",
   "execution_count": 34,
   "id": "9468d263",
   "metadata": {},
   "outputs": [],
   "source": [
    "under = RandomUnderSampler(sampling_strategy='auto')\n",
    "X_train, y_train = under.fit_resample(X_train, y_train)"
   ]
  },
  {
   "cell_type": "code",
   "execution_count": 35,
   "id": "aca31443",
   "metadata": {},
   "outputs": [
    {
     "data": {
      "text/plain": [
       "(49632, 21)"
      ]
     },
     "execution_count": 35,
     "metadata": {},
     "output_type": "execute_result"
    }
   ],
   "source": [
    "X_train.shape"
   ]
  },
  {
   "cell_type": "code",
   "execution_count": 36,
   "id": "7c3edc3e",
   "metadata": {},
   "outputs": [
    {
     "name": "stdout",
     "output_type": "stream",
     "text": [
      "[[    0 24816]\n",
      " [    1 24816]]\n"
     ]
    }
   ],
   "source": [
    "unique, counts = np.unique(y_train, return_counts=True)\n",
    "print ( np.asarray((unique, counts)).T)"
   ]
  },
  {
   "cell_type": "code",
   "execution_count": 37,
   "id": "db2cc281",
   "metadata": {},
   "outputs": [
    {
     "name": "stdout",
     "output_type": "stream",
     "text": [
      "Accuracy of DT classifier on training set: 1.00\n",
      "Accuracy of DT classifier on test set: 0.66\n"
     ]
    },
    {
     "data": {
      "image/png": "[encoded data removed]",
      "text/plain": [
       "<Figure size 576x576 with 1 Axes>"
      ]
     },
     "metadata": {
      "needs_background": "light"
     },
     "output_type": "display_data"
    },
    {
     "name": "stdout",
     "output_type": "stream",
     "text": [
      "Feature importances: [0.26291005 0.10754319 0.01688605 0.00499179 0.02712826 0.01928236\n",
      " 0.02616177 0.00840229 0.00992798 0.01337396 0.0062639  0.01041017\n",
      " 0.02246018 0.0820788  0.06436261 0.05540956 0.01649228 0.02356799\n",
      " 0.09920803 0.05057206 0.0725667 ]\n"
     ]
    }
   ],
   "source": [
    "clf = DecisionTreeClassifier(criterion='entropy').fit(X_train, y_train)\n",
    "\n",
    "train_score = clf.score(X_train, y_train)\n",
    "test_score = clf.score(X_test, y_test)\n",
    "\n",
    "print('Accuracy of DT classifier on training set: {:.2f}'.format(train_score))\n",
    "print('Accuracy of DT classifier on test set: {:.2f}'.format(test_score))\n",
    "\n",
    "#plt.figure(figsize=(12,12), dpi=60)\n",
    "\n",
    "# import features (call the function above)\n",
    "plot_feature_importances(clf, df_normalized.columns)\n",
    "\n",
    "plt.show()\n",
    "\n",
    "print('Feature importances: {}'.format(clf.feature_importances_))"
   ]
  },
  {
   "cell_type": "code",
   "execution_count": 38,
   "id": "bd09e37f",
   "metadata": {},
   "outputs": [
    {
     "data": {
      "text/plain": [
       "0.6602553564578881"
      ]
     },
     "execution_count": 38,
     "metadata": {},
     "output_type": "execute_result"
    }
   ],
   "source": [
    "clf.score(X_test, y_test)"
   ]
  },
  {
   "cell_type": "code",
   "execution_count": 39,
   "id": "5e8f1bea",
   "metadata": {},
   "outputs": [
    {
     "data": {
      "text/plain": [
       "array([[41328, 21185],\n",
       "       [ 3615,  6868]], dtype=int64)"
      ]
     },
     "execution_count": 39,
     "metadata": {},
     "output_type": "execute_result"
    }
   ],
   "source": [
    "y_pred = clf.predict(X_test)\n",
    "\n",
    "#  confusion matrix\n",
    "confusion_mat = confusion_matrix(y_test, y_pred)\n",
    "confusion_mat"
   ]
  },
  {
   "cell_type": "code",
   "execution_count": 40,
   "id": "7959e4ce",
   "metadata": {},
   "outputs": [
    {
     "name": "stdout",
     "output_type": "stream",
     "text": [
      "              precision    recall  f1-score   support\n",
      "\n",
      "     Class 0       0.92      0.66      0.77     62513\n",
      "     Class 1       0.24      0.66      0.36     10483\n",
      "\n",
      "    accuracy                           0.66     72996\n",
      "   macro avg       0.58      0.66      0.56     72996\n",
      "weighted avg       0.82      0.66      0.71     72996\n",
      "\n"
     ]
    }
   ],
   "source": [
    "# Print classification report\n",
    "target_names = ['Class 0', 'Class 1']\n",
    "\n",
    "result_metrics = classification_report(y_test, y_pred, target_names=target_names)\n",
    "print(result_metrics)"
   ]
  },
  {
   "cell_type": "markdown",
   "id": "52e0eb75",
   "metadata": {},
   "source": [
    "Note: Looking at at the feature importance we can bar plots for both the original dataset and the balanced data set we see that the following 8 features are very important  -  BMI, HighBP, General Health, Physical Health, Mental Health, Age , Education and Income.     "
   ]
  },
  {
   "cell_type": "code",
   "execution_count": 41,
   "id": "b4008dd6",
   "metadata": {},
   "outputs": [],
   "source": [
    "important_features = ['BMI','HighBP','GeneralHealth','PhysicalHealth','MentalHealth','Age','Education','Income']"
   ]
  },
  {
   "cell_type": "markdown",
   "id": "49f07f24",
   "metadata": {},
   "source": [
    "## 5. Principle Component Analysis\n",
    "- Using the only the most important features dicovered from the decision tree model we reduce the dimensionality to 2 "
   ]
  },
  {
   "cell_type": "code",
   "execution_count": 42,
   "id": "f7f3a93b",
   "metadata": {},
   "outputs": [
    {
     "data": {
      "text/html": [
       "<div>\n",
       "<style scoped>\n",
       "    .dataframe tbody tr th:only-of-type {\n",
       "        vertical-align: middle;\n",
       "    }\n",
       "\n",
       "    .dataframe tbody tr th {\n",
       "        vertical-align: top;\n",
       "    }\n",
       "\n",
       "    .dataframe thead th {\n",
       "        text-align: right;\n",
       "    }\n",
       "</style>\n",
       "<table border=\"1\" class=\"dataframe\">\n",
       "  <thead>\n",
       "    <tr style=\"text-align: right;\">\n",
       "      <th></th>\n",
       "      <th>BMI</th>\n",
       "      <th>HighBP</th>\n",
       "      <th>HighChol</th>\n",
       "      <th>CholCheck</th>\n",
       "      <th>FruitConsume</th>\n",
       "      <th>VegetableConsume</th>\n",
       "      <th>Smoker</th>\n",
       "      <th>HeavyDrinker</th>\n",
       "      <th>Stroke</th>\n",
       "      <th>HeartDisease</th>\n",
       "      <th>...</th>\n",
       "      <th>NoDoctorDueToCost</th>\n",
       "      <th>PhysicalActivity</th>\n",
       "      <th>GeneralHealth</th>\n",
       "      <th>PhysicalHealth</th>\n",
       "      <th>MentalHealth</th>\n",
       "      <th>DifficultyWalking</th>\n",
       "      <th>Gender</th>\n",
       "      <th>Age</th>\n",
       "      <th>Education</th>\n",
       "      <th>Income</th>\n",
       "    </tr>\n",
       "  </thead>\n",
       "  <tbody>\n",
       "    <tr>\n",
       "      <th>0</th>\n",
       "      <td>0.186505</td>\n",
       "      <td>1.0</td>\n",
       "      <td>1.0</td>\n",
       "      <td>1.0</td>\n",
       "      <td>1.0</td>\n",
       "      <td>1.0</td>\n",
       "      <td>1.0</td>\n",
       "      <td>0.0</td>\n",
       "      <td>0.0</td>\n",
       "      <td>0.0</td>\n",
       "      <td>...</td>\n",
       "      <td>0.0</td>\n",
       "      <td>0.0</td>\n",
       "      <td>0.50</td>\n",
       "      <td>0.500000</td>\n",
       "      <td>0.0</td>\n",
       "      <td>1.0</td>\n",
       "      <td>0.0</td>\n",
       "      <td>1.000000</td>\n",
       "      <td>0.4</td>\n",
       "      <td>0.285714</td>\n",
       "    </tr>\n",
       "    <tr>\n",
       "      <th>1</th>\n",
       "      <td>0.075433</td>\n",
       "      <td>0.0</td>\n",
       "      <td>0.0</td>\n",
       "      <td>1.0</td>\n",
       "      <td>1.0</td>\n",
       "      <td>1.0</td>\n",
       "      <td>0.0</td>\n",
       "      <td>0.0</td>\n",
       "      <td>0.0</td>\n",
       "      <td>0.0</td>\n",
       "      <td>...</td>\n",
       "      <td>0.0</td>\n",
       "      <td>1.0</td>\n",
       "      <td>0.25</td>\n",
       "      <td>0.333333</td>\n",
       "      <td>0.0</td>\n",
       "      <td>0.0</td>\n",
       "      <td>0.0</td>\n",
       "      <td>0.833333</td>\n",
       "      <td>0.8</td>\n",
       "      <td>0.571429</td>\n",
       "    </tr>\n",
       "    <tr>\n",
       "      <th>2</th>\n",
       "      <td>0.226298</td>\n",
       "      <td>1.0</td>\n",
       "      <td>0.0</td>\n",
       "      <td>1.0</td>\n",
       "      <td>1.0</td>\n",
       "      <td>1.0</td>\n",
       "      <td>0.0</td>\n",
       "      <td>0.0</td>\n",
       "      <td>0.0</td>\n",
       "      <td>0.0</td>\n",
       "      <td>...</td>\n",
       "      <td>0.0</td>\n",
       "      <td>1.0</td>\n",
       "      <td>0.50</td>\n",
       "      <td>0.000000</td>\n",
       "      <td>1.0</td>\n",
       "      <td>1.0</td>\n",
       "      <td>0.0</td>\n",
       "      <td>0.750000</td>\n",
       "      <td>1.0</td>\n",
       "      <td>0.857143</td>\n",
       "    </tr>\n",
       "    <tr>\n",
       "      <th>3</th>\n",
       "      <td>0.241984</td>\n",
       "      <td>0.0</td>\n",
       "      <td>0.0</td>\n",
       "      <td>1.0</td>\n",
       "      <td>1.0</td>\n",
       "      <td>1.0</td>\n",
       "      <td>1.0</td>\n",
       "      <td>0.0</td>\n",
       "      <td>0.0</td>\n",
       "      <td>0.0</td>\n",
       "      <td>...</td>\n",
       "      <td>0.0</td>\n",
       "      <td>1.0</td>\n",
       "      <td>0.75</td>\n",
       "      <td>1.000000</td>\n",
       "      <td>0.0</td>\n",
       "      <td>1.0</td>\n",
       "      <td>1.0</td>\n",
       "      <td>0.833333</td>\n",
       "      <td>1.0</td>\n",
       "      <td>0.857143</td>\n",
       "    </tr>\n",
       "    <tr>\n",
       "      <th>4</th>\n",
       "      <td>0.053633</td>\n",
       "      <td>0.0</td>\n",
       "      <td>1.0</td>\n",
       "      <td>1.0</td>\n",
       "      <td>0.0</td>\n",
       "      <td>0.0</td>\n",
       "      <td>1.0</td>\n",
       "      <td>0.0</td>\n",
       "      <td>0.0</td>\n",
       "      <td>0.0</td>\n",
       "      <td>...</td>\n",
       "      <td>0.0</td>\n",
       "      <td>0.0</td>\n",
       "      <td>0.00</td>\n",
       "      <td>0.666667</td>\n",
       "      <td>0.0</td>\n",
       "      <td>1.0</td>\n",
       "      <td>0.0</td>\n",
       "      <td>0.833333</td>\n",
       "      <td>0.2</td>\n",
       "      <td>0.285714</td>\n",
       "    </tr>\n",
       "  </tbody>\n",
       "</table>\n",
       "<p>5 rows × 21 columns</p>\n",
       "</div>"
      ],
      "text/plain": [
       "        BMI  HighBP  HighChol  CholCheck  FruitConsume  VegetableConsume  \\\n",
       "0  0.186505     1.0       1.0        1.0           1.0               1.0   \n",
       "1  0.075433     0.0       0.0        1.0           1.0               1.0   \n",
       "2  0.226298     1.0       0.0        1.0           1.0               1.0   \n",
       "3  0.241984     0.0       0.0        1.0           1.0               1.0   \n",
       "4  0.053633     0.0       1.0        1.0           0.0               0.0   \n",
       "\n",
       "   Smoker  HeavyDrinker  Stroke  HeartDisease  ...  NoDoctorDueToCost  \\\n",
       "0     1.0           0.0     0.0           0.0  ...                0.0   \n",
       "1     0.0           0.0     0.0           0.0  ...                0.0   \n",
       "2     0.0           0.0     0.0           0.0  ...                0.0   \n",
       "3     1.0           0.0     0.0           0.0  ...                0.0   \n",
       "4     1.0           0.0     0.0           0.0  ...                0.0   \n",
       "\n",
       "   PhysicalActivity  GeneralHealth  PhysicalHealth  MentalHealth  \\\n",
       "0               0.0           0.50        0.500000           0.0   \n",
       "1               1.0           0.25        0.333333           0.0   \n",
       "2               1.0           0.50        0.000000           1.0   \n",
       "3               1.0           0.75        1.000000           0.0   \n",
       "4               0.0           0.00        0.666667           0.0   \n",
       "\n",
       "   DifficultyWalking  Gender       Age  Education    Income  \n",
       "0                1.0     0.0  1.000000        0.4  0.285714  \n",
       "1                0.0     0.0  0.833333        0.8  0.571429  \n",
       "2                1.0     0.0  0.750000        1.0  0.857143  \n",
       "3                1.0     1.0  0.833333        1.0  0.857143  \n",
       "4                1.0     0.0  0.833333        0.2  0.285714  \n",
       "\n",
       "[5 rows x 21 columns]"
      ]
     },
     "execution_count": 42,
     "metadata": {},
     "output_type": "execute_result"
    }
   ],
   "source": [
    "df_normalized.head()"
   ]
  },
  {
   "cell_type": "code",
   "execution_count": 43,
   "id": "f3eff835",
   "metadata": {},
   "outputs": [
    {
     "data": {
      "text/html": [
       "<div>\n",
       "<style scoped>\n",
       "    .dataframe tbody tr th:only-of-type {\n",
       "        vertical-align: middle;\n",
       "    }\n",
       "\n",
       "    .dataframe tbody tr th {\n",
       "        vertical-align: top;\n",
       "    }\n",
       "\n",
       "    .dataframe thead th {\n",
       "        text-align: right;\n",
       "    }\n",
       "</style>\n",
       "<table border=\"1\" class=\"dataframe\">\n",
       "  <thead>\n",
       "    <tr style=\"text-align: right;\">\n",
       "      <th></th>\n",
       "      <th>BMI</th>\n",
       "      <th>HighBP</th>\n",
       "      <th>GeneralHealth</th>\n",
       "      <th>PhysicalHealth</th>\n",
       "      <th>MentalHealth</th>\n",
       "      <th>Age</th>\n",
       "      <th>Education</th>\n",
       "      <th>Income</th>\n",
       "    </tr>\n",
       "  </thead>\n",
       "  <tbody>\n",
       "    <tr>\n",
       "      <th>0</th>\n",
       "      <td>0.186505</td>\n",
       "      <td>1.0</td>\n",
       "      <td>0.50</td>\n",
       "      <td>0.500000</td>\n",
       "      <td>0.0</td>\n",
       "      <td>1.000000</td>\n",
       "      <td>0.4</td>\n",
       "      <td>0.285714</td>\n",
       "    </tr>\n",
       "    <tr>\n",
       "      <th>1</th>\n",
       "      <td>0.075433</td>\n",
       "      <td>0.0</td>\n",
       "      <td>0.25</td>\n",
       "      <td>0.333333</td>\n",
       "      <td>0.0</td>\n",
       "      <td>0.833333</td>\n",
       "      <td>0.8</td>\n",
       "      <td>0.571429</td>\n",
       "    </tr>\n",
       "    <tr>\n",
       "      <th>2</th>\n",
       "      <td>0.226298</td>\n",
       "      <td>1.0</td>\n",
       "      <td>0.50</td>\n",
       "      <td>0.000000</td>\n",
       "      <td>1.0</td>\n",
       "      <td>0.750000</td>\n",
       "      <td>1.0</td>\n",
       "      <td>0.857143</td>\n",
       "    </tr>\n",
       "    <tr>\n",
       "      <th>3</th>\n",
       "      <td>0.241984</td>\n",
       "      <td>0.0</td>\n",
       "      <td>0.75</td>\n",
       "      <td>1.000000</td>\n",
       "      <td>0.0</td>\n",
       "      <td>0.833333</td>\n",
       "      <td>1.0</td>\n",
       "      <td>0.857143</td>\n",
       "    </tr>\n",
       "    <tr>\n",
       "      <th>4</th>\n",
       "      <td>0.053633</td>\n",
       "      <td>0.0</td>\n",
       "      <td>0.00</td>\n",
       "      <td>0.666667</td>\n",
       "      <td>0.0</td>\n",
       "      <td>0.833333</td>\n",
       "      <td>0.2</td>\n",
       "      <td>0.285714</td>\n",
       "    </tr>\n",
       "  </tbody>\n",
       "</table>\n",
       "</div>"
      ],
      "text/plain": [
       "        BMI  HighBP  GeneralHealth  PhysicalHealth  MentalHealth       Age  \\\n",
       "0  0.186505     1.0           0.50        0.500000           0.0  1.000000   \n",
       "1  0.075433     0.0           0.25        0.333333           0.0  0.833333   \n",
       "2  0.226298     1.0           0.50        0.000000           1.0  0.750000   \n",
       "3  0.241984     0.0           0.75        1.000000           0.0  0.833333   \n",
       "4  0.053633     0.0           0.00        0.666667           0.0  0.833333   \n",
       "\n",
       "   Education    Income  \n",
       "0        0.4  0.285714  \n",
       "1        0.8  0.571429  \n",
       "2        1.0  0.857143  \n",
       "3        1.0  0.857143  \n",
       "4        0.2  0.285714  "
      ]
     },
     "execution_count": 43,
     "metadata": {},
     "output_type": "execute_result"
    }
   ],
   "source": [
    "# Choose True if we are selecting only 8 top features for doing PCA else it will take entire data set\n",
    "select_features = True\n",
    "\n",
    "if(select_features==True):\n",
    "    df_best_features = df_normalized[important_features]\n",
    "else:\n",
    "    df_best_features = df_normalized\n",
    "df_best_features.head()"
   ]
  },
  {
   "cell_type": "code",
   "execution_count": 44,
   "id": "c83a4732",
   "metadata": {},
   "outputs": [
    {
     "data": {
      "text/plain": [
       "array([[ 0.8143773 ,  0.21944804],\n",
       "       [-0.1775784 ,  0.39799483],\n",
       "       [ 0.57868681, -0.00386865],\n",
       "       ...,\n",
       "       [-0.3079835 ,  0.39221926],\n",
       "       [-0.47663154,  0.34781812],\n",
       "       [-0.51515748, -0.06059107]])"
      ]
     },
     "execution_count": 44,
     "metadata": {},
     "output_type": "execute_result"
    }
   ],
   "source": [
    "# Dimesionality reduction to 2\n",
    "from sklearn.decomposition import PCA\n",
    "\n",
    "pca_model = PCA(n_components=2)\n",
    "pca_model.fit(df_best_features) # fit the model\n",
    "X_normalized_pca = pca_model.transform(df_best_features)\n",
    "X_normalized_pca"
   ]
  },
  {
   "cell_type": "code",
   "execution_count": 45,
   "id": "d9fe37ed",
   "metadata": {},
   "outputs": [
    {
     "data": {
      "text/plain": [
       "(243317, 2)"
      ]
     },
     "execution_count": 45,
     "metadata": {},
     "output_type": "execute_result"
    }
   ],
   "source": [
    "# numpy \n",
    "X_normalized_pca.shape"
   ]
  },
  {
   "cell_type": "code",
   "execution_count": 46,
   "id": "1a1287dc",
   "metadata": {},
   "outputs": [
    {
     "data": {
      "text/html": [
       "<div>\n",
       "<style scoped>\n",
       "    .dataframe tbody tr th:only-of-type {\n",
       "        vertical-align: middle;\n",
       "    }\n",
       "\n",
       "    .dataframe tbody tr th {\n",
       "        vertical-align: top;\n",
       "    }\n",
       "\n",
       "    .dataframe thead th {\n",
       "        text-align: right;\n",
       "    }\n",
       "</style>\n",
       "<table border=\"1\" class=\"dataframe\">\n",
       "  <thead>\n",
       "    <tr style=\"text-align: right;\">\n",
       "      <th></th>\n",
       "      <th>Feature1</th>\n",
       "      <th>Feature2</th>\n",
       "    </tr>\n",
       "  </thead>\n",
       "  <tbody>\n",
       "    <tr>\n",
       "      <th>0</th>\n",
       "      <td>0.814377</td>\n",
       "      <td>0.219448</td>\n",
       "    </tr>\n",
       "    <tr>\n",
       "      <th>1</th>\n",
       "      <td>-0.177578</td>\n",
       "      <td>0.397995</td>\n",
       "    </tr>\n",
       "    <tr>\n",
       "      <th>2</th>\n",
       "      <td>0.578687</td>\n",
       "      <td>-0.003869</td>\n",
       "    </tr>\n",
       "    <tr>\n",
       "      <th>3</th>\n",
       "      <td>-0.225108</td>\n",
       "      <td>0.374260</td>\n",
       "    </tr>\n",
       "    <tr>\n",
       "      <th>4</th>\n",
       "      <td>0.051858</td>\n",
       "      <td>0.924369</td>\n",
       "    </tr>\n",
       "  </tbody>\n",
       "</table>\n",
       "</div>"
      ],
      "text/plain": [
       "   Feature1  Feature2\n",
       "0  0.814377  0.219448\n",
       "1 -0.177578  0.397995\n",
       "2  0.578687 -0.003869\n",
       "3 -0.225108  0.374260\n",
       "4  0.051858  0.924369"
      ]
     },
     "execution_count": 46,
     "metadata": {},
     "output_type": "execute_result"
    }
   ],
   "source": [
    "# pandafy it \n",
    "df_X_normalized_pca = pd.DataFrame(X_normalized_pca, columns=['Feature1','Feature2'] )\n",
    "df_X_normalized_pca.head()"
   ]
  },
  {
   "cell_type": "markdown",
   "id": "94e5abb5",
   "metadata": {},
   "source": [
    "## 6. NAIVE BAYES CLASSIFIER\n",
    "- For Naive Bayes Classfier we will use the reduced features generated by PCA and also undersample the majority class (to handle the imbalanced dataset) and classify the diabetics/non-diabetics\n",
    "- We only undersample the training sets because the model needs to perform with naturally imbalanced data (ie less positive diabetes cases) we leave the test sets as they are."
   ]
  },
  {
   "cell_type": "markdown",
   "id": "748729f7",
   "metadata": {},
   "source": [
    "#### Using PCA Reduced Features (2)"
   ]
  },
  {
   "cell_type": "code",
   "execution_count": 47,
   "id": "1e861aaf",
   "metadata": {},
   "outputs": [
    {
     "name": "stdout",
     "output_type": "stream",
     "text": [
      "(243317, 2)\n"
     ]
    }
   ],
   "source": [
    "X = X_normalized_pca\n",
    "y_df['Diabetes']=y_df['Diabetes'].astype('int')\n",
    "y = y_df.to_numpy()\n",
    "\n",
    "print(X.shape)"
   ]
  },
  {
   "cell_type": "code",
   "execution_count": 48,
   "id": "18c37ea7",
   "metadata": {},
   "outputs": [
    {
     "name": "stdout",
     "output_type": "stream",
     "text": [
      "(53184, 2)\n",
      "['#FFFFAA', '#EFEFEF']\n"
     ]
    },
    {
     "data": {
      "image/png": "[encoded data removed]",
      "text/plain": [
       "<Figure size 432x288 with 1 Axes>"
      ]
     },
     "metadata": {
      "needs_background": "light"
     },
     "output_type": "display_data"
    }
   ],
   "source": [
    "from sklearn.naive_bayes import GaussianNB\n",
    "from sklearn.metrics import confusion_matrix\n",
    "from sklearn.metrics import classification_report\n",
    "from sklearn.model_selection import train_test_split\n",
    "\n",
    "X_train, X_test, y_train, y_test = train_test_split(X, y, random_state=0)\n",
    "\n",
    "# undersampling only on the Training sets \n",
    "under = RandomUnderSampler(sampling_strategy='auto')\n",
    "\n",
    "X_train, y_train = under.fit_resample(X_train, y_train)\n",
    "print(X_train.shape)\n",
    "\n",
    "NBclf = GaussianNB().fit(X_train, y_train)\n",
    "\n",
    "plot_class_regions_for_classifier(NBclf, X_train, y_train, X_test, y_test, 'Gaussian Naive Bayes classifier: using PCA features')"
   ]
  },
  {
   "cell_type": "markdown",
   "id": "503769b4",
   "metadata": {},
   "source": [
    "## Confusion Matrix"
   ]
  },
  {
   "cell_type": "code",
   "execution_count": 49,
   "id": "871ae68a",
   "metadata": {},
   "outputs": [
    {
     "data": {
      "text/plain": [
       "0.6205655104389282"
      ]
     },
     "execution_count": 49,
     "metadata": {},
     "output_type": "execute_result"
    }
   ],
   "source": [
    "NBclf.score(X_test, y_test)"
   ]
  },
  {
   "cell_type": "code",
   "execution_count": 50,
   "id": "d747f47b",
   "metadata": {},
   "outputs": [
    {
     "name": "stdout",
     "output_type": "stream",
     "text": [
      "[[30913 21210]\n",
      " [ 1871  6836]]\n"
     ]
    }
   ],
   "source": [
    "y_pred = NBclf.predict(X_test)\n",
    "\n",
    "#  confusion matrix\n",
    "confusion_mat = confusion_matrix(y_test, y_pred)\n",
    "\n",
    "print(confusion_mat)"
   ]
  },
  {
   "cell_type": "markdown",
   "id": "871ad34c",
   "metadata": {},
   "source": [
    "## Classification Report:  Precision, Recall, F1-Score "
   ]
  },
  {
   "cell_type": "code",
   "execution_count": 51,
   "id": "9f853b24",
   "metadata": {},
   "outputs": [
    {
     "name": "stdout",
     "output_type": "stream",
     "text": [
      "              precision    recall  f1-score   support\n",
      "\n",
      "     Class 0       0.94      0.59      0.73     52123\n",
      "     Class 1       0.24      0.79      0.37      8707\n",
      "\n",
      "    accuracy                           0.62     60830\n",
      "   macro avg       0.59      0.69      0.55     60830\n",
      "weighted avg       0.84      0.62      0.68     60830\n",
      "\n"
     ]
    }
   ],
   "source": [
    "# Print classification report\n",
    "target_names = ['Class 0', 'Class 1']\n",
    "\n",
    "result_metrics = classification_report(y_test, y_pred, target_names=target_names)\n",
    "\n",
    "print(result_metrics)"
   ]
  },
  {
   "cell_type": "markdown",
   "id": "1414315c",
   "metadata": {},
   "source": [
    "## ROC Curve"
   ]
  },
  {
   "cell_type": "code",
   "execution_count": 52,
   "id": "58fd859b",
   "metadata": {},
   "outputs": [
    {
     "name": "stdout",
     "output_type": "stream",
     "text": [
      "Accuracy =  0.7646406906055878\n"
     ]
    },
    {
     "data": {
      "image/png": "[encoded data removed]",
      "text/plain": [
       "<Figure size 432x288 with 1 Axes>"
      ]
     },
     "metadata": {
      "needs_background": "light"
     },
     "output_type": "display_data"
    }
   ],
   "source": [
    "from sklearn.metrics import roc_curve, auc\n",
    "y_score = NBclf.predict_proba(X_test)\n",
    "\n",
    "false_positive_rate, true_positive_rate, thresholds = roc_curve(y_test, y_score[:,1])\n",
    "\n",
    "roc_auc = auc(false_positive_rate, true_positive_rate)\n",
    "print('Accuracy = ', roc_auc)\n",
    "\n",
    "count = 1\n",
    "\n",
    "# Get different color each graph line\n",
    "colorSet = ['navy', 'greenyellow', 'deepskyblue', 'darkviolet', 'crimson', \n",
    "            'darkslategray', 'indigo', 'brown', 'orange', 'palevioletred', 'mediumseagreen',\n",
    "            'k', 'darkgoldenrod', 'g', 'midnightblue', 'c', 'y', 'r', 'b', 'm', 'lawngreen'\n",
    "            'mediumturquoise', 'lime', 'teal', 'drive', 'sienna', 'sandybrown']\n",
    "color = colorSet[count-1]\n",
    "\n",
    "# Plotting\n",
    "plt.title('ROC')\n",
    "plt.plot(false_positive_rate, true_positive_rate, c=color, label=('Accuracy = %0.2f'%roc_auc))\n",
    "plt.legend(loc='lower right', prop={'size':8})\n",
    "plt.plot([0,1],[0,1], color='lightgrey', linestyle='--')\n",
    "plt.xlim([-0.05,1.0])\n",
    "plt.ylim([0.0,1.05])\n",
    "plt.ylabel('True Positive Rate')\n",
    "plt.xlabel('False Positive Rate')\n",
    "plt.show()"
   ]
  },
  {
   "cell_type": "markdown",
   "id": "f7fc1060",
   "metadata": {},
   "source": [
    "Precision value for Class 1 is poor, recall score 0.79 for the same class is not bad. We plotted the ROC curve to compare the TPR vs FPR. Accuracy of 0.76 is not great but since Class 1 has very low precision, we will try and change the hyper parameters and see if the performance gets better."
   ]
  },
  {
   "cell_type": "markdown",
   "id": "3bcb2c39",
   "metadata": {},
   "source": [
    "#### Naive Bayes with undersampled data and StratifiedKFold using NB params var_smoothing"
   ]
  },
  {
   "cell_type": "code",
   "execution_count": 53,
   "id": "3eae05b8",
   "metadata": {},
   "outputs": [],
   "source": [
    "from sklearn.model_selection import GridSearchCV, StratifiedKFold"
   ]
  },
  {
   "cell_type": "code",
   "execution_count": 54,
   "id": "76f71eae",
   "metadata": {},
   "outputs": [
    {
     "name": "stdout",
     "output_type": "stream",
     "text": [
      "Fitting 7 folds for each of 100 candidates, totalling 700 fits\n"
     ]
    },
    {
     "data": {
      "text/plain": [
       "{'var_smoothing': 1.0}"
      ]
     },
     "execution_count": 54,
     "metadata": {},
     "output_type": "execute_result"
    }
   ],
   "source": [
    "nb_classifier = GaussianNB()\n",
    "skf = StratifiedKFold(n_splits=7)\n",
    "params_NB = {'var_smoothing': np.logspace(0,-9, num=100)}\n",
    "gs_NB = GridSearchCV(estimator=nb_classifier, \n",
    "                 param_grid=params_NB, \n",
    "                 cv=skf,   # use any cross validation technique \n",
    "                 verbose=1, \n",
    "                 scoring='accuracy') \n",
    "gs_NB.fit(X_train, y_train)\n",
    "\n",
    "gs_NB.best_params_"
   ]
  },
  {
   "cell_type": "code",
   "execution_count": 55,
   "id": "2b4216df",
   "metadata": {},
   "outputs": [
    {
     "name": "stdout",
     "output_type": "stream",
     "text": [
      "['#FFFFAA', '#EFEFEF']\n"
     ]
    },
    {
     "data": {
      "image/png": "[encoded data removed]",
      "text/plain": [
       "<Figure size 432x288 with 1 Axes>"
      ]
     },
     "metadata": {
      "needs_background": "light"
     },
     "output_type": "display_data"
    }
   ],
   "source": [
    "plot_class_regions_for_classifier(gs_NB, X_train, y_train, X_test, y_test, 'Gaussian Naive Bayes classifier: using PCA features, var smoothing & Grid Search Cross Validation using Stratified K Fold')"
   ]
  },
  {
   "cell_type": "code",
   "execution_count": 56,
   "id": "057bc582",
   "metadata": {},
   "outputs": [
    {
     "data": {
      "text/plain": [
       "0.6337333552523426"
      ]
     },
     "execution_count": 56,
     "metadata": {},
     "output_type": "execute_result"
    }
   ],
   "source": [
    "gs_NB.score(X_test, y_test)"
   ]
  },
  {
   "cell_type": "code",
   "execution_count": 57,
   "id": "36cf6515",
   "metadata": {},
   "outputs": [
    {
     "name": "stdout",
     "output_type": "stream",
     "text": [
      "[[31836 20287]\n",
      " [ 1993  6714]]\n"
     ]
    }
   ],
   "source": [
    "y_pred = gs_NB.predict(X_test)\n",
    "\n",
    "#  confusion matrix\n",
    "confusion_mat = confusion_matrix(y_test, y_pred)\n",
    "\n",
    "print(confusion_mat)"
   ]
  },
  {
   "cell_type": "markdown",
   "id": "e59c566f",
   "metadata": {},
   "source": [
    "## Classification Report:  Precision, Recall, F1-Score "
   ]
  },
  {
   "cell_type": "code",
   "execution_count": 58,
   "id": "be578bea",
   "metadata": {},
   "outputs": [
    {
     "name": "stdout",
     "output_type": "stream",
     "text": [
      "              precision    recall  f1-score   support\n",
      "\n",
      "     Class 0       0.94      0.61      0.74     52123\n",
      "     Class 1       0.25      0.77      0.38      8707\n",
      "\n",
      "    accuracy                           0.63     60830\n",
      "   macro avg       0.59      0.69      0.56     60830\n",
      "weighted avg       0.84      0.63      0.69     60830\n",
      "\n"
     ]
    }
   ],
   "source": [
    "# Print classification report\n",
    "target_names = ['Class 0', 'Class 1']\n",
    "\n",
    "result_metrics = classification_report(y_test, y_pred, target_names=target_names)\n",
    "\n",
    "print(result_metrics)"
   ]
  },
  {
   "cell_type": "markdown",
   "id": "d4a51fc6",
   "metadata": {},
   "source": [
    "## ROC Curve"
   ]
  },
  {
   "cell_type": "code",
   "execution_count": 59,
   "id": "80734e41",
   "metadata": {},
   "outputs": [
    {
     "name": "stdout",
     "output_type": "stream",
     "text": [
      "Accuracy =  0.7685176902887391\n"
     ]
    },
    {
     "data": {
      "image/png": "[encoded data removed]",
      "text/plain": [
       "<Figure size 432x288 with 1 Axes>"
      ]
     },
     "metadata": {
      "needs_background": "light"
     },
     "output_type": "display_data"
    }
   ],
   "source": [
    "from sklearn.metrics import roc_curve, auc\n",
    "y_score = gs_NB.predict_proba(X_test)\n",
    "\n",
    "false_positive_rate, true_positive_rate, thresholds = roc_curve(y_test, y_score[:,1])\n",
    "\n",
    "roc_auc = auc(false_positive_rate, true_positive_rate)\n",
    "print('Accuracy = ', roc_auc)\n",
    "\n",
    "count = 1\n",
    "\n",
    "# Get different color each graph line\n",
    "colorSet = ['navy', 'greenyellow', 'deepskyblue', 'darkviolet', 'crimson', \n",
    "            'darkslategray', 'indigo', 'brown', 'orange', 'palevioletred', 'mediumseagreen',\n",
    "            'k', 'darkgoldenrod', 'g', 'midnightblue', 'c', 'y', 'r', 'b', 'm', 'lawngreen'\n",
    "            'mediumturquoise', 'lime', 'teal', 'drive', 'sienna', 'sandybrown']\n",
    "color = colorSet[count-1]\n",
    "\n",
    "# Plotting\n",
    "plt.title('ROC')\n",
    "plt.plot(false_positive_rate, true_positive_rate, c=color, label=('Accuracy = %0.2f'%roc_auc))\n",
    "plt.legend(loc='lower right', prop={'size':8})\n",
    "plt.plot([0,1],[0,1], color='lightgrey', linestyle='--')\n",
    "plt.xlim([-0.05,1.0])\n",
    "plt.ylim([0.0,1.05])\n",
    "plt.ylabel('True Positive Rate')\n",
    "plt.xlabel('False Positive Rate')\n",
    "plt.show()"
   ]
  },
  {
   "cell_type": "markdown",
   "id": "3bf3eb38",
   "metadata": {},
   "source": [
    "The precision for class 1 improves marginally after changing the hyper parameters but the gain (0.01) is negligible. \n",
    "The ROC Curve looks very similar to NB without the hyper parameters change"
   ]
  },
  {
   "cell_type": "markdown",
   "id": "52a3aecf",
   "metadata": {},
   "source": [
    "# Conclusion"
   ]
  },
  {
   "cell_type": "markdown",
   "id": "3af5ecff",
   "metadata": {},
   "source": [
    "- In the beginning, we had 21 features not all of which are important to classify the diabetes dataset. \n",
    "- We first found the important features using the importances parameter of the DecisionTree Classifier. \n",
    "- We then performed Principal Component Analysis and reduced the dimensions to 2\n",
    "- We then undersampled the majority class to handle the data imbalance problem\n",
    "- On performing Gaussian Naive Bayes on this data, we got model score as 0.76 but the precision of the Class 1 was very low (0.24), even though the ROC was not bad.\n",
    "- We changed hyper parameters of Gaussian Naive Bayes, i.e., Stratified K Fold = 7 and NB params var_smoothing\n",
    "- The results did not improve a lot (only 0.01) which is not promising.\n",
    "\n",
    "We plan to train few more classifiers and then draw a conclusion on the best classifiers for the dataset."
   ]
  },
  {
   "cell_type": "markdown",
   "id": "8d40735e",
   "metadata": {},
   "source": [
    "# End\n",
    "## NEXT NOTEBOOK -> project_part_4_classification_NN (Neural Networks)"
   ]
  }
 ],
 "metadata": {
  "kernelspec": {
   "display_name": "Python 3",
   "language": "python",
   "name": "python3"
  },
  "language_info": {
   "codemirror_mode": {
    "name": "ipython",
    "version": 3
   },
   "file_extension": ".py",
   "mimetype": "text/x-python",
   "name": "python",
   "nbconvert_exporter": "python",
   "pygments_lexer": "ipython3",
   "version": "3.8.8"
  }
 },
 "nbformat": 4,
 "nbformat_minor": 5
}
