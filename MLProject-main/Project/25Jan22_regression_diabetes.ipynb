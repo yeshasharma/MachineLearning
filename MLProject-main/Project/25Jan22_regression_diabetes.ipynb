{
 "cells": [
  {
   "cell_type": "markdown",
   "metadata": {},
   "source": [
    "# Regression example:  Diabetes dataset\n",
    "Number of Attributes: First 10 columns are numeric predictive values :<br>\n",
    "Target: Column 11 is a quantitative measure of disease progression one year after baseline<br>\n",
    ":Attribute Information:  - age     age in years      - sex     - bmi     body mass index      - bp      average blood pressure\\n      - s1      tc, T-Cells (a type of white blood cells)\\n      - s2      ldl, low-density lipoproteins\\n      - s3      hdl, high-density lipoproteins\\n      - s4      tch, thyroid stimulating hormone\\n      - s5      ltg, lamotrigine\\n      - s6      glu, blood sugar level<br>\n",
    "\n",
    "feature_names': ['age', 'sex', 'bmi', 'bp', 's1', 's2', 's3', 's4', 's5', 's6']"
   ]
  },
  {
   "cell_type": "code",
   "execution_count": 2,
   "metadata": {},
   "outputs": [
    {
     "name": "stdout",
     "output_type": "stream",
     "text": [
      "Automatically created module for IPython interactive environment\n",
      "(442, 10) (442,)\n",
      "(442, 1) (442,)\n",
      "Coefficients =   [938.23786125]\n",
      "Intercept =   152.91886182616167\n",
      "Mean squared error = 2548.07\n",
      "Coefficient of determination = 0.47\n"
     ]
    },
    {
     "data": {
      "image/png": "[encoded data removed]",
      "text/plain": [
       "<Figure size 432x288 with 1 Axes>"
      ]
     },
     "metadata": {
      "needs_background": "light"
     },
     "output_type": "display_data"
    }
   ],
   "source": [
    "print(__doc__)\n",
    "\n",
    "import matplotlib.pyplot as plt\n",
    "import numpy as np\n",
    "from sklearn import datasets, linear_model\n",
    "from sklearn.metrics import mean_squared_error, r2_score\n",
    "\n",
    "\n",
    "# Load the diabetes dataset\n",
    "diabetes_X, diabetes_y = datasets.load_diabetes(return_X_y=True)\n",
    "\n",
    "print(diabetes_X.shape, diabetes_y.shape)\n",
    "\n",
    "# Use only  feature number 2\n",
    "diabetes_X = diabetes_X[:, np.newaxis,2]\n",
    "print(diabetes_X.shape, diabetes_y.shape)\n",
    "# manually Split the data into training/testing sets\n",
    "diabetes_X_train = diabetes_X[:-20]\n",
    "diabetes_X_test = diabetes_X[-20:]\n",
    "\n",
    "# Split the targets into training/testing sets\n",
    "diabetes_y_train = diabetes_y[:-20]\n",
    "diabetes_y_test = diabetes_y[-20:]\n",
    "\n",
    "# Create linear regression object\n",
    "# LinearRegrassion() is a function from sklearn.linear_model\n",
    "regr = linear_model.LinearRegression()\n",
    "\n",
    "# Train the model using the training sets\n",
    "regr.fit(diabetes_X_train, diabetes_y_train)\n",
    "\n",
    "# Make predictions using the testing set\n",
    "diabetes_y_pred = regr.predict(diabetes_X_test)\n",
    "\n",
    "# The coefficients\n",
    "print('Coefficients =  ', regr.coef_)\n",
    "print('Intercept =  ', regr.intercept_)\n",
    "# The mean squared error\n",
    "print('Mean squared error = {:.2f}'.format( mean_squared_error(diabetes_y_test, diabetes_y_pred)))\n",
    "# The coefficient of determination: 1 is perfect prediction\n",
    "print('Coefficient of determination = {:.2f}'.format(r2_score(diabetes_y_test, diabetes_y_pred)))\n",
    "\n",
    "# Plot outputs\n",
    "plt.scatter(diabetes_X_test, diabetes_y_test,  color='black')\n",
    "plt.plot(diabetes_X_test, diabetes_y_pred, color='blue', linewidth=3)\n",
    "import matplotlib as mpl\n",
    "\n",
    "plt.xlabel('bmi')\n",
    "plt.ylabel('charges')\n",
    "plt.title('Regression')\n",
    "\n",
    "\n",
    "\n",
    "plt.show()"
   ]
  },
  {
   "cell_type": "code",
   "execution_count": null,
   "metadata": {},
   "outputs": [],
   "source": []
  }
 ],
 "metadata": {
  "kernelspec": {
   "display_name": "Python 3 (ipykernel)",
   "language": "python",
   "name": "python3"
  },
  "language_info": {
   "codemirror_mode": {
    "name": "ipython",
    "version": 3
   },
   "file_extension": ".py",
   "mimetype": "text/x-python",
   "name": "python",
   "nbconvert_exporter": "python",
   "pygments_lexer": "ipython3",
   "version": "3.9.7"
  }
 },
 "nbformat": 4,
 "nbformat_minor": 2
}
