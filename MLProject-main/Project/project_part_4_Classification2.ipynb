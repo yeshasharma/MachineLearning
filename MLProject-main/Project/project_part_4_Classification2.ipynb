{
 "cells": [
  {
   "cell_type": "markdown",
   "id": "4a68a8af",
   "metadata": {},
   "source": [
    "# NOTEBOOK 5: CLASSIFICATION \n",
    "### Team 3\n",
    "- Anjali Sebastian\n",
    "- Yesha Sharma\n",
    "- Rupansh Phutela\n",
    "\n",
    "### What this Notebook does?\n",
    "After Data selection, cleaning, pre-processing, EDA and Regression Analysis & Clustering we will now look at how we can perform classfication on our data. Our data has target varibale y = Diabetes (Yes or No) we will try to classify the data to see the performance of different classifiers. \n",
    " - Normalization of entire dataset due to varying ranges of different attributes\n",
    " - Simple Visualization of the Dataset\n",
    "\n",
    "#### CLUSTERING Algorithms\n",
    " - Decision Trees.\n",
    "\n",
    " - Logistic Regression.\n",
    " - k-Nearest Neighbors.\n",
    " - Support Vector Machine.\n",
    " - Naive Bayes.\n",
    "\n",
    " - Comparing clustering algorithmn with two clusters vis a vis real target labels. Here we assume C1 as label=0 (No Diabetes) and C2 as label = 1 (yes Diabetes) for doing our comparision . This can be flipped since the cluster created can have any meaning as such. ( however in most cases we can reasonably assume 1 of the clusters to correspond to 1 of the target labels.\n",
    " - Analysis of all the clustering algorithms and Conclusion"
   ]
  },
  {
   "cell_type": "markdown",
   "id": "4803b7a7",
   "metadata": {},
   "source": [
    "## 1. Import Packages and Setup"
   ]
  },
  {
   "cell_type": "code",
   "execution_count": 9,
   "id": "c26ff6c6",
   "metadata": {},
   "outputs": [],
   "source": [
    "# you need   Python ≥3.5 \n",
    "import sys\n",
    "assert sys.version_info >= (3, 5)\n"
   ]
  },
  {
   "cell_type": "code",
   "execution_count": 10,
   "id": "adfe978e",
   "metadata": {},
   "outputs": [],
   "source": [
    "# Scikit-Learn ≥0.20 is required\n",
    "import sklearn\n",
    "assert sklearn.__version__ >= \"0.20\""
   ]
  },
  {
   "cell_type": "code",
   "execution_count": 11,
   "id": "d01bbb86",
   "metadata": {},
   "outputs": [],
   "source": [
    "import os\n",
    "import pandas as pd   \n",
    "import numpy as np    \n",
    "import seaborn as sns\n",
    "import time\n",
    "import warnings\n",
    "warnings.filterwarnings(\"ignore\")\n",
    "##############################################"
   ]
  },
  {
   "cell_type": "code",
   "execution_count": 12,
   "id": "bfbef8b6",
   "metadata": {},
   "outputs": [],
   "source": [
    "# to make this notebook's output stable across runs\n",
    "np.random.seed(42)\n",
    "\n",
    "# To plot pretty figures\n",
    "%matplotlib inline\n",
    "import matplotlib as mpl\n",
    "import matplotlib.pyplot as plt\n",
    "\n",
    "mpl.rc('axes', labelsize=14)\n",
    "mpl.rc('xtick', labelsize=12)\n",
    "mpl.rc('ytick', labelsize=12)\n",
    "\n",
    "\n",
    "# Where to save the figures\n",
    "PROJECT_ROOT_DIR = \".\"\n",
    "CHAPTER_ID = \"clustering_kmeans\"\n",
    "IMAGES_PATH = os.path.join(PROJECT_ROOT_DIR, \"images\", CHAPTER_ID)\n",
    "os.makedirs(IMAGES_PATH, exist_ok=True)\n",
    "\n",
    "# method to save figures\n",
    "def save_fig(fig_id, tight_layout=True, fig_extension=\"png\", resolution=300):\n",
    "    path = os.path.join(IMAGES_PATH, fig_id + \".\" + fig_extension)\n",
    "    print(\"Saving figure\", fig_id)\n",
    "    if tight_layout:\n",
    "        plt.tight_layout()\n",
    "    plt.savefig(path, format=fig_extension, dpi=resolution)\n"
   ]
  },
  {
   "cell_type": "markdown",
   "id": "e311ea9f",
   "metadata": {},
   "source": [
    "## 2. Utility Functions"
   ]
  },
  {
   "cell_type": "code",
   "execution_count": 13,
   "id": "32b9aea1",
   "metadata": {},
   "outputs": [],
   "source": [
    "import matplotlib.patches as mpatches\n",
    "from matplotlib.colors import ListedColormap, BoundaryNorm\n",
    "\n",
    "def plot_data(X):\n",
    "    plt.plot(X[:, 0], X[:, 1], 'k.', markersize=2)\n",
    "\n",
    "def plot_labelled_scatter(X, y, class_labels):\n",
    "    num_labels = len(class_labels)\n",
    "\n",
    "    x_min, x_max = X[:, 0].min() - 1, X[:, 0].max() + 1\n",
    "    y_min, y_max = X[:, 1].min() - 1, X[:, 1].max() + 1\n",
    "\n",
    "    marker_array = ['o', '^', '*']\n",
    "    color_array = ['#FFFF00','#00AAFF','#000000','#FF00AA','#2ca02c', '#d62728','#9467bd','#8c564b','#e377c2']\n",
    "    cmap_bold = ListedColormap(color_array)\n",
    "    bnorm = BoundaryNorm(np.arange(0, num_labels + 1, 1), ncolors=num_labels)\n",
    "    plt.figure()\n",
    "\n",
    "    plt.scatter(X[:, 0], X[:, 1], s=65, c=y, cmap=cmap_bold, norm = bnorm, alpha = 0.40, edgecolor='black', lw = 1)\n",
    "\n",
    "    plt.xlim(x_min, x_max)\n",
    "    plt.ylim(y_min, y_max)\n",
    "\n",
    "    h = []\n",
    "    for c in range(0, num_labels):\n",
    "        h.append(mpatches.Patch(color=color_array[c], label=class_labels[c]))\n",
    "    plt.legend(handles=h)\n",
    "    plt.show()"
   ]
  },
  {
   "cell_type": "markdown",
   "id": "84f29d37",
   "metadata": {},
   "source": [
    "# CHANGE ME FOR DIABETES"
   ]
  },
  {
   "cell_type": "code",
   "execution_count": 72,
   "id": "dea85ac0",
   "metadata": {},
   "outputs": [],
   "source": [
    "from matplotlib.colors import ListedColormap\n",
    "\n",
    "def plot_decision_boundary(clf, X, y, axes=[0, 7.5, 0, 3], iris=False, legend=False, plot_training=True):\n",
    "    x1s = np.linspace(axes[0], axes[1], 100)       # Return evenly spaced numbers over a specified interval.\n",
    "    x2s = np.linspace(axes[2], axes[3], 100)\n",
    "    x1, x2 = np.meshgrid(x1s, x2s)\n",
    "    X_new = np.c_[x1.ravel(), x2.ravel()]\n",
    "    y_pred = clf.predict(X_new).reshape(x1.shape)\n",
    "    custom_cmap = ListedColormap(['#fafab0','#9898ff','#a0faa0'])\n",
    "    plt.contourf(x1, x2, y_pred, alpha=0.3, cmap=custom_cmap)\n",
    "    if not iris:\n",
    "        custom_cmap2 = ListedColormap(['#7d7d58','#4c4c7f','#507d50'])\n",
    "        plt.contour(x1, x2, y_pred, cmap=custom_cmap2, alpha=0.8)\n",
    "    if plot_training:\n",
    "        plt.plot(X[:, 0][y==0], X[:, 1][y==0], \"yo\", label=\"Iris setosa\")\n",
    "        plt.plot(X[:, 0][y==1], X[:, 1][y==1], \"bs\", label=\"Iris versicolor\")\n",
    "#         plt.plot(X[:, 0][y==2], X[:, 1][y==2], \"g^\", label=\"Iris virginica\")\n",
    "        plt.axis(axes)\n",
    "    if iris:\n",
    "        plt.xlabel(\"Petal length\", fontsize=14)\n",
    "        plt.ylabel(\"Petal width\", fontsize=14)\n",
    "    else:\n",
    "        plt.xlabel(r\"$x_1$\", fontsize=18)\n",
    "        plt.ylabel(r\"$x_2$\", fontsize=18, rotation=0)\n",
    "    if legend:\n",
    "        plt.legend(loc=\"lower right\", fontsize=14)"
   ]
  },
  {
   "cell_type": "code",
   "execution_count": 53,
   "id": "9ab7e68a",
   "metadata": {},
   "outputs": [],
   "source": [
    "# Show confusion matrix\n",
    "def plot_confusion_matrix(confusion_mat, cln):\n",
    "    plt.imshow(confusion_mat, interpolation='nearest', cmap=plt.cm.gray)\n",
    "    plt.title('Confusion matrix')\n",
    "    plt.colorbar()\n",
    "    tick_marks = np.arange(cln)\n",
    "    plt.xticks(tick_marks, tick_marks)\n",
    "    plt.yticks(tick_marks, tick_marks)\n",
    "    plt.ylabel('True label')\n",
    "    plt.xlabel('Predicted label')\n",
    "    plt.show()"
   ]
  },
  {
   "cell_type": "markdown",
   "id": "457e5e24",
   "metadata": {},
   "source": [
    "## 3. Read Data and Display"
   ]
  },
  {
   "cell_type": "code",
   "execution_count": 15,
   "id": "8f0e2be7",
   "metadata": {},
   "outputs": [],
   "source": [
    "diabetes = pd.read_csv('./diabetes.csv')"
   ]
  },
  {
   "cell_type": "code",
   "execution_count": 16,
   "id": "cc84173e",
   "metadata": {},
   "outputs": [
    {
     "data": {
      "text/html": [
       "<div>\n",
       "<style scoped>\n",
       "    .dataframe tbody tr th:only-of-type {\n",
       "        vertical-align: middle;\n",
       "    }\n",
       "\n",
       "    .dataframe tbody tr th {\n",
       "        vertical-align: top;\n",
       "    }\n",
       "\n",
       "    .dataframe thead th {\n",
       "        text-align: right;\n",
       "    }\n",
       "</style>\n",
       "<table border=\"1\" class=\"dataframe\">\n",
       "  <thead>\n",
       "    <tr style=\"text-align: right;\">\n",
       "      <th></th>\n",
       "      <th>Unnamed: 0</th>\n",
       "      <th>Diabetes</th>\n",
       "      <th>BMI</th>\n",
       "      <th>State</th>\n",
       "      <th>HighBP</th>\n",
       "      <th>HighChol</th>\n",
       "      <th>CholCheck</th>\n",
       "      <th>FruitConsume</th>\n",
       "      <th>VegetableConsume</th>\n",
       "      <th>Smoker</th>\n",
       "      <th>...</th>\n",
       "      <th>NoDoctorDueToCost</th>\n",
       "      <th>PhysicalActivity</th>\n",
       "      <th>GeneralHealth</th>\n",
       "      <th>PhysicalHealth</th>\n",
       "      <th>MentalHealth</th>\n",
       "      <th>DifficultyWalking</th>\n",
       "      <th>Gender</th>\n",
       "      <th>Age</th>\n",
       "      <th>Education</th>\n",
       "      <th>Income</th>\n",
       "    </tr>\n",
       "  </thead>\n",
       "  <tbody>\n",
       "    <tr>\n",
       "      <th>0</th>\n",
       "      <td>0</td>\n",
       "      <td>0.0</td>\n",
       "      <td>28.17</td>\n",
       "      <td>AL</td>\n",
       "      <td>1.0</td>\n",
       "      <td>1.0</td>\n",
       "      <td>1.0</td>\n",
       "      <td>1.0</td>\n",
       "      <td>1.0</td>\n",
       "      <td>1.0</td>\n",
       "      <td>...</td>\n",
       "      <td>0.0</td>\n",
       "      <td>0.0</td>\n",
       "      <td>3.0</td>\n",
       "      <td>15.0</td>\n",
       "      <td>0.0</td>\n",
       "      <td>1.0</td>\n",
       "      <td>0.0</td>\n",
       "      <td>13.0</td>\n",
       "      <td>3.0</td>\n",
       "      <td>3.0</td>\n",
       "    </tr>\n",
       "    <tr>\n",
       "      <th>1</th>\n",
       "      <td>1</td>\n",
       "      <td>0.0</td>\n",
       "      <td>18.54</td>\n",
       "      <td>AL</td>\n",
       "      <td>0.0</td>\n",
       "      <td>0.0</td>\n",
       "      <td>1.0</td>\n",
       "      <td>1.0</td>\n",
       "      <td>1.0</td>\n",
       "      <td>0.0</td>\n",
       "      <td>...</td>\n",
       "      <td>0.0</td>\n",
       "      <td>1.0</td>\n",
       "      <td>2.0</td>\n",
       "      <td>10.0</td>\n",
       "      <td>0.0</td>\n",
       "      <td>0.0</td>\n",
       "      <td>0.0</td>\n",
       "      <td>11.0</td>\n",
       "      <td>5.0</td>\n",
       "      <td>5.0</td>\n",
       "    </tr>\n",
       "    <tr>\n",
       "      <th>2</th>\n",
       "      <td>2</td>\n",
       "      <td>1.0</td>\n",
       "      <td>31.62</td>\n",
       "      <td>AL</td>\n",
       "      <td>1.0</td>\n",
       "      <td>0.0</td>\n",
       "      <td>1.0</td>\n",
       "      <td>1.0</td>\n",
       "      <td>1.0</td>\n",
       "      <td>0.0</td>\n",
       "      <td>...</td>\n",
       "      <td>0.0</td>\n",
       "      <td>1.0</td>\n",
       "      <td>3.0</td>\n",
       "      <td>0.0</td>\n",
       "      <td>30.0</td>\n",
       "      <td>1.0</td>\n",
       "      <td>0.0</td>\n",
       "      <td>10.0</td>\n",
       "      <td>6.0</td>\n",
       "      <td>7.0</td>\n",
       "    </tr>\n",
       "    <tr>\n",
       "      <th>3</th>\n",
       "      <td>6</td>\n",
       "      <td>1.0</td>\n",
       "      <td>32.98</td>\n",
       "      <td>AL</td>\n",
       "      <td>0.0</td>\n",
       "      <td>0.0</td>\n",
       "      <td>1.0</td>\n",
       "      <td>1.0</td>\n",
       "      <td>1.0</td>\n",
       "      <td>1.0</td>\n",
       "      <td>...</td>\n",
       "      <td>0.0</td>\n",
       "      <td>1.0</td>\n",
       "      <td>4.0</td>\n",
       "      <td>30.0</td>\n",
       "      <td>0.0</td>\n",
       "      <td>1.0</td>\n",
       "      <td>1.0</td>\n",
       "      <td>11.0</td>\n",
       "      <td>6.0</td>\n",
       "      <td>7.0</td>\n",
       "    </tr>\n",
       "    <tr>\n",
       "      <th>4</th>\n",
       "      <td>9</td>\n",
       "      <td>1.0</td>\n",
       "      <td>16.65</td>\n",
       "      <td>AL</td>\n",
       "      <td>0.0</td>\n",
       "      <td>1.0</td>\n",
       "      <td>1.0</td>\n",
       "      <td>0.0</td>\n",
       "      <td>0.0</td>\n",
       "      <td>1.0</td>\n",
       "      <td>...</td>\n",
       "      <td>0.0</td>\n",
       "      <td>0.0</td>\n",
       "      <td>1.0</td>\n",
       "      <td>20.0</td>\n",
       "      <td>0.0</td>\n",
       "      <td>1.0</td>\n",
       "      <td>0.0</td>\n",
       "      <td>11.0</td>\n",
       "      <td>2.0</td>\n",
       "      <td>3.0</td>\n",
       "    </tr>\n",
       "  </tbody>\n",
       "</table>\n",
       "<p>5 rows × 24 columns</p>\n",
       "</div>"
      ],
      "text/plain": [
       "   Unnamed: 0  Diabetes    BMI State  HighBP  HighChol  CholCheck  \\\n",
       "0           0       0.0  28.17    AL     1.0       1.0        1.0   \n",
       "1           1       0.0  18.54    AL     0.0       0.0        1.0   \n",
       "2           2       1.0  31.62    AL     1.0       0.0        1.0   \n",
       "3           6       1.0  32.98    AL     0.0       0.0        1.0   \n",
       "4           9       1.0  16.65    AL     0.0       1.0        1.0   \n",
       "\n",
       "   FruitConsume  VegetableConsume  Smoker  ...  NoDoctorDueToCost  \\\n",
       "0           1.0               1.0     1.0  ...                0.0   \n",
       "1           1.0               1.0     0.0  ...                0.0   \n",
       "2           1.0               1.0     0.0  ...                0.0   \n",
       "3           1.0               1.0     1.0  ...                0.0   \n",
       "4           0.0               0.0     1.0  ...                0.0   \n",
       "\n",
       "   PhysicalActivity  GeneralHealth  PhysicalHealth  MentalHealth  \\\n",
       "0               0.0            3.0            15.0           0.0   \n",
       "1               1.0            2.0            10.0           0.0   \n",
       "2               1.0            3.0             0.0          30.0   \n",
       "3               1.0            4.0            30.0           0.0   \n",
       "4               0.0            1.0            20.0           0.0   \n",
       "\n",
       "   DifficultyWalking  Gender   Age  Education  Income  \n",
       "0                1.0     0.0  13.0        3.0     3.0  \n",
       "1                0.0     0.0  11.0        5.0     5.0  \n",
       "2                1.0     0.0  10.0        6.0     7.0  \n",
       "3                1.0     1.0  11.0        6.0     7.0  \n",
       "4                1.0     0.0  11.0        2.0     3.0  \n",
       "\n",
       "[5 rows x 24 columns]"
      ]
     },
     "execution_count": 16,
     "metadata": {},
     "output_type": "execute_result"
    }
   ],
   "source": [
    "diabetes.head()"
   ]
  },
  {
   "cell_type": "code",
   "execution_count": 17,
   "id": "52e8012b",
   "metadata": {},
   "outputs": [],
   "source": [
    "#set datatypes of columns to boolean or categorical as appropriate\n",
    "make_bool_int = ['Diabetes','HighBP','HighChol','CholCheck',\\\n",
    "             'FruitConsume','VegetableConsume','Smoker','HeavyDrinker','Stroke','HeartDisease',\\\n",
    "             'Healthcare','NoDoctorDueToCost','PhysicalActivity','DifficultyWalking','Gender']\n",
    "make_categorical_int = ['GeneralHealth','Age','Education','Income']"
   ]
  },
  {
   "cell_type": "code",
   "execution_count": 18,
   "id": "d3f21d30",
   "metadata": {},
   "outputs": [],
   "source": [
    "#drop the extra index column in datafram\n",
    "diabetes=diabetes.drop(['Unnamed: 0'], axis=1)\n",
    "\n",
    "#drop the state column in dataframe since it will not be used in the dataframe\n",
    "diabetes=diabetes.drop(['State'], axis=1)"
   ]
  },
  {
   "cell_type": "code",
   "execution_count": 19,
   "id": "27f3a95e",
   "metadata": {},
   "outputs": [
    {
     "data": {
      "text/html": [
       "<div>\n",
       "<style scoped>\n",
       "    .dataframe tbody tr th:only-of-type {\n",
       "        vertical-align: middle;\n",
       "    }\n",
       "\n",
       "    .dataframe tbody tr th {\n",
       "        vertical-align: top;\n",
       "    }\n",
       "\n",
       "    .dataframe thead th {\n",
       "        text-align: right;\n",
       "    }\n",
       "</style>\n",
       "<table border=\"1\" class=\"dataframe\">\n",
       "  <thead>\n",
       "    <tr style=\"text-align: right;\">\n",
       "      <th></th>\n",
       "      <th>Diabetes</th>\n",
       "      <th>BMI</th>\n",
       "      <th>HighBP</th>\n",
       "      <th>HighChol</th>\n",
       "      <th>CholCheck</th>\n",
       "      <th>FruitConsume</th>\n",
       "      <th>VegetableConsume</th>\n",
       "      <th>Smoker</th>\n",
       "      <th>HeavyDrinker</th>\n",
       "      <th>Stroke</th>\n",
       "      <th>...</th>\n",
       "      <th>NoDoctorDueToCost</th>\n",
       "      <th>PhysicalActivity</th>\n",
       "      <th>GeneralHealth</th>\n",
       "      <th>PhysicalHealth</th>\n",
       "      <th>MentalHealth</th>\n",
       "      <th>DifficultyWalking</th>\n",
       "      <th>Gender</th>\n",
       "      <th>Age</th>\n",
       "      <th>Education</th>\n",
       "      <th>Income</th>\n",
       "    </tr>\n",
       "  </thead>\n",
       "  <tbody>\n",
       "    <tr>\n",
       "      <th>0</th>\n",
       "      <td>0.0</td>\n",
       "      <td>28.17</td>\n",
       "      <td>1.0</td>\n",
       "      <td>1.0</td>\n",
       "      <td>1.0</td>\n",
       "      <td>1.0</td>\n",
       "      <td>1.0</td>\n",
       "      <td>1.0</td>\n",
       "      <td>0.0</td>\n",
       "      <td>0.0</td>\n",
       "      <td>...</td>\n",
       "      <td>0.0</td>\n",
       "      <td>0.0</td>\n",
       "      <td>3.0</td>\n",
       "      <td>15.0</td>\n",
       "      <td>0.0</td>\n",
       "      <td>1.0</td>\n",
       "      <td>0.0</td>\n",
       "      <td>13.0</td>\n",
       "      <td>3.0</td>\n",
       "      <td>3.0</td>\n",
       "    </tr>\n",
       "    <tr>\n",
       "      <th>1</th>\n",
       "      <td>0.0</td>\n",
       "      <td>18.54</td>\n",
       "      <td>0.0</td>\n",
       "      <td>0.0</td>\n",
       "      <td>1.0</td>\n",
       "      <td>1.0</td>\n",
       "      <td>1.0</td>\n",
       "      <td>0.0</td>\n",
       "      <td>0.0</td>\n",
       "      <td>0.0</td>\n",
       "      <td>...</td>\n",
       "      <td>0.0</td>\n",
       "      <td>1.0</td>\n",
       "      <td>2.0</td>\n",
       "      <td>10.0</td>\n",
       "      <td>0.0</td>\n",
       "      <td>0.0</td>\n",
       "      <td>0.0</td>\n",
       "      <td>11.0</td>\n",
       "      <td>5.0</td>\n",
       "      <td>5.0</td>\n",
       "    </tr>\n",
       "    <tr>\n",
       "      <th>2</th>\n",
       "      <td>1.0</td>\n",
       "      <td>31.62</td>\n",
       "      <td>1.0</td>\n",
       "      <td>0.0</td>\n",
       "      <td>1.0</td>\n",
       "      <td>1.0</td>\n",
       "      <td>1.0</td>\n",
       "      <td>0.0</td>\n",
       "      <td>0.0</td>\n",
       "      <td>0.0</td>\n",
       "      <td>...</td>\n",
       "      <td>0.0</td>\n",
       "      <td>1.0</td>\n",
       "      <td>3.0</td>\n",
       "      <td>0.0</td>\n",
       "      <td>30.0</td>\n",
       "      <td>1.0</td>\n",
       "      <td>0.0</td>\n",
       "      <td>10.0</td>\n",
       "      <td>6.0</td>\n",
       "      <td>7.0</td>\n",
       "    </tr>\n",
       "    <tr>\n",
       "      <th>3</th>\n",
       "      <td>1.0</td>\n",
       "      <td>32.98</td>\n",
       "      <td>0.0</td>\n",
       "      <td>0.0</td>\n",
       "      <td>1.0</td>\n",
       "      <td>1.0</td>\n",
       "      <td>1.0</td>\n",
       "      <td>1.0</td>\n",
       "      <td>0.0</td>\n",
       "      <td>0.0</td>\n",
       "      <td>...</td>\n",
       "      <td>0.0</td>\n",
       "      <td>1.0</td>\n",
       "      <td>4.0</td>\n",
       "      <td>30.0</td>\n",
       "      <td>0.0</td>\n",
       "      <td>1.0</td>\n",
       "      <td>1.0</td>\n",
       "      <td>11.0</td>\n",
       "      <td>6.0</td>\n",
       "      <td>7.0</td>\n",
       "    </tr>\n",
       "    <tr>\n",
       "      <th>4</th>\n",
       "      <td>1.0</td>\n",
       "      <td>16.65</td>\n",
       "      <td>0.0</td>\n",
       "      <td>1.0</td>\n",
       "      <td>1.0</td>\n",
       "      <td>0.0</td>\n",
       "      <td>0.0</td>\n",
       "      <td>1.0</td>\n",
       "      <td>0.0</td>\n",
       "      <td>0.0</td>\n",
       "      <td>...</td>\n",
       "      <td>0.0</td>\n",
       "      <td>0.0</td>\n",
       "      <td>1.0</td>\n",
       "      <td>20.0</td>\n",
       "      <td>0.0</td>\n",
       "      <td>1.0</td>\n",
       "      <td>0.0</td>\n",
       "      <td>11.0</td>\n",
       "      <td>2.0</td>\n",
       "      <td>3.0</td>\n",
       "    </tr>\n",
       "  </tbody>\n",
       "</table>\n",
       "<p>5 rows × 22 columns</p>\n",
       "</div>"
      ],
      "text/plain": [
       "   Diabetes    BMI  HighBP  HighChol  CholCheck  FruitConsume  \\\n",
       "0       0.0  28.17     1.0       1.0        1.0           1.0   \n",
       "1       0.0  18.54     0.0       0.0        1.0           1.0   \n",
       "2       1.0  31.62     1.0       0.0        1.0           1.0   \n",
       "3       1.0  32.98     0.0       0.0        1.0           1.0   \n",
       "4       1.0  16.65     0.0       1.0        1.0           0.0   \n",
       "\n",
       "   VegetableConsume  Smoker  HeavyDrinker  Stroke  ...  NoDoctorDueToCost  \\\n",
       "0               1.0     1.0           0.0     0.0  ...                0.0   \n",
       "1               1.0     0.0           0.0     0.0  ...                0.0   \n",
       "2               1.0     0.0           0.0     0.0  ...                0.0   \n",
       "3               1.0     1.0           0.0     0.0  ...                0.0   \n",
       "4               0.0     1.0           0.0     0.0  ...                0.0   \n",
       "\n",
       "   PhysicalActivity  GeneralHealth  PhysicalHealth  MentalHealth  \\\n",
       "0               0.0            3.0            15.0           0.0   \n",
       "1               1.0            2.0            10.0           0.0   \n",
       "2               1.0            3.0             0.0          30.0   \n",
       "3               1.0            4.0            30.0           0.0   \n",
       "4               0.0            1.0            20.0           0.0   \n",
       "\n",
       "   DifficultyWalking  Gender   Age  Education  Income  \n",
       "0                1.0     0.0  13.0        3.0     3.0  \n",
       "1                0.0     0.0  11.0        5.0     5.0  \n",
       "2                1.0     0.0  10.0        6.0     7.0  \n",
       "3                1.0     1.0  11.0        6.0     7.0  \n",
       "4                1.0     0.0  11.0        2.0     3.0  \n",
       "\n",
       "[5 rows x 22 columns]"
      ]
     },
     "execution_count": 19,
     "metadata": {},
     "output_type": "execute_result"
    }
   ],
   "source": [
    "diabetes.head()"
   ]
  },
  {
   "cell_type": "code",
   "execution_count": 20,
   "id": "9509c916",
   "metadata": {},
   "outputs": [],
   "source": [
    "# deep copy before next stage\n",
    "df = diabetes.copy(deep = True)"
   ]
  },
  {
   "cell_type": "code",
   "execution_count": 21,
   "id": "53cfa182",
   "metadata": {},
   "outputs": [
    {
     "name": "stdout",
     "output_type": "stream",
     "text": [
      "<class 'pandas.core.frame.DataFrame'>\n",
      "RangeIndex: 243317 entries, 0 to 243316\n",
      "Data columns (total 22 columns):\n",
      " #   Column             Non-Null Count   Dtype  \n",
      "---  ------             --------------   -----  \n",
      " 0   Diabetes           243317 non-null  float64\n",
      " 1   BMI                243317 non-null  float64\n",
      " 2   HighBP             243317 non-null  float64\n",
      " 3   HighChol           243317 non-null  float64\n",
      " 4   CholCheck          243317 non-null  float64\n",
      " 5   FruitConsume       243317 non-null  float64\n",
      " 6   VegetableConsume   243317 non-null  float64\n",
      " 7   Smoker             243317 non-null  float64\n",
      " 8   HeavyDrinker       243317 non-null  float64\n",
      " 9   Stroke             243317 non-null  float64\n",
      " 10  HeartDisease       243317 non-null  float64\n",
      " 11  Healthcare         243317 non-null  float64\n",
      " 12  NoDoctorDueToCost  243317 non-null  float64\n",
      " 13  PhysicalActivity   243317 non-null  float64\n",
      " 14  GeneralHealth      243317 non-null  float64\n",
      " 15  PhysicalHealth     243317 non-null  float64\n",
      " 16  MentalHealth       243317 non-null  float64\n",
      " 17  DifficultyWalking  243317 non-null  float64\n",
      " 18  Gender             243317 non-null  float64\n",
      " 19  Age                243317 non-null  float64\n",
      " 20  Education          243317 non-null  float64\n",
      " 21  Income             243317 non-null  float64\n",
      "dtypes: float64(22)\n",
      "memory usage: 40.8 MB\n"
     ]
    }
   ],
   "source": [
    "df.info()"
   ]
  },
  {
   "cell_type": "code",
   "execution_count": 22,
   "id": "7ba58f2a",
   "metadata": {},
   "outputs": [
    {
     "data": {
      "text/plain": [
       "(243317, 22)"
      ]
     },
     "execution_count": 22,
     "metadata": {},
     "output_type": "execute_result"
    }
   ],
   "source": [
    "df.shape"
   ]
  },
  {
   "cell_type": "markdown",
   "id": "2c198ae7",
   "metadata": {},
   "source": [
    "## 4. Normalization and Simple Vizualization"
   ]
  },
  {
   "cell_type": "code",
   "execution_count": 23,
   "id": "17ea24bb",
   "metadata": {},
   "outputs": [],
   "source": [
    "X_columns = ['BMI', 'HighBP', 'HighChol', 'CholCheck', 'FruitConsume',\n",
    "       'VegetableConsume', 'Smoker', 'HeavyDrinker', 'Stroke', 'HeartDisease',\n",
    "       'Healthcare', 'NoDoctorDueToCost', 'PhysicalActivity', 'GeneralHealth',\n",
    "       'PhysicalHealth', 'MentalHealth', 'DifficultyWalking', 'Gender', 'Age',\n",
    "       'Education', 'Income']"
   ]
  },
  {
   "cell_type": "markdown",
   "id": "bd36e888",
   "metadata": {},
   "source": [
    "Note: The entire data set is 0.24 million enteries. The agglomerative clustering and Mean Shift clustering algorithms we causing the kernal to crash because the sized of data set is too large. So we are going to take a random sample of 10,000 entries to perform clustering and see how all the clustering algorithmns perform."
   ]
  },
  {
   "cell_type": "code",
   "execution_count": 24,
   "id": "52a56553",
   "metadata": {},
   "outputs": [],
   "source": [
    "# Selecting a random sample for the data set\n",
    "\n",
    "#sampling a random number of values since plotting all 0.2 million datapoints will crash the kernal\n",
    "number_of_samples = 10000\n",
    "df_sample = df.sample(number_of_samples, random_state=42)"
   ]
  },
  {
   "cell_type": "code",
   "execution_count": 25,
   "id": "0aabc229",
   "metadata": {},
   "outputs": [
    {
     "data": {
      "text/plain": [
       "Text(0.5, 1.0, 'Vizualizing the full data (attributes BMI, HighBP). Not Normalized')"
      ]
     },
     "execution_count": 25,
     "metadata": {},
     "output_type": "execute_result"
    },
    {
     "data": {
      "image/png": "[encoded data removed]",
      "text/plain": [
       "<Figure size 432x288 with 1 Axes>"
      ]
     },
     "metadata": {
      "needs_background": "light"
     },
     "output_type": "display_data"
    }
   ],
   "source": [
    "# separating the target column y = Diabetes before clustering\n",
    "# for complete dataset\n",
    "X_df = df[X_columns].values\n",
    "y_df = df[['Diabetes']]\n",
    "plot_data(X_df)\n",
    "plt.title(\"Vizualizing the full data (attributes BMI, HighBP). Not Normalized\")"
   ]
  },
  {
   "cell_type": "code",
   "execution_count": 26,
   "id": "cc2e2a33",
   "metadata": {},
   "outputs": [
    {
     "data": {
      "text/plain": [
       "Text(0.5, 1.0, 'Vizualizing the  data (attributes BMI, HighBP). Not Normalized')"
      ]
     },
     "execution_count": 26,
     "metadata": {},
     "output_type": "execute_result"
    },
    {
     "data": {
      "image/png": "[encoded data removed]",
      "text/plain": [
       "<Figure size 432x288 with 1 Axes>"
      ]
     },
     "metadata": {
      "needs_background": "light"
     },
     "output_type": "display_data"
    }
   ],
   "source": [
    "# separating the target column y = Diabetes before clustering\n",
    "\n",
    "# for sampled dataset\n",
    "X_sample_df = df_sample[X_columns].values\n",
    "y_sample_df = df_sample[['Diabetes']]\n",
    "plot_data(X_sample_df)\n",
    "plt.title(\"Vizualizing the  data (attributes BMI, HighBP). Not Normalized\")"
   ]
  },
  {
   "cell_type": "code",
   "execution_count": 27,
   "id": "76a5e2b1",
   "metadata": {},
   "outputs": [
    {
     "data": {
      "text/plain": [
       "Text(0.5, 1.0, 'Vizualizing the full data (attributes BMI, HighBP). Normalized')"
      ]
     },
     "execution_count": 27,
     "metadata": {},
     "output_type": "execute_result"
    },
    {
     "data": {
      "image/png": "[encoded data removed]",
      "text/plain": [
       "<Figure size 432x288 with 1 Axes>"
      ]
     },
     "metadata": {
      "needs_background": "light"
     },
     "output_type": "display_data"
    }
   ],
   "source": [
    "# Using minmax scaler for normalization\n",
    "from sklearn.preprocessing import MinMaxScaler\n",
    "\n",
    "# normalization full dataset\n",
    "X_normalized = MinMaxScaler().fit(X_df).transform(X_df)\n",
    "df_normalized = pd.DataFrame(X_normalized, columns=X_columns )\n",
    "plot_data(X_normalized)\n",
    "plt.title(\"Vizualizing the full data (attributes BMI, HighBP). Normalized\")"
   ]
  },
  {
   "cell_type": "code",
   "execution_count": 28,
   "id": "5d7dc577",
   "metadata": {},
   "outputs": [
    {
     "data": {
      "text/plain": [
       "Text(0.5, 1.0, 'Vizualizing the sample data (attributes BMI, HighBP). Normalized')"
      ]
     },
     "execution_count": 28,
     "metadata": {},
     "output_type": "execute_result"
    },
    {
     "data": {
      "image/png": "[encoded data removed]",
      "text/plain": [
       "<Figure size 432x288 with 1 Axes>"
      ]
     },
     "metadata": {
      "needs_background": "light"
     },
     "output_type": "display_data"
    }
   ],
   "source": [
    "# normalization sample dataset\n",
    "X_sample_normalized = MinMaxScaler().fit(X_sample_df).transform(X_sample_df)\n",
    "df_sample_normalized = pd.DataFrame(X_sample_normalized, columns=X_columns )\n",
    "plot_data(X_sample_normalized)\n",
    "plt.title(\"Vizualizing the sample data (attributes BMI, HighBP). Normalized\")"
   ]
  },
  {
   "cell_type": "code",
   "execution_count": 29,
   "id": "8c3830a9",
   "metadata": {},
   "outputs": [
    {
     "data": {
      "text/html": [
       "<div>\n",
       "<style scoped>\n",
       "    .dataframe tbody tr th:only-of-type {\n",
       "        vertical-align: middle;\n",
       "    }\n",
       "\n",
       "    .dataframe tbody tr th {\n",
       "        vertical-align: top;\n",
       "    }\n",
       "\n",
       "    .dataframe thead th {\n",
       "        text-align: right;\n",
       "    }\n",
       "</style>\n",
       "<table border=\"1\" class=\"dataframe\">\n",
       "  <thead>\n",
       "    <tr style=\"text-align: right;\">\n",
       "      <th></th>\n",
       "      <th>BMI</th>\n",
       "      <th>HighBP</th>\n",
       "      <th>HighChol</th>\n",
       "      <th>CholCheck</th>\n",
       "      <th>FruitConsume</th>\n",
       "      <th>VegetableConsume</th>\n",
       "      <th>Smoker</th>\n",
       "      <th>HeavyDrinker</th>\n",
       "      <th>Stroke</th>\n",
       "      <th>HeartDisease</th>\n",
       "      <th>...</th>\n",
       "      <th>NoDoctorDueToCost</th>\n",
       "      <th>PhysicalActivity</th>\n",
       "      <th>GeneralHealth</th>\n",
       "      <th>PhysicalHealth</th>\n",
       "      <th>MentalHealth</th>\n",
       "      <th>DifficultyWalking</th>\n",
       "      <th>Gender</th>\n",
       "      <th>Age</th>\n",
       "      <th>Education</th>\n",
       "      <th>Income</th>\n",
       "    </tr>\n",
       "  </thead>\n",
       "  <tbody>\n",
       "    <tr>\n",
       "      <th>0</th>\n",
       "      <td>0.186505</td>\n",
       "      <td>1.0</td>\n",
       "      <td>1.0</td>\n",
       "      <td>1.0</td>\n",
       "      <td>1.0</td>\n",
       "      <td>1.0</td>\n",
       "      <td>1.0</td>\n",
       "      <td>0.0</td>\n",
       "      <td>0.0</td>\n",
       "      <td>0.0</td>\n",
       "      <td>...</td>\n",
       "      <td>0.0</td>\n",
       "      <td>0.0</td>\n",
       "      <td>0.50</td>\n",
       "      <td>0.500000</td>\n",
       "      <td>0.0</td>\n",
       "      <td>1.0</td>\n",
       "      <td>0.0</td>\n",
       "      <td>1.000000</td>\n",
       "      <td>0.4</td>\n",
       "      <td>0.285714</td>\n",
       "    </tr>\n",
       "    <tr>\n",
       "      <th>1</th>\n",
       "      <td>0.075433</td>\n",
       "      <td>0.0</td>\n",
       "      <td>0.0</td>\n",
       "      <td>1.0</td>\n",
       "      <td>1.0</td>\n",
       "      <td>1.0</td>\n",
       "      <td>0.0</td>\n",
       "      <td>0.0</td>\n",
       "      <td>0.0</td>\n",
       "      <td>0.0</td>\n",
       "      <td>...</td>\n",
       "      <td>0.0</td>\n",
       "      <td>1.0</td>\n",
       "      <td>0.25</td>\n",
       "      <td>0.333333</td>\n",
       "      <td>0.0</td>\n",
       "      <td>0.0</td>\n",
       "      <td>0.0</td>\n",
       "      <td>0.833333</td>\n",
       "      <td>0.8</td>\n",
       "      <td>0.571429</td>\n",
       "    </tr>\n",
       "    <tr>\n",
       "      <th>2</th>\n",
       "      <td>0.226298</td>\n",
       "      <td>1.0</td>\n",
       "      <td>0.0</td>\n",
       "      <td>1.0</td>\n",
       "      <td>1.0</td>\n",
       "      <td>1.0</td>\n",
       "      <td>0.0</td>\n",
       "      <td>0.0</td>\n",
       "      <td>0.0</td>\n",
       "      <td>0.0</td>\n",
       "      <td>...</td>\n",
       "      <td>0.0</td>\n",
       "      <td>1.0</td>\n",
       "      <td>0.50</td>\n",
       "      <td>0.000000</td>\n",
       "      <td>1.0</td>\n",
       "      <td>1.0</td>\n",
       "      <td>0.0</td>\n",
       "      <td>0.750000</td>\n",
       "      <td>1.0</td>\n",
       "      <td>0.857143</td>\n",
       "    </tr>\n",
       "    <tr>\n",
       "      <th>3</th>\n",
       "      <td>0.241984</td>\n",
       "      <td>0.0</td>\n",
       "      <td>0.0</td>\n",
       "      <td>1.0</td>\n",
       "      <td>1.0</td>\n",
       "      <td>1.0</td>\n",
       "      <td>1.0</td>\n",
       "      <td>0.0</td>\n",
       "      <td>0.0</td>\n",
       "      <td>0.0</td>\n",
       "      <td>...</td>\n",
       "      <td>0.0</td>\n",
       "      <td>1.0</td>\n",
       "      <td>0.75</td>\n",
       "      <td>1.000000</td>\n",
       "      <td>0.0</td>\n",
       "      <td>1.0</td>\n",
       "      <td>1.0</td>\n",
       "      <td>0.833333</td>\n",
       "      <td>1.0</td>\n",
       "      <td>0.857143</td>\n",
       "    </tr>\n",
       "    <tr>\n",
       "      <th>4</th>\n",
       "      <td>0.053633</td>\n",
       "      <td>0.0</td>\n",
       "      <td>1.0</td>\n",
       "      <td>1.0</td>\n",
       "      <td>0.0</td>\n",
       "      <td>0.0</td>\n",
       "      <td>1.0</td>\n",
       "      <td>0.0</td>\n",
       "      <td>0.0</td>\n",
       "      <td>0.0</td>\n",
       "      <td>...</td>\n",
       "      <td>0.0</td>\n",
       "      <td>0.0</td>\n",
       "      <td>0.00</td>\n",
       "      <td>0.666667</td>\n",
       "      <td>0.0</td>\n",
       "      <td>1.0</td>\n",
       "      <td>0.0</td>\n",
       "      <td>0.833333</td>\n",
       "      <td>0.2</td>\n",
       "      <td>0.285714</td>\n",
       "    </tr>\n",
       "  </tbody>\n",
       "</table>\n",
       "<p>5 rows × 21 columns</p>\n",
       "</div>"
      ],
      "text/plain": [
       "        BMI  HighBP  HighChol  CholCheck  FruitConsume  VegetableConsume  \\\n",
       "0  0.186505     1.0       1.0        1.0           1.0               1.0   \n",
       "1  0.075433     0.0       0.0        1.0           1.0               1.0   \n",
       "2  0.226298     1.0       0.0        1.0           1.0               1.0   \n",
       "3  0.241984     0.0       0.0        1.0           1.0               1.0   \n",
       "4  0.053633     0.0       1.0        1.0           0.0               0.0   \n",
       "\n",
       "   Smoker  HeavyDrinker  Stroke  HeartDisease  ...  NoDoctorDueToCost  \\\n",
       "0     1.0           0.0     0.0           0.0  ...                0.0   \n",
       "1     0.0           0.0     0.0           0.0  ...                0.0   \n",
       "2     0.0           0.0     0.0           0.0  ...                0.0   \n",
       "3     1.0           0.0     0.0           0.0  ...                0.0   \n",
       "4     1.0           0.0     0.0           0.0  ...                0.0   \n",
       "\n",
       "   PhysicalActivity  GeneralHealth  PhysicalHealth  MentalHealth  \\\n",
       "0               0.0           0.50        0.500000           0.0   \n",
       "1               1.0           0.25        0.333333           0.0   \n",
       "2               1.0           0.50        0.000000           1.0   \n",
       "3               1.0           0.75        1.000000           0.0   \n",
       "4               0.0           0.00        0.666667           0.0   \n",
       "\n",
       "   DifficultyWalking  Gender       Age  Education    Income  \n",
       "0                1.0     0.0  1.000000        0.4  0.285714  \n",
       "1                0.0     0.0  0.833333        0.8  0.571429  \n",
       "2                1.0     0.0  0.750000        1.0  0.857143  \n",
       "3                1.0     1.0  0.833333        1.0  0.857143  \n",
       "4                1.0     0.0  0.833333        0.2  0.285714  \n",
       "\n",
       "[5 rows x 21 columns]"
      ]
     },
     "execution_count": 29,
     "metadata": {},
     "output_type": "execute_result"
    }
   ],
   "source": [
    "# Normalized features in pandas format\n",
    "df_normalized.head()"
   ]
  },
  {
   "cell_type": "code",
   "execution_count": 30,
   "id": "b48fa8b5",
   "metadata": {},
   "outputs": [
    {
     "data": {
      "text/plain": [
       "array([[0.18650519, 1.        , 1.        , ..., 1.        , 0.4       ,\n",
       "        0.28571429],\n",
       "       [0.07543253, 0.        , 0.        , ..., 0.83333333, 0.8       ,\n",
       "        0.57142857],\n",
       "       [0.22629758, 1.        , 0.        , ..., 0.75      , 1.        ,\n",
       "        0.85714286],\n",
       "       ...,\n",
       "       [0.1905421 , 0.        , 0.        , ..., 0.5       , 0.4       ,\n",
       "        0.        ],\n",
       "       [0.227797  , 0.        , 1.        , ..., 0.        , 0.6       ,\n",
       "        0.28571429],\n",
       "       [0.09192618, 0.        , 0.        , ..., 0.33333333, 1.        ,\n",
       "        1.        ]])"
      ]
     },
     "execution_count": 30,
     "metadata": {},
     "output_type": "execute_result"
    }
   ],
   "source": [
    "# Normalized features in numpy format\n",
    "X_normalized"
   ]
  },
  {
   "cell_type": "markdown",
   "id": "7d1808a6",
   "metadata": {},
   "source": [
    "Note: The data pairs are as follows:\n",
    "- Full Data\n",
    "    1. X_df (pandas) with y_df(pandas) : not normalized full data set\n",
    "    2. X_normalized (numpy) with y_df(pandas) : normalized full X in numpy (easy for clustering)\n",
    "    3. df_normalized (pandas) with y_df(pandas) : normalized X in pandas format (easy for tracking feature names)\n",
    "- Sample Data of 10,000 randomly selected rows\n",
    "    1. X_sample_df (pandas) with y_sample_df(pandas) : not normalized sample data set\n",
    "    2. X_df_normalized (numpy) with y_sample_df(pandas) : normalized sample X in numpy (easy for clustering)\n",
    "    3. df_sample_normalized (pandas) with y_sample_df(pandas) : normalized X sample in pandas format (easy for tracking feature names)\n",
    "    \n",
    "- For all our clustering we will use only the normalized versions of the dataset.    "
   ]
  },
  {
   "cell_type": "markdown",
   "id": "94e5abb5",
   "metadata": {},
   "source": [
    "## 5. DECISION TREE CLASSIFIER\n",
    "- For Decision Tree Classfier we will use K-Fold with 7-folds and max_depth=2,3,5"
   ]
  },
  {
   "cell_type": "code",
   "execution_count": 59,
   "id": "18c37ea7",
   "metadata": {},
   "outputs": [
    {
     "name": "stdout",
     "output_type": "stream",
     "text": [
      "<class 'numpy.ndarray'>\n",
      "<class 'numpy.ndarray'>\n"
     ]
    }
   ],
   "source": [
    "# Import the data, classifier, and metrics libraries similar to what we did above\n",
    "from sklearn.tree import DecisionTreeClassifier\n",
    "from sklearn.metrics import confusion_matrix\n",
    "from sklearn.metrics import classification_report\n",
    "\n",
    "#Import sns for scatter plots\n",
    "import seaborn as sns\n",
    "\n",
    "#Train Test Split\n",
    "from sklearn.model_selection import train_test_split\n",
    "\n",
    "# import k-fold validation \n",
    "from sklearn.model_selection import KFold \n",
    "\n",
    "#To visualize the decision tree\n",
    "from graphviz import Source\n",
    "from sklearn.tree import export_graphviz\n",
    "\n",
    "#to determine the cross validation score\n",
    "from sklearn.model_selection import cross_val_score\n",
    "\n",
    "\n",
    "# Split data into testing and training\n",
    "X = df_sample_normalized.iloc[:, [0,14]].to_numpy() # petal length and petal width\n",
    "y = y_sample_df.to_numpy()\n",
    "print(type(X))\n",
    "print(type(y))\n",
    "\n",
    "X_train, X_test, y_train, y_test = train_test_split(X, y, test_size=0.30)"
   ]
  },
  {
   "cell_type": "markdown",
   "id": "503769b4",
   "metadata": {},
   "source": [
    "#### Set up K-Fold for 7 Folds"
   ]
  },
  {
   "cell_type": "code",
   "execution_count": 60,
   "id": "6b9f07d0",
   "metadata": {},
   "outputs": [
    {
     "name": "stdout",
     "output_type": "stream",
     "text": [
      "KFold(n_splits=7, random_state=None, shuffle=True)\n"
     ]
    }
   ],
   "source": [
    "# Create the 5 fold cv \n",
    "kf_7f = KFold(n_splits=7, random_state=None, shuffle=True)  \n",
    "kf_7f.get_n_splits(X) \n",
    "print(kf_7f) "
   ]
  },
  {
   "cell_type": "markdown",
   "id": "0db978a2",
   "metadata": {},
   "source": [
    "#### K-FOLD Cross Validation (K-Folds = 7, Max Depth = 2 ) with Gini"
   ]
  },
  {
   "cell_type": "code",
   "execution_count": 61,
   "id": "438011e9",
   "metadata": {},
   "outputs": [
    {
     "name": "stdout",
     "output_type": "stream",
     "text": [
      "              precision    recall  f1-score   support\n",
      "\n",
      "           0       0.84      1.00      0.91      1202\n",
      "           1       0.00      0.00      0.00       227\n",
      "\n",
      "    accuracy                           0.84      1429\n",
      "   macro avg       0.42      0.50      0.46      1429\n",
      "weighted avg       0.71      0.84      0.77      1429\n",
      "\n",
      "              precision    recall  f1-score   support\n",
      "\n",
      "           0       0.85      1.00      0.92      1219\n",
      "           1       0.00      0.00      0.00       210\n",
      "\n",
      "    accuracy                           0.85      1429\n",
      "   macro avg       0.43      0.50      0.46      1429\n",
      "weighted avg       0.73      0.85      0.79      1429\n",
      "\n",
      "              precision    recall  f1-score   support\n",
      "\n",
      "           0       0.84      1.00      0.91      1195\n",
      "           1       0.00      0.00      0.00       234\n",
      "\n",
      "    accuracy                           0.84      1429\n",
      "   macro avg       0.42      0.50      0.46      1429\n",
      "weighted avg       0.70      0.84      0.76      1429\n",
      "\n",
      "              precision    recall  f1-score   support\n",
      "\n",
      "           0       0.86      1.00      0.92      1229\n",
      "           1       0.00      0.00      0.00       200\n",
      "\n",
      "    accuracy                           0.86      1429\n",
      "   macro avg       0.43      0.50      0.46      1429\n",
      "weighted avg       0.74      0.86      0.80      1429\n",
      "\n",
      "              precision    recall  f1-score   support\n",
      "\n",
      "           0       0.85      1.00      0.92      1220\n",
      "           1       0.00      0.00      0.00       208\n",
      "\n",
      "    accuracy                           0.85      1428\n",
      "   macro avg       0.43      0.50      0.46      1428\n",
      "weighted avg       0.73      0.85      0.79      1428\n",
      "\n",
      "              precision    recall  f1-score   support\n",
      "\n",
      "           0       0.85      1.00      0.92      1212\n",
      "           1       0.00      0.00      0.00       216\n",
      "\n",
      "    accuracy                           0.85      1428\n",
      "   macro avg       0.42      0.50      0.46      1428\n",
      "weighted avg       0.72      0.85      0.78      1428\n",
      "\n",
      "              precision    recall  f1-score   support\n",
      "\n",
      "           0       0.86      1.00      0.93      1229\n",
      "           1       0.00      0.00      0.00       199\n",
      "\n",
      "    accuracy                           0.86      1428\n",
      "   macro avg       0.43      0.50      0.46      1428\n",
      "weighted avg       0.74      0.86      0.80      1428\n",
      "\n"
     ]
    }
   ],
   "source": [
    "# Validate output on the tree with depth 3 entropy\n",
    "tree_clf_7f_md2_gini = DecisionTreeClassifier(max_depth=2, criterion=\"gini\", random_state=42)\n",
    "\n",
    "for train_index, test_index in kf_7f.split(X):\n",
    "    #print(\"TRAIN:\", train_index, \"TEST:\", test_index)\n",
    "    X_train, X_test = X[train_index], X[test_index]\n",
    "    y_train, y_test = y[train_index], y[test_index]\n",
    "\n",
    "    tree_clf_7f_md2_gini.fit(X_train, y_train)\n",
    "    \n",
    "    y_pred = tree_clf_7f_md2_gini.predict(X_test)\n",
    "    \n",
    "    # Print classification report\n",
    "    target_names = ['0','1']\n",
    "    print(classification_report(y_test, y_pred, target_names=target_names))"
   ]
  },
  {
   "cell_type": "markdown",
   "id": "25bf3745",
   "metadata": {},
   "source": [
    "#### Confusion Matrix"
   ]
  },
  {
   "cell_type": "code",
   "execution_count": 62,
   "id": "0de712a4",
   "metadata": {},
   "outputs": [
    {
     "name": "stdout",
     "output_type": "stream",
     "text": [
      "[[1229    0]\n",
      " [ 199    0]]\n"
     ]
    },
    {
     "data": {
      "image/png": "[encoded data removed]",
      "text/plain": [
       "<Figure size 432x288 with 2 Axes>"
      ]
     },
     "metadata": {
      "needs_background": "light"
     },
     "output_type": "display_data"
    }
   ],
   "source": [
    "# plot a confusion matrix\n",
    "confusion_mat_md2_gini = confusion_matrix(y_test, y_pred)\n",
    "print(confusion_mat_md2_gini)\n",
    "plot_confusion_matrix(confusion_mat_md2_gini, 2)"
   ]
  },
  {
   "cell_type": "markdown",
   "id": "eb92937f",
   "metadata": {},
   "source": [
    "#### Cross-val score"
   ]
  },
  {
   "cell_type": "code",
   "execution_count": 63,
   "id": "471c6fb0",
   "metadata": {},
   "outputs": [
    {
     "data": {
      "text/plain": [
       "array([0.851 , 0.8505, 0.8505, 0.8505, 0.8505])"
      ]
     },
     "execution_count": 63,
     "metadata": {},
     "output_type": "execute_result"
    }
   ],
   "source": [
    "cross_val_score(tree_clf_7f_md2_ent, X, y, cv=5)"
   ]
  },
  {
   "cell_type": "markdown",
   "id": "ff71385c",
   "metadata": {},
   "source": [
    "#### Graphviz"
   ]
  },
  {
   "cell_type": "code",
   "execution_count": 68,
   "id": "a68ef245",
   "metadata": {},
   "outputs": [
    {
     "data": {
      "image/svg+xml": [
       "<?xml version=\"1.0\" encoding=\"UTF-8\" standalone=\"no\"?>\r\n",
       "<!DOCTYPE svg PUBLIC \"-//W3C//DTD SVG 1.1//EN\"\r\n",
       " \"http://www.w3.org/Graphics/SVG/1.1/DTD/svg11.dtd\">\r\n",
       "<!-- Generated by graphviz version 2.38.0 (20140413.2041)\r\n",
       " -->\r\n",
       "<!-- Title: Tree Pages: 1 -->\r\n",
       "<svg width=\"614pt\" height=\"314pt\"\r\n",
       " viewBox=\"0.00 0.00 614.00 314.00\" xmlns=\"http://www.w3.org/2000/svg\" xmlns:xlink=\"http://www.w3.org/1999/xlink\">\r\n",
       "<g id=\"graph0\" class=\"graph\" transform=\"scale(1 1) rotate(0) translate(4 310)\">\r\n",
       "<title>Tree</title>\r\n",
       "<polygon fill=\"white\" stroke=\"none\" points=\"-4,4 -4,-310 610,-310 610,4 -4,4\"/>\r\n",
       "<!-- 0 -->\r\n",
       "<g id=\"node1\" class=\"node\"><title>0</title>\r\n",
       "<path fill=\"#ea975c\" stroke=\"black\" d=\"M366,-306C366,-306 244,-306 244,-306 238,-306 232,-300 232,-294 232,-294 232,-235 232,-235 232,-229 238,-223 244,-223 244,-223 366,-223 366,-223 372,-223 378,-229 378,-235 378,-235 378,-294 378,-294 378,-300 372,-306 366,-306\"/>\r\n",
       "<text text-anchor=\"middle\" x=\"305\" y=\"-290.8\" font-family=\"Helvetica,sans-Serif\" font-size=\"14.00\">BMI &lt;= 0.247</text>\r\n",
       "<text text-anchor=\"middle\" x=\"305\" y=\"-275.8\" font-family=\"Helvetica,sans-Serif\" font-size=\"14.00\">gini = 0.257</text>\r\n",
       "<text text-anchor=\"middle\" x=\"305\" y=\"-260.8\" font-family=\"Helvetica,sans-Serif\" font-size=\"14.00\">samples = 8572</text>\r\n",
       "<text text-anchor=\"middle\" x=\"305\" y=\"-245.8\" font-family=\"Helvetica,sans-Serif\" font-size=\"14.00\">value = [7277, 1295]</text>\r\n",
       "<text text-anchor=\"middle\" x=\"305\" y=\"-230.8\" font-family=\"Helvetica,sans-Serif\" font-size=\"14.00\">class = 0</text>\r\n",
       "</g>\r\n",
       "<!-- 1 -->\r\n",
       "<g id=\"node2\" class=\"node\"><title>1</title>\r\n",
       "<path fill=\"#e88d4c\" stroke=\"black\" d=\"M281.5,-187C281.5,-187 144.5,-187 144.5,-187 138.5,-187 132.5,-181 132.5,-175 132.5,-175 132.5,-116 132.5,-116 132.5,-110 138.5,-104 144.5,-104 144.5,-104 281.5,-104 281.5,-104 287.5,-104 293.5,-110 293.5,-116 293.5,-116 293.5,-175 293.5,-175 293.5,-181 287.5,-187 281.5,-187\"/>\r\n",
       "<text text-anchor=\"middle\" x=\"213\" y=\"-171.8\" font-family=\"Helvetica,sans-Serif\" font-size=\"14.00\">PhysicalHealth &lt;= 0.15</text>\r\n",
       "<text text-anchor=\"middle\" x=\"213\" y=\"-156.8\" font-family=\"Helvetica,sans-Serif\" font-size=\"14.00\">gini = 0.162</text>\r\n",
       "<text text-anchor=\"middle\" x=\"213\" y=\"-141.8\" font-family=\"Helvetica,sans-Serif\" font-size=\"14.00\">samples = 4980</text>\r\n",
       "<text text-anchor=\"middle\" x=\"213\" y=\"-126.8\" font-family=\"Helvetica,sans-Serif\" font-size=\"14.00\">value = [4537, 443]</text>\r\n",
       "<text text-anchor=\"middle\" x=\"213\" y=\"-111.8\" font-family=\"Helvetica,sans-Serif\" font-size=\"14.00\">class = 0</text>\r\n",
       "</g>\r\n",
       "<!-- 0&#45;&gt;1 -->\r\n",
       "<g id=\"edge1\" class=\"edge\"><title>0&#45;&gt;1</title>\r\n",
       "<path fill=\"none\" stroke=\"black\" d=\"M273.081,-222.907C266.016,-213.923 258.461,-204.315 251.176,-195.05\"/>\r\n",
       "<polygon fill=\"black\" stroke=\"black\" points=\"253.795,-192.718 244.863,-187.021 248.292,-197.045 253.795,-192.718\"/>\r\n",
       "<text text-anchor=\"middle\" x=\"241.893\" y=\"-208.144\" font-family=\"Helvetica,sans-Serif\" font-size=\"14.00\">True</text>\r\n",
       "</g>\r\n",
       "<!-- 4 -->\r\n",
       "<g id=\"node5\" class=\"node\"><title>4</title>\r\n",
       "<path fill=\"#eda877\" stroke=\"black\" d=\"M470,-187C470,-187 324,-187 324,-187 318,-187 312,-181 312,-175 312,-175 312,-116 312,-116 312,-110 318,-104 324,-104 324,-104 470,-104 470,-104 476,-104 482,-110 482,-116 482,-116 482,-175 482,-175 482,-181 476,-187 470,-187\"/>\r\n",
       "<text text-anchor=\"middle\" x=\"397\" y=\"-171.8\" font-family=\"Helvetica,sans-Serif\" font-size=\"14.00\">PhysicalHealth &lt;= 0.483</text>\r\n",
       "<text text-anchor=\"middle\" x=\"397\" y=\"-156.8\" font-family=\"Helvetica,sans-Serif\" font-size=\"14.00\">gini = 0.362</text>\r\n",
       "<text text-anchor=\"middle\" x=\"397\" y=\"-141.8\" font-family=\"Helvetica,sans-Serif\" font-size=\"14.00\">samples = 3592</text>\r\n",
       "<text text-anchor=\"middle\" x=\"397\" y=\"-126.8\" font-family=\"Helvetica,sans-Serif\" font-size=\"14.00\">value = [2740, 852]</text>\r\n",
       "<text text-anchor=\"middle\" x=\"397\" y=\"-111.8\" font-family=\"Helvetica,sans-Serif\" font-size=\"14.00\">class = 0</text>\r\n",
       "</g>\r\n",
       "<!-- 0&#45;&gt;4 -->\r\n",
       "<g id=\"edge4\" class=\"edge\"><title>0&#45;&gt;4</title>\r\n",
       "<path fill=\"none\" stroke=\"black\" d=\"M336.919,-222.907C343.984,-213.923 351.539,-204.315 358.824,-195.05\"/>\r\n",
       "<polygon fill=\"black\" stroke=\"black\" points=\"361.708,-197.045 365.137,-187.021 356.205,-192.718 361.708,-197.045\"/>\r\n",
       "<text text-anchor=\"middle\" x=\"368.107\" y=\"-208.144\" font-family=\"Helvetica,sans-Serif\" font-size=\"14.00\">False</text>\r\n",
       "</g>\r\n",
       "<!-- 2 -->\r\n",
       "<g id=\"node3\" class=\"node\"><title>2</title>\r\n",
       "<path fill=\"#e78a48\" stroke=\"black\" d=\"M126,-68C126,-68 12,-68 12,-68 6,-68 0,-62 0,-56 0,-56 0,-12 0,-12 0,-6 6,-0 12,-0 12,-0 126,-0 126,-0 132,-0 138,-6 138,-12 138,-12 138,-56 138,-56 138,-62 132,-68 126,-68\"/>\r\n",
       "<text text-anchor=\"middle\" x=\"69\" y=\"-52.8\" font-family=\"Helvetica,sans-Serif\" font-size=\"14.00\">gini = 0.127</text>\r\n",
       "<text text-anchor=\"middle\" x=\"69\" y=\"-37.8\" font-family=\"Helvetica,sans-Serif\" font-size=\"14.00\">samples = 4030</text>\r\n",
       "<text text-anchor=\"middle\" x=\"69\" y=\"-22.8\" font-family=\"Helvetica,sans-Serif\" font-size=\"14.00\">value = [3755, 275]</text>\r\n",
       "<text text-anchor=\"middle\" x=\"69\" y=\"-7.8\" font-family=\"Helvetica,sans-Serif\" font-size=\"14.00\">class = 0</text>\r\n",
       "</g>\r\n",
       "<!-- 1&#45;&gt;2 -->\r\n",
       "<g id=\"edge2\" class=\"edge\"><title>1&#45;&gt;2</title>\r\n",
       "<path fill=\"none\" stroke=\"black\" d=\"M159.38,-103.726C146.785,-94.1494 133.387,-83.9611 120.871,-74.4438\"/>\r\n",
       "<polygon fill=\"black\" stroke=\"black\" points=\"122.87,-71.5666 112.791,-68.2996 118.633,-77.1386 122.87,-71.5666\"/>\r\n",
       "</g>\r\n",
       "<!-- 3 -->\r\n",
       "<g id=\"node4\" class=\"node\"><title>3</title>\r\n",
       "<path fill=\"#eb9c64\" stroke=\"black\" d=\"M274,-68C274,-68 168,-68 168,-68 162,-68 156,-62 156,-56 156,-56 156,-12 156,-12 156,-6 162,-0 168,-0 168,-0 274,-0 274,-0 280,-0 286,-6 286,-12 286,-12 286,-56 286,-56 286,-62 280,-68 274,-68\"/>\r\n",
       "<text text-anchor=\"middle\" x=\"221\" y=\"-52.8\" font-family=\"Helvetica,sans-Serif\" font-size=\"14.00\">gini = 0.291</text>\r\n",
       "<text text-anchor=\"middle\" x=\"221\" y=\"-37.8\" font-family=\"Helvetica,sans-Serif\" font-size=\"14.00\">samples = 950</text>\r\n",
       "<text text-anchor=\"middle\" x=\"221\" y=\"-22.8\" font-family=\"Helvetica,sans-Serif\" font-size=\"14.00\">value = [782, 168]</text>\r\n",
       "<text text-anchor=\"middle\" x=\"221\" y=\"-7.8\" font-family=\"Helvetica,sans-Serif\" font-size=\"14.00\">class = 0</text>\r\n",
       "</g>\r\n",
       "<!-- 1&#45;&gt;3 -->\r\n",
       "<g id=\"edge3\" class=\"edge\"><title>1&#45;&gt;3</title>\r\n",
       "<path fill=\"none\" stroke=\"black\" d=\"M215.979,-103.726C216.585,-95.4263 217.225,-86.6671 217.838,-78.2834\"/>\r\n",
       "<polygon fill=\"black\" stroke=\"black\" points=\"221.329,-78.5281 218.567,-68.2996 214.348,-78.018 221.329,-78.5281\"/>\r\n",
       "</g>\r\n",
       "<!-- 5 -->\r\n",
       "<g id=\"node6\" class=\"node\"><title>5</title>\r\n",
       "<path fill=\"#eca16b\" stroke=\"black\" d=\"M446,-68C446,-68 332,-68 332,-68 326,-68 320,-62 320,-56 320,-56 320,-12 320,-12 320,-6 326,-0 332,-0 332,-0 446,-0 446,-0 452,-0 458,-6 458,-12 458,-12 458,-56 458,-56 458,-62 452,-68 446,-68\"/>\r\n",
       "<text text-anchor=\"middle\" x=\"389\" y=\"-52.8\" font-family=\"Helvetica,sans-Serif\" font-size=\"14.00\">gini = 0.322</text>\r\n",
       "<text text-anchor=\"middle\" x=\"389\" y=\"-37.8\" font-family=\"Helvetica,sans-Serif\" font-size=\"14.00\">samples = 3059</text>\r\n",
       "<text text-anchor=\"middle\" x=\"389\" y=\"-22.8\" font-family=\"Helvetica,sans-Serif\" font-size=\"14.00\">value = [2442, 617]</text>\r\n",
       "<text text-anchor=\"middle\" x=\"389\" y=\"-7.8\" font-family=\"Helvetica,sans-Serif\" font-size=\"14.00\">class = 0</text>\r\n",
       "</g>\r\n",
       "<!-- 4&#45;&gt;5 -->\r\n",
       "<g id=\"edge5\" class=\"edge\"><title>4&#45;&gt;5</title>\r\n",
       "<path fill=\"none\" stroke=\"black\" d=\"M394.021,-103.726C393.415,-95.4263 392.775,-86.6671 392.162,-78.2834\"/>\r\n",
       "<polygon fill=\"black\" stroke=\"black\" points=\"395.652,-78.018 391.433,-68.2996 388.671,-78.5281 395.652,-78.018\"/>\r\n",
       "</g>\r\n",
       "<!-- 6 -->\r\n",
       "<g id=\"node7\" class=\"node\"><title>6</title>\r\n",
       "<path fill=\"#fae4d5\" stroke=\"black\" d=\"M594,-68C594,-68 488,-68 488,-68 482,-68 476,-62 476,-56 476,-56 476,-12 476,-12 476,-6 482,-0 488,-0 488,-0 594,-0 594,-0 600,-0 606,-6 606,-12 606,-12 606,-56 606,-56 606,-62 600,-68 594,-68\"/>\r\n",
       "<text text-anchor=\"middle\" x=\"541\" y=\"-52.8\" font-family=\"Helvetica,sans-Serif\" font-size=\"14.00\">gini = 0.493</text>\r\n",
       "<text text-anchor=\"middle\" x=\"541\" y=\"-37.8\" font-family=\"Helvetica,sans-Serif\" font-size=\"14.00\">samples = 533</text>\r\n",
       "<text text-anchor=\"middle\" x=\"541\" y=\"-22.8\" font-family=\"Helvetica,sans-Serif\" font-size=\"14.00\">value = [298, 235]</text>\r\n",
       "<text text-anchor=\"middle\" x=\"541\" y=\"-7.8\" font-family=\"Helvetica,sans-Serif\" font-size=\"14.00\">class = 0</text>\r\n",
       "</g>\r\n",
       "<!-- 4&#45;&gt;6 -->\r\n",
       "<g id=\"edge6\" class=\"edge\"><title>4&#45;&gt;6</title>\r\n",
       "<path fill=\"none\" stroke=\"black\" d=\"M450.62,-103.726C463.215,-94.1494 476.613,-83.9611 489.129,-74.4438\"/>\r\n",
       "<polygon fill=\"black\" stroke=\"black\" points=\"491.367,-77.1386 497.209,-68.2996 487.13,-71.5666 491.367,-77.1386\"/>\r\n",
       "</g>\r\n",
       "</g>\r\n",
       "</svg>\r\n"
      ],
      "text/plain": [
       "<graphviz.files.Source at 0x1f576114ca0>"
      ]
     },
     "execution_count": 68,
     "metadata": {},
     "output_type": "execute_result"
    }
   ],
   "source": [
    "export_graphviz(\n",
    "        tree_clf_7f_md2_gini,\n",
    "        out_file=os.path.join(IMAGES_PATH, \"diab_tree_7f_md2_entropy.dot\"),\n",
    "        feature_names=['BMI','PhysicalHealth'],\n",
    "        class_names=['0','1'],\n",
    "        rounded=True,\n",
    "        filled=True\n",
    "    )\n",
    "\n",
    "Source.from_file(os.path.join(IMAGES_PATH, \"diab_tree_7f_md2_entropy.dot\"))"
   ]
  },
  {
   "cell_type": "markdown",
   "id": "c21b7025",
   "metadata": {},
   "source": [
    "#### Decision Boundary"
   ]
  },
  {
   "cell_type": "code",
   "execution_count": 73,
   "id": "e5286b8b",
   "metadata": {},
   "outputs": [
    {
     "ename": "IndexError",
     "evalue": "too many indices for array: array is 1-dimensional, but 2 were indexed",
     "output_type": "error",
     "traceback": [
      "\u001b[1;31m---------------------------------------------------------------------------\u001b[0m",
      "\u001b[1;31mIndexError\u001b[0m                                Traceback (most recent call last)",
      "\u001b[1;32m<ipython-input-73-9c5c51f02e1a>\u001b[0m in \u001b[0;36m<module>\u001b[1;34m\u001b[0m\n\u001b[0;32m      1\u001b[0m \u001b[1;31m#Decision Boundary\u001b[0m\u001b[1;33m\u001b[0m\u001b[1;33m\u001b[0m\u001b[1;33m\u001b[0m\u001b[0m\n\u001b[0;32m      2\u001b[0m \u001b[0mplt\u001b[0m\u001b[1;33m.\u001b[0m\u001b[0mfigure\u001b[0m\u001b[1;33m(\u001b[0m\u001b[0mfigsize\u001b[0m\u001b[1;33m=\u001b[0m\u001b[1;33m(\u001b[0m\u001b[1;36m8\u001b[0m\u001b[1;33m,\u001b[0m \u001b[1;36m4\u001b[0m\u001b[1;33m)\u001b[0m\u001b[1;33m)\u001b[0m\u001b[1;33m\u001b[0m\u001b[1;33m\u001b[0m\u001b[0m\n\u001b[1;32m----> 3\u001b[1;33m \u001b[0mplot_decision_boundary\u001b[0m\u001b[1;33m(\u001b[0m\u001b[0mtree_clf_7f_md2_gini\u001b[0m\u001b[1;33m,\u001b[0m \u001b[0mX\u001b[0m\u001b[1;33m,\u001b[0m \u001b[0my\u001b[0m\u001b[1;33m)\u001b[0m\u001b[1;33m\u001b[0m\u001b[1;33m\u001b[0m\u001b[0m\n\u001b[0m\u001b[0;32m      4\u001b[0m \u001b[0mplt\u001b[0m\u001b[1;33m.\u001b[0m\u001b[0mtitle\u001b[0m\u001b[1;33m(\u001b[0m\u001b[1;34m'decision tree decision boundaries plot with 7 folds having max depth 2 using gini'\u001b[0m\u001b[1;33m)\u001b[0m\u001b[1;33m\u001b[0m\u001b[1;33m\u001b[0m\u001b[0m\n\u001b[0;32m      5\u001b[0m \u001b[0msave_fig\u001b[0m\u001b[1;33m(\u001b[0m\u001b[1;34m\"decision_tree_decision_boundaries_plot_7f_md2_gini\"\u001b[0m\u001b[1;33m)\u001b[0m\u001b[1;33m\u001b[0m\u001b[1;33m\u001b[0m\u001b[0m\n",
      "\u001b[1;32m<ipython-input-72-42460ce2e3e6>\u001b[0m in \u001b[0;36mplot_decision_boundary\u001b[1;34m(clf, X, y, axes, iris, legend, plot_training)\u001b[0m\n\u001b[0;32m     13\u001b[0m         \u001b[0mplt\u001b[0m\u001b[1;33m.\u001b[0m\u001b[0mcontour\u001b[0m\u001b[1;33m(\u001b[0m\u001b[0mx1\u001b[0m\u001b[1;33m,\u001b[0m \u001b[0mx2\u001b[0m\u001b[1;33m,\u001b[0m \u001b[0my_pred\u001b[0m\u001b[1;33m,\u001b[0m \u001b[0mcmap\u001b[0m\u001b[1;33m=\u001b[0m\u001b[0mcustom_cmap2\u001b[0m\u001b[1;33m,\u001b[0m \u001b[0malpha\u001b[0m\u001b[1;33m=\u001b[0m\u001b[1;36m0.8\u001b[0m\u001b[1;33m)\u001b[0m\u001b[1;33m\u001b[0m\u001b[1;33m\u001b[0m\u001b[0m\n\u001b[0;32m     14\u001b[0m     \u001b[1;32mif\u001b[0m \u001b[0mplot_training\u001b[0m\u001b[1;33m:\u001b[0m\u001b[1;33m\u001b[0m\u001b[1;33m\u001b[0m\u001b[0m\n\u001b[1;32m---> 15\u001b[1;33m         \u001b[0mplt\u001b[0m\u001b[1;33m.\u001b[0m\u001b[0mplot\u001b[0m\u001b[1;33m(\u001b[0m\u001b[0mX\u001b[0m\u001b[1;33m[\u001b[0m\u001b[1;33m:\u001b[0m\u001b[1;33m,\u001b[0m \u001b[1;36m0\u001b[0m\u001b[1;33m]\u001b[0m\u001b[1;33m[\u001b[0m\u001b[0my\u001b[0m\u001b[1;33m==\u001b[0m\u001b[1;36m0\u001b[0m\u001b[1;33m]\u001b[0m\u001b[1;33m,\u001b[0m \u001b[0mX\u001b[0m\u001b[1;33m[\u001b[0m\u001b[1;33m:\u001b[0m\u001b[1;33m,\u001b[0m \u001b[1;36m1\u001b[0m\u001b[1;33m]\u001b[0m\u001b[1;33m[\u001b[0m\u001b[0my\u001b[0m\u001b[1;33m==\u001b[0m\u001b[1;36m0\u001b[0m\u001b[1;33m]\u001b[0m\u001b[1;33m,\u001b[0m \u001b[1;34m\"yo\"\u001b[0m\u001b[1;33m,\u001b[0m \u001b[0mlabel\u001b[0m\u001b[1;33m=\u001b[0m\u001b[1;34m\"Iris setosa\"\u001b[0m\u001b[1;33m)\u001b[0m\u001b[1;33m\u001b[0m\u001b[1;33m\u001b[0m\u001b[0m\n\u001b[0m\u001b[0;32m     16\u001b[0m         \u001b[0mplt\u001b[0m\u001b[1;33m.\u001b[0m\u001b[0mplot\u001b[0m\u001b[1;33m(\u001b[0m\u001b[0mX\u001b[0m\u001b[1;33m[\u001b[0m\u001b[1;33m:\u001b[0m\u001b[1;33m,\u001b[0m \u001b[1;36m0\u001b[0m\u001b[1;33m]\u001b[0m\u001b[1;33m[\u001b[0m\u001b[0my\u001b[0m\u001b[1;33m==\u001b[0m\u001b[1;36m1\u001b[0m\u001b[1;33m]\u001b[0m\u001b[1;33m,\u001b[0m \u001b[0mX\u001b[0m\u001b[1;33m[\u001b[0m\u001b[1;33m:\u001b[0m\u001b[1;33m,\u001b[0m \u001b[1;36m1\u001b[0m\u001b[1;33m]\u001b[0m\u001b[1;33m[\u001b[0m\u001b[0my\u001b[0m\u001b[1;33m==\u001b[0m\u001b[1;36m1\u001b[0m\u001b[1;33m]\u001b[0m\u001b[1;33m,\u001b[0m \u001b[1;34m\"bs\"\u001b[0m\u001b[1;33m,\u001b[0m \u001b[0mlabel\u001b[0m\u001b[1;33m=\u001b[0m\u001b[1;34m\"Iris versicolor\"\u001b[0m\u001b[1;33m)\u001b[0m\u001b[1;33m\u001b[0m\u001b[1;33m\u001b[0m\u001b[0m\n\u001b[0;32m     17\u001b[0m \u001b[1;31m#         plt.plot(X[:, 0][y==2], X[:, 1][y==2], \"g^\", label=\"Iris virginica\")\u001b[0m\u001b[1;33m\u001b[0m\u001b[1;33m\u001b[0m\u001b[1;33m\u001b[0m\u001b[0m\n",
      "\u001b[1;31mIndexError\u001b[0m: too many indices for array: array is 1-dimensional, but 2 were indexed"
     ]
    },
    {
     "data": {
      "image/png": "[encoded data removed]",
      "text/plain": [
       "<Figure size 576x288 with 1 Axes>"
      ]
     },
     "metadata": {
      "needs_background": "light"
     },
     "output_type": "display_data"
    }
   ],
   "source": [
    "#Decision Boundary \n",
    "plt.figure(figsize=(8, 4))\n",
    "plot_decision_boundary(tree_clf_7f_md2_gini, X, y)\n",
    "plt.title('decision tree decision boundaries plot with 7 folds having max depth 2 using gini')\n",
    "save_fig(\"decision_tree_decision_boundaries_plot_7f_md2_gini\")\n",
    "plt.show()"
   ]
  },
  {
   "cell_type": "code",
   "execution_count": null,
   "id": "f1f6e08e",
   "metadata": {},
   "outputs": [],
   "source": []
  },
  {
   "cell_type": "code",
   "execution_count": null,
   "id": "f03bf1a2",
   "metadata": {},
   "outputs": [],
   "source": []
  },
  {
   "cell_type": "code",
   "execution_count": null,
   "id": "4a285544",
   "metadata": {},
   "outputs": [],
   "source": []
  },
  {
   "cell_type": "code",
   "execution_count": null,
   "id": "bf8e75ba",
   "metadata": {},
   "outputs": [],
   "source": []
  },
  {
   "cell_type": "markdown",
   "id": "0107d9e2",
   "metadata": {},
   "source": []
  },
  {
   "cell_type": "markdown",
   "id": "e7e3ae9d",
   "metadata": {},
   "source": [
    "# Conclusion"
   ]
  },
  {
   "cell_type": "code",
   "execution_count": null,
   "id": "847b1ea7",
   "metadata": {},
   "outputs": [],
   "source": []
  },
  {
   "cell_type": "code",
   "execution_count": null,
   "id": "8f1f4868",
   "metadata": {},
   "outputs": [],
   "source": []
  },
  {
   "cell_type": "code",
   "execution_count": null,
   "id": "306ce9d7",
   "metadata": {},
   "outputs": [],
   "source": []
  },
  {
   "cell_type": "code",
   "execution_count": null,
   "id": "40acc68a",
   "metadata": {},
   "outputs": [],
   "source": []
  },
  {
   "cell_type": "code",
   "execution_count": null,
   "id": "81fd7cac",
   "metadata": {},
   "outputs": [],
   "source": [
    "# PCA DO WE DO IT WITH KMEANS?????? "
   ]
  },
  {
   "cell_type": "markdown",
   "id": "67a84112",
   "metadata": {},
   "source": [
    "Key assumption in the comparisions between the cluster generated labels and the target labels is that C1 = 0 is no diabetes and C2 = 1 is yes diabetic. If the correspondence is less than 50% then it is possible that the cluster labels are actually reversed. We can never be sure. But in almost all our models the label matching between C1 = 0 and C2 = 1 is higher than 65% so we can try to find which model has clusters  that are relating more closely to our target labels."
   ]
  },
  {
   "cell_type": "markdown",
   "id": "44994985",
   "metadata": {},
   "source": [
    "It looks like 2 clusters with Kmeans or mini batch kmeans is the best. It is also better in terms of computational complexity and understandability. In the KMeans Mini Batch with batch size 32 the two clusters formed have a good not great correspondence to the actual labels of the target (No,Yes) Diabetes\n",
    "- 71 % overall and 65% of positive labels were matching between the cluster created labels and actual labels"
   ]
  },
  {
   "cell_type": "markdown",
   "id": "a6054021",
   "metadata": {},
   "source": [
    "After completing the classification analysis we can further try and relate our classification results to our clustering results."
   ]
  },
  {
   "cell_type": "markdown",
   "id": "53fea13f",
   "metadata": {},
   "source": [
    "More writeup Please !!!"
   ]
  },
  {
   "cell_type": "markdown",
   "id": "b1bbcbc1",
   "metadata": {},
   "source": [
    "# REFERENCES \n",
    "\n",
    "https://www.analyticsvidhya.com/blog/2019/05/beginners-guide-hierarchical-clustering/\n",
    "\n",
    "https://scikit-learn.org/stable/auto_examples/cluster/plot_agglomerative_dendrogram.html\n",
    "\n",
    "https://mclguide.readthedocs.io/en/latest/sklearn/clusterdim.html\n",
    "\n",
    "https://scikit-learn.org/stable/auto_examples/cluster/plot_mean_shift.html\n",
    "\n",
    "https://scikit-learn.org/stable/auto_examples/cluster/plot_kmeans_silhouette_analysis.html\n",
    "\n",
    "https://scikit-learn.org/stable/modules/generated/sklearn.metrics.silhouette_score.html\n",
    "\n",
    "https://www.codecademy.com/learn/machine-learning/modules/dspath-clustering/cheatsheet\n",
    "\n",
    "https://scikit-learn.org/stable/modules/generated/sklearn.cluster.KMeans.html\n",
    "\n",
    "https://towardsdatascience.com/clustering-how-to-find-hyperparameters-using-inertia-b0343c6fe819\n",
    "\n",
    "Material from Machine Learning Course, Seattle University  \n",
    "\n",
    "Material from Introduction to Data Science, Seattle University  "
   ]
  },
  {
   "cell_type": "markdown",
   "id": "5581c84d",
   "metadata": {},
   "source": [
    "# --END--"
   ]
  },
  {
   "cell_type": "code",
   "execution_count": null,
   "id": "1065e6b2",
   "metadata": {},
   "outputs": [],
   "source": []
  },
  {
   "cell_type": "code",
   "execution_count": null,
   "id": "4f18b9e3",
   "metadata": {},
   "outputs": [],
   "source": []
  },
  {
   "cell_type": "code",
   "execution_count": null,
   "id": "7e12f62c",
   "metadata": {},
   "outputs": [],
   "source": []
  },
  {
   "cell_type": "code",
   "execution_count": null,
   "id": "bb4306ac",
   "metadata": {},
   "outputs": [],
   "source": []
  },
  {
   "cell_type": "code",
   "execution_count": null,
   "id": "11660f86",
   "metadata": {},
   "outputs": [],
   "source": []
  },
  {
   "cell_type": "code",
   "execution_count": null,
   "id": "a48a2f97",
   "metadata": {},
   "outputs": [],
   "source": []
  },
  {
   "cell_type": "code",
   "execution_count": null,
   "id": "dafd9301",
   "metadata": {},
   "outputs": [],
   "source": []
  },
  {
   "cell_type": "code",
   "execution_count": null,
   "id": "2fa87343",
   "metadata": {},
   "outputs": [],
   "source": []
  },
  {
   "cell_type": "code",
   "execution_count": null,
   "id": "d2a2dfc6",
   "metadata": {},
   "outputs": [],
   "source": []
  },
  {
   "cell_type": "code",
   "execution_count": null,
   "id": "bc5c3b42",
   "metadata": {},
   "outputs": [],
   "source": []
  },
  {
   "cell_type": "code",
   "execution_count": null,
   "id": "159cb2ca",
   "metadata": {},
   "outputs": [],
   "source": []
  },
  {
   "cell_type": "code",
   "execution_count": null,
   "id": "fe3f108c",
   "metadata": {},
   "outputs": [],
   "source": []
  },
  {
   "cell_type": "code",
   "execution_count": null,
   "id": "33646106",
   "metadata": {},
   "outputs": [],
   "source": []
  },
  {
   "cell_type": "code",
   "execution_count": null,
   "id": "a65ca1c6",
   "metadata": {},
   "outputs": [],
   "source": []
  },
  {
   "cell_type": "code",
   "execution_count": null,
   "id": "09332a4d",
   "metadata": {},
   "outputs": [],
   "source": []
  },
  {
   "cell_type": "code",
   "execution_count": null,
   "id": "94b950aa",
   "metadata": {},
   "outputs": [],
   "source": []
  },
  {
   "cell_type": "code",
   "execution_count": null,
   "id": "4e822ee8",
   "metadata": {},
   "outputs": [],
   "source": []
  },
  {
   "cell_type": "code",
   "execution_count": null,
   "id": "f5f83133",
   "metadata": {},
   "outputs": [],
   "source": []
  },
  {
   "cell_type": "markdown",
   "id": "908928d1",
   "metadata": {},
   "source": [
    "### 7. KMeans Mini Batch\n",
    "- We are doing MiniBatch for 2 clusters with different batch sizes (8,32,128)\n",
    "- First we will find ideal cluster numbers for different batch sizes using intertia and silloutte score"
   ]
  },
  {
   "cell_type": "code",
   "execution_count": null,
   "id": "40a0fc64",
   "metadata": {},
   "outputs": [],
   "source": [
    "from sklearn.cluster import MiniBatchKMeans"
   ]
  },
  {
   "cell_type": "markdown",
   "id": "74b990b0",
   "metadata": {},
   "source": [
    "#### Inertia Measure\n",
    "- Batch Size = 8, 32, 64, 128"
   ]
  },
  {
   "cell_type": "code",
   "execution_count": null,
   "id": "8e7708e0",
   "metadata": {
    "scrolled": false
   },
   "outputs": [],
   "source": [
    "sse = {}\n",
    "for k in range(1, 10):\n",
    "    kmeans = MiniBatchKMeans(n_clusters=k,random_state=0,batch_size=8, max_iter=100).fit(X_normalized)\n",
    "    df[\"clusters\"] = kmeans.labels_\n",
    "\n",
    "    # Inertia: Sum of distances of samples to their closest cluster center\n",
    "    sse[k] = kmeans.inertia_ \n",
    "\n",
    "fig, ([ax1, ax2], [ax3,ax4]) = plt.subplots(2, 2)\n",
    "fig.set_size_inches(16, 10)\n",
    "ax1.plot(list(sse.keys()), list(sse.values()))\n",
    "ax1.set_xlabel(\"Number of cluster\")\n",
    "ax1.set_ylabel(\"SSE\")\n",
    "ax1.set_title(\"Batch size = 8\")\n",
    "\n",
    "sse = {}\n",
    "for k in range(1, 10):\n",
    "    kmeans = MiniBatchKMeans(n_clusters=k,random_state=0,batch_size=32, max_iter=100).fit(X_normalized)\n",
    "    df[\"clusters\"] = kmeans.labels_\n",
    "\n",
    "    # Inertia: Sum of distances of samples to their closest cluster center\n",
    "    sse[k] = kmeans.inertia_ \n",
    "\n",
    "\n",
    "ax2.plot(list(sse.keys()), list(sse.values()))\n",
    "ax2.set_xlabel(\"Number of cluster\")\n",
    "ax2.set_ylabel(\"SSE\")\n",
    "ax2.set_title(\"Batch size = 32\")\n",
    "\n",
    "\n",
    "sse = {}\n",
    "for k in range(1, 10):\n",
    "    kmeans = MiniBatchKMeans(n_clusters=k,random_state=0,batch_size=64, max_iter=100).fit(X_normalized)\n",
    "    df[\"clusters\"] = kmeans.labels_\n",
    "\n",
    "    # Inertia: Sum of distances of samples to their closest cluster center\n",
    "    sse[k] = kmeans.inertia_ \n",
    "\n",
    "\n",
    "ax3.plot(list(sse.keys()), list(sse.values()))\n",
    "ax3.set_xlabel(\"Number of cluster\")\n",
    "ax3.set_ylabel(\"SSE\")\n",
    "ax3.set_title(\"Batch size = 64\")\n",
    "\n",
    "\n",
    "sse = {}\n",
    "for k in range(1, 10):\n",
    "    kmeans = MiniBatchKMeans(n_clusters=k,random_state=0,batch_size=128, max_iter=100).fit(X_normalized)\n",
    "    df[\"clusters\"] = kmeans.labels_\n",
    "\n",
    "    # Inertia: Sum of distances of samples to their closest cluster center\n",
    "    sse[k] = kmeans.inertia_ \n",
    "\n",
    "\n",
    "ax4.plot(list(sse.keys()), list(sse.values()))\n",
    "ax4.set_xlabel(\"Number of cluster\")\n",
    "ax4.set_ylabel(\"SSE\")\n",
    "ax4.set_title(\"Batch size = 128\")"
   ]
  },
  {
   "cell_type": "markdown",
   "id": "71473665",
   "metadata": {},
   "source": [
    "Note Looking at the inertia measures for different batch sizes we can see that there are elbows at 2, 4 and 8 clusters which is prominent. As we increase the batch size the intertia curve looks very similar to the one we plotted for the Kmeans algorithm.  "
   ]
  },
  {
   "cell_type": "code",
   "execution_count": null,
   "id": "3bfd862d",
   "metadata": {},
   "outputs": [],
   "source": [
    "# using only 10,000 samples \n",
    "number_of_samples = 10000\n",
    "df_sample = df_normalized.sample(number_of_samples, random_state=42)\n",
    "X_sample = df_sample.to_numpy()\n",
    "\n",
    "fig, ([ax1, ax2], [ax3,ax4]) = plt.subplots(2,2,sharex=True, sharey=True)\n",
    "fig.set_size_inches(16, 10)\n",
    "\n",
    "\n",
    "score = {}\n",
    "for k in range(2, 10):\n",
    "    kmeans = MiniBatchKMeans(n_clusters=k,random_state=0,batch_size=8, max_iter=100).fit(df_sample)\n",
    "    labels = kmeans.labels_\n",
    "\n",
    "    score[k] = metrics.silhouette_score(df_sample, labels, metric='euclidean')\n",
    "\n",
    "ax1.plot(list(score.keys()), list(score.values()))\n",
    "ax1.set_xlabel(\"Number of cluster\")\n",
    "ax1.set_ylabel(\"Silhouette\")\n",
    "ax1.set_title(\"Batch size = 8\")\n",
    "\n",
    "score = {}\n",
    "for k in range(2, 10):\n",
    "    kmeans = MiniBatchKMeans(n_clusters=k,random_state=0,batch_size=32, max_iter=100).fit(df_sample)\n",
    "    labels = kmeans.labels_\n",
    "\n",
    "    score[k] = metrics.silhouette_score(df_sample, labels, metric='euclidean')\n",
    "\n",
    "ax2.plot(list(score.keys()), list(score.values()))\n",
    "ax2.set_xlabel(\"Number of cluster\")\n",
    "ax2.set_ylabel(\"Silhouette\")\n",
    "ax2.set_title(\"Batch size = 32\")\n",
    "\n",
    "score = {}\n",
    "for k in range(2, 10):\n",
    "    kmeans = MiniBatchKMeans(n_clusters=k,random_state=0,batch_size=64, max_iter=100).fit(df_sample)\n",
    "    labels = kmeans.labels_\n",
    "\n",
    "    score[k] = metrics.silhouette_score(df_sample, labels, metric='euclidean')\n",
    "\n",
    "ax3.plot(list(score.keys()), list(score.values()))\n",
    "ax3.set_xlabel(\"Number of cluster\")\n",
    "ax3.set_ylabel(\"Silhouette\")\n",
    "ax3.set_title(\"Batch size = 64\")\n",
    "\n",
    "score = {}\n",
    "for k in range(2, 10):\n",
    "    kmeans = MiniBatchKMeans(n_clusters=k,random_state=0,batch_size=128, max_iter=100).fit(df_sample)\n",
    "    labels = kmeans.labels_\n",
    "\n",
    "    score[k] = metrics.silhouette_score(df_sample, labels, metric='euclidean')\n",
    "\n",
    "ax4.plot(list(score.keys()), list(score.values()))\n",
    "ax4.set_xlabel(\"Number of cluster\")\n",
    "ax4.set_ylabel(\"Silhouette\")\n",
    "ax4.set_title(\"Batch size = 124\")\n",
    "\n",
    "plt.xlabel(\"Number of cluster\")\n",
    "plt.ylabel(\"Silhouette\")"
   ]
  },
  {
   "cell_type": "markdown",
   "id": "d2df47ca",
   "metadata": {},
   "source": [
    "Note Looking at the silloutte measures for different batch sizes we can see that 2 , 4 and 7  .which is prominent. As we increase the batch size the intertia curve looks very similar to the one we plotted for the Kmeans algorithm.\n",
    "Based on both Inertia and Siloutte scores cluster size of 2 or 4 is good option."
   ]
  },
  {
   "cell_type": "markdown",
   "id": "e677432a",
   "metadata": {},
   "source": [
    "#### Mini Batch KMeans Models for 4 Clusters "
   ]
  },
  {
   "cell_type": "code",
   "execution_count": null,
   "id": "65695599",
   "metadata": {},
   "outputs": [],
   "source": [
    "# Kmeans Mini batch with 4 clusters\n",
    "# Batch Size = 8\n",
    "kmeans = MiniBatchKMeans(n_clusters=4,random_state=0,batch_size=8, max_iter=100).fit(X_normalized)\n",
    "kmeans.fit(X_normalized)\n",
    "\n",
    "# cluster labels\n",
    "plot_labelled_scatter(X_normalized, kmeans.labels_, ['C1', 'C2','C3','C4'])"
   ]
  },
  {
   "cell_type": "code",
   "execution_count": null,
   "id": "6887a91b",
   "metadata": {},
   "outputs": [],
   "source": [
    "# Kmeans Mini batch with 4 clusters\n",
    "# Batch Size = 32\n",
    "kmeans = MiniBatchKMeans(n_clusters=4,random_state=0,batch_size=32, max_iter=100).fit(X_normalized)\n",
    "kmeans.fit(X_normalized)\n",
    "\n",
    "# cluster labels\n",
    "plot_labelled_scatter(X_normalized, kmeans.labels_, ['C1', 'C2','C3','C4'])"
   ]
  },
  {
   "cell_type": "code",
   "execution_count": null,
   "id": "65848dbc",
   "metadata": {},
   "outputs": [],
   "source": [
    "# Kmeans Mini batch with 4 clusters\n",
    "# Batch Size = 64\n",
    "kmeans = MiniBatchKMeans(n_clusters=4,random_state=0,batch_size=64, max_iter=100).fit(X_normalized)\n",
    "kmeans.fit(X_normalized)\n",
    "\n",
    "# cluster labels\n",
    "plot_labelled_scatter(X_normalized, kmeans.labels_, ['C1', 'C2','C3','C4'])"
   ]
  },
  {
   "cell_type": "code",
   "execution_count": null,
   "id": "d2cc119a",
   "metadata": {},
   "outputs": [],
   "source": [
    "# Kmeans Mini batch with 4 clusters\n",
    "# Batch Size = 128\n",
    "kmeans = MiniBatchKMeans(n_clusters=4,random_state=0,batch_size=128, max_iter=100).fit(X_normalized)\n",
    "kmeans.fit(X_normalized)\n",
    "\n",
    "# cluster labels\n",
    "plot_labelled_scatter(X_normalized, kmeans.labels_, ['C1', 'C2','C3','C4'])"
   ]
  },
  {
   "cell_type": "markdown",
   "id": "67612472",
   "metadata": {},
   "source": [
    "#### Mini Batch KMeans Models Clusters = 2\n",
    "- all models are for two clusters\n",
    "- diffrent batch sizes of 8,32,64 and 128\n",
    "- comparing the generated labels with known labels"
   ]
  },
  {
   "cell_type": "code",
   "execution_count": null,
   "id": "f531fc83",
   "metadata": {},
   "outputs": [],
   "source": [
    "# Kmeans Mini batch with 2 clusters\n",
    "kmeans = MiniBatchKMeans(n_clusters=2,random_state=0,batch_size=8, max_iter=100).fit(X_normalized)\n",
    "kmeans.fit(X_normalized)\n",
    "\n",
    "# cluster labels\n",
    "plot_labelled_scatter(X_normalized, kmeans.labels_, ['C1', 'C2'])\n",
    "\n",
    "# using actual target labels\n",
    "plot_labelled_scatter(X_normalized, y_df.to_numpy(), ['C1', 'C2'])"
   ]
  },
  {
   "cell_type": "code",
   "execution_count": null,
   "id": "38189b4a",
   "metadata": {},
   "outputs": [],
   "source": [
    "# find similarity between the labels\n",
    "df_temp = pd.DataFrame(kmeans.labels_, columns=[\"Cluster_Labels\"] )\n",
    "df_similarity = pd.concat([y_df.reset_index(drop=True), df_temp.reset_index(drop=True)], axis= 1)\n",
    "same = df_similarity.loc[df_similarity['Diabetes'] == df_similarity['Cluster_Labels'],:]\n",
    "total_correct = same.shape[0]/df_similarity.shape[0]*100\n",
    "print(\"The percentage of datapoints that were in the cluster with similar label to known label\", total_correct)"
   ]
  },
  {
   "cell_type": "code",
   "execution_count": null,
   "id": "446f7512",
   "metadata": {},
   "outputs": [],
   "source": [
    "correct_positive =  df_similarity.loc[(df_similarity['Diabetes'] == df_similarity['Cluster_Labels'])&(df_similarity['Diabetes'] == 1) ,:]\n",
    "total_known_positive = df_similarity.loc[df_similarity['Diabetes'] == 1 ,:]\n",
    "percentage_positive = correct_positive.shape[0]/total_known_positive.shape[0]\n",
    "print(\"Total Percentage of positive over actuals\", percentage_positive)"
   ]
  },
  {
   "cell_type": "code",
   "execution_count": null,
   "id": "7a38a8c7",
   "metadata": {},
   "outputs": [],
   "source": [
    "# Kmeans Mini batch with 2 clusters\n",
    "kmeans = MiniBatchKMeans(n_clusters=2,random_state=0,batch_size=32, max_iter=100).fit(X_normalized)\n",
    "kmeans.fit(X_normalized)\n",
    "\n",
    "# cluster labels\n",
    "plot_labelled_scatter(X_normalized, kmeans.labels_, ['C1', 'C2'])\n",
    "\n",
    "# using actual target labels\n",
    "plot_labelled_scatter(X_normalized, y_df.to_numpy(), ['C1', 'C2'])"
   ]
  },
  {
   "cell_type": "code",
   "execution_count": null,
   "id": "d9a0da37",
   "metadata": {},
   "outputs": [],
   "source": [
    "# find similarity between the labels\n",
    "df_temp = pd.DataFrame(kmeans.labels_, columns=[\"Cluster_Labels\"] )\n",
    "df_similarity = pd.concat([y_df.reset_index(drop=True), df_temp.reset_index(drop=True)], axis= 1)\n",
    "same = df_similarity.loc[df_similarity['Diabetes'] == df_similarity['Cluster_Labels'],:]\n",
    "total_correct = same.shape[0]/df_similarity.shape[0]*100\n",
    "print(\"The percentage of datapoints that were in the cluster with similar label to known label\", total_correct)"
   ]
  },
  {
   "cell_type": "code",
   "execution_count": null,
   "id": "a292e190",
   "metadata": {},
   "outputs": [],
   "source": [
    "correct_positive =  df_similarity.loc[(df_similarity['Diabetes'] == df_similarity['Cluster_Labels'])&(df_similarity['Diabetes'] == 1) ,:]\n",
    "total_known_positive = df_similarity.loc[df_similarity['Diabetes'] == 1 ,:]\n",
    "percentage_positive = correct_positive.shape[0]/total_known_positive.shape[0]\n",
    "print(\"Total Percentage of positive over actuals\", percentage_positive)"
   ]
  },
  {
   "cell_type": "code",
   "execution_count": null,
   "id": "6e707de0",
   "metadata": {},
   "outputs": [],
   "source": [
    "# Kmeans Mini batch with 2 clusters\n",
    "kmeans = MiniBatchKMeans(n_clusters=2,random_state=0,batch_size=64, max_iter=100).fit(X_normalized)\n",
    "kmeans.fit(X_normalized)\n",
    "\n",
    "# cluster labels\n",
    "plot_labelled_scatter(X_normalized, kmeans.labels_, ['C1', 'C2'])\n",
    "\n",
    "# using actual target labels\n",
    "plot_labelled_scatter(X_normalized, y_df.to_numpy(), ['C1', 'C2'])"
   ]
  },
  {
   "cell_type": "code",
   "execution_count": null,
   "id": "26e6b006",
   "metadata": {},
   "outputs": [],
   "source": [
    "# find similarity between the labels\n",
    "df_temp = pd.DataFrame(kmeans.labels_, columns=[\"Cluster_Labels\"] )\n",
    "df_similarity = pd.concat([y_df.reset_index(drop=True), df_temp.reset_index(drop=True)], axis= 1)\n",
    "same = df_similarity.loc[df_similarity['Diabetes'] == df_similarity['Cluster_Labels'],:]\n",
    "total_correct = same.shape[0]/df_similarity.shape[0]*100\n",
    "print(\"The percentage of datapoints that were in the cluster with similar label to known label\", total_correct)"
   ]
  },
  {
   "cell_type": "markdown",
   "id": "437c1465",
   "metadata": {},
   "source": [
    "Note: 34.40 here the cluster labels might be inverted vis a vis the actual labels. So We will recalculate the similarity by flipping cluster label 0 to 1 and 1 to 0. "
   ]
  },
  {
   "cell_type": "code",
   "execution_count": null,
   "id": "51fdcc81",
   "metadata": {},
   "outputs": [],
   "source": [
    "df_similarity['Cluster_Labels'].value_counts()"
   ]
  },
  {
   "cell_type": "code",
   "execution_count": null,
   "id": "10f816fa",
   "metadata": {},
   "outputs": [],
   "source": [
    "df_similarity['Flipped_cluster_label'] = 0\n",
    "df_similarity.loc[df_similarity['Cluster_Labels']==0,'Flipped_cluster_label'] = 1\n",
    "df_similarity.head()"
   ]
  },
  {
   "cell_type": "code",
   "execution_count": null,
   "id": "05eb07c8",
   "metadata": {},
   "outputs": [],
   "source": [
    "same = df_similarity.loc[df_similarity['Diabetes'] == df_similarity['Flipped_cluster_label'],:]\n",
    "total_correct = same.shape[0]/df_similarity.shape[0]*100\n",
    "print(\"The percentage of datapoints that were in the cluster with similar label to known label\", total_correct)"
   ]
  },
  {
   "cell_type": "code",
   "execution_count": null,
   "id": "580a275c",
   "metadata": {},
   "outputs": [],
   "source": [
    "correct_positive =  df_similarity.loc[(df_similarity['Diabetes'] == df_similarity['Flipped_cluster_label'])&(df_similarity['Diabetes'] == 1) ,:]\n",
    "total_known_positive = df_similarity.loc[df_similarity['Diabetes'] == 1 ,:]\n",
    "percentage_positive = correct_positive.shape[0]/total_known_positive.shape[0]\n",
    "print(\"Total Percentage of positive over actuals\", percentage_positive)"
   ]
  },
  {
   "cell_type": "code",
   "execution_count": null,
   "id": "79c82223",
   "metadata": {},
   "outputs": [],
   "source": [
    "# Kmeans Mini batch with 2 clusters\n",
    "kmeans = MiniBatchKMeans(n_clusters=2,random_state=0,batch_size=128, max_iter=100).fit(X_normalized)\n",
    "kmeans.fit(X_normalized)\n",
    "\n",
    "# cluster labels\n",
    "plot_labelled_scatter(X_normalized, kmeans.labels_, ['C1', 'C2'])\n",
    "\n",
    "# using actual target labels\n",
    "plot_labelled_scatter(X_normalized, y_df.to_numpy(), ['C1', 'C2'])"
   ]
  },
  {
   "cell_type": "code",
   "execution_count": null,
   "id": "02b9e85d",
   "metadata": {},
   "outputs": [],
   "source": [
    "# find similarity between the labels\n",
    "df_temp = pd.DataFrame(kmeans.labels_, columns=[\"Cluster_Labels\"] )\n",
    "df_similarity = pd.concat([y_df.reset_index(drop=True), df_temp.reset_index(drop=True)], axis= 1)\n",
    "same = df_similarity.loc[df_similarity['Diabetes'] == df_similarity['Cluster_Labels'],:]\n",
    "total_correct = same.shape[0]/df_similarity.shape[0]*100\n",
    "print(\"The percentage of datapoints that were in the cluster with similar label to known label\", total_correct)"
   ]
  },
  {
   "cell_type": "code",
   "execution_count": null,
   "id": "4b386c9a",
   "metadata": {},
   "outputs": [],
   "source": [
    "correct_positive =  df_similarity.loc[(df_similarity['Diabetes'] == df_similarity['Cluster_Labels'])&(df_similarity['Diabetes'] == 1) ,:]\n",
    "total_known_positive = df_similarity.loc[df_similarity['Diabetes'] == 1 ,:]\n",
    "percentage_positive = correct_positive.shape[0]/total_known_positive.shape[0]\n",
    "print(\"Total Percentage of positive over actuals\", percentage_positive)"
   ]
  },
  {
   "cell_type": "markdown",
   "id": "4c586de4",
   "metadata": {},
   "source": [
    "Note: Looking at the above similarities. Kmeans Mini Batch with Batch Size = 32 is doing a fairly good job at making the clusters. The clusters have some relation to the traget labels . At least 71 % corresponding labels and 65% pick up of label = 1 (we are more interested in positive labels).  "
   ]
  }
 ],
 "metadata": {
  "kernelspec": {
   "display_name": "Python 3",
   "language": "python",
   "name": "python3"
  },
  "language_info": {
   "codemirror_mode": {
    "name": "ipython",
    "version": 3
   },
   "file_extension": ".py",
   "mimetype": "text/x-python",
   "name": "python",
   "nbconvert_exporter": "python",
   "pygments_lexer": "ipython3",
   "version": "3.8.8"
  }
 },
 "nbformat": 4,
 "nbformat_minor": 5
}
